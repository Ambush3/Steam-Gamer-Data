{
 "cells": [
  {
   "cell_type": "code",
   "execution_count": 2,
   "metadata": {
    "collapsed": true
   },
   "outputs": [],
   "source": [
    "import matplotlib_inline\n",
    "import pandas as pd \n",
    "import matplotlib.pyplot as plt \n",
    "import seaborn as sns \n",
    "import numpy as np\n",
    "import folium"
   ]
  },
  {
   "cell_type": "code",
   "execution_count": 3,
   "metadata": {
    "collapsed": false,
    "pycharm": {
     "name": "#%%\n"
    }
   },
   "outputs": [
    {
     "data": {
      "text/html": [
       "<div>\n",
       "<style scoped>\n",
       "    .dataframe tbody tr th:only-of-type {\n",
       "        vertical-align: middle;\n",
       "    }\n",
       "\n",
       "    .dataframe tbody tr th {\n",
       "        vertical-align: top;\n",
       "    }\n",
       "\n",
       "    .dataframe thead th {\n",
       "        text-align: right;\n",
       "    }\n",
       "</style>\n",
       "<table border=\"1\" class=\"dataframe\">\n",
       "  <thead>\n",
       "    <tr style=\"text-align: right;\">\n",
       "      <th></th>\n",
       "      <th>Month_Year</th>\n",
       "      <th>Avg_players</th>\n",
       "      <th>Gain</th>\n",
       "      <th>Percent_Gain</th>\n",
       "      <th>Peak_Players</th>\n",
       "      <th>URL</th>\n",
       "      <th>Date</th>\n",
       "      <th>Game_Name</th>\n",
       "    </tr>\n",
       "  </thead>\n",
       "  <tbody>\n",
       "    <tr>\n",
       "      <th>0</th>\n",
       "      <td>September 2021</td>\n",
       "      <td>512350.92</td>\n",
       "      <td>268.96</td>\n",
       "      <td>+0.05%</td>\n",
       "      <td>942519</td>\n",
       "      <td>https://steamcharts.com/app/730</td>\n",
       "      <td>2021-09-01</td>\n",
       "      <td>Counter Strike: Global Offensive</td>\n",
       "    </tr>\n",
       "    <tr>\n",
       "      <th>1</th>\n",
       "      <td>August 2021</td>\n",
       "      <td>512081.96</td>\n",
       "      <td>6014.60</td>\n",
       "      <td>+1.19%</td>\n",
       "      <td>802544</td>\n",
       "      <td>https://steamcharts.com/app/730</td>\n",
       "      <td>2021-08-01</td>\n",
       "      <td>Counter Strike: Global Offensive</td>\n",
       "    </tr>\n",
       "    <tr>\n",
       "      <th>2</th>\n",
       "      <td>July 2021</td>\n",
       "      <td>506067.36</td>\n",
       "      <td>-43279.72</td>\n",
       "      <td>-7.88%</td>\n",
       "      <td>763523</td>\n",
       "      <td>https://steamcharts.com/app/730</td>\n",
       "      <td>2021-07-01</td>\n",
       "      <td>Counter Strike: Global Offensive</td>\n",
       "    </tr>\n",
       "    <tr>\n",
       "      <th>3</th>\n",
       "      <td>June 2021</td>\n",
       "      <td>549347.08</td>\n",
       "      <td>-110541.81</td>\n",
       "      <td>-16.75%</td>\n",
       "      <td>929940</td>\n",
       "      <td>https://steamcharts.com/app/730</td>\n",
       "      <td>2021-06-01</td>\n",
       "      <td>Counter Strike: Global Offensive</td>\n",
       "    </tr>\n",
       "    <tr>\n",
       "      <th>4</th>\n",
       "      <td>May 2021</td>\n",
       "      <td>659888.89</td>\n",
       "      <td>-63457.63</td>\n",
       "      <td>-8.77%</td>\n",
       "      <td>1087197</td>\n",
       "      <td>https://steamcharts.com/app/730</td>\n",
       "      <td>2021-05-01</td>\n",
       "      <td>Counter Strike: Global Offensive</td>\n",
       "    </tr>\n",
       "  </tbody>\n",
       "</table>\n",
       "</div>"
      ],
      "text/plain": [
       "       Month_Year  Avg_players       Gain Percent_Gain  Peak_Players  \\\n",
       "0  September 2021    512350.92     268.96       +0.05%        942519   \n",
       "1     August 2021    512081.96    6014.60       +1.19%        802544   \n",
       "2       July 2021    506067.36  -43279.72       -7.88%        763523   \n",
       "3       June 2021    549347.08 -110541.81      -16.75%        929940   \n",
       "4        May 2021    659888.89  -63457.63       -8.77%       1087197   \n",
       "\n",
       "                               URL        Date  \\\n",
       "0  https://steamcharts.com/app/730  2021-09-01   \n",
       "1  https://steamcharts.com/app/730  2021-08-01   \n",
       "2  https://steamcharts.com/app/730  2021-07-01   \n",
       "3  https://steamcharts.com/app/730  2021-06-01   \n",
       "4  https://steamcharts.com/app/730  2021-05-01   \n",
       "\n",
       "                          Game_Name  \n",
       "0  Counter Strike: Global Offensive  \n",
       "1  Counter Strike: Global Offensive  \n",
       "2  Counter Strike: Global Offensive  \n",
       "3  Counter Strike: Global Offensive  \n",
       "4  Counter Strike: Global Offensive  "
      ]
     },
     "execution_count": 3,
     "metadata": {},
     "output_type": "execute_result"
    }
   ],
   "source": [
    "sd = pd.read_csv('F:/PyCharm/Data Visualization/Steam Data/Valve_Player_Data.csv')\n",
    "sd.head()"
   ]
  },
  {
   "cell_type": "code",
   "execution_count": 4,
   "metadata": {
    "collapsed": false,
    "pycharm": {
     "name": "#%%\n"
    }
   },
   "outputs": [
    {
     "name": "stdout",
     "output_type": "stream",
     "text": [
      "<class 'pandas.core.frame.DataFrame'>\n",
      "RangeIndex: 5271 entries, 0 to 5270\n",
      "Data columns (total 8 columns):\n",
      " #   Column        Non-Null Count  Dtype  \n",
      "---  ------        --------------  -----  \n",
      " 0   Month_Year    5271 non-null   object \n",
      " 1   Avg_players   5271 non-null   float64\n",
      " 2   Gain          5173 non-null   float64\n",
      " 3   Percent_Gain  5173 non-null   object \n",
      " 4   Peak_Players  5271 non-null   int64  \n",
      " 5   URL           5271 non-null   object \n",
      " 6   Date          5271 non-null   object \n",
      " 7   Game_Name     5271 non-null   object \n",
      "dtypes: float64(2), int64(1), object(5)\n",
      "memory usage: 329.6+ KB\n"
     ]
    }
   ],
   "source": [
    "sd.info()"
   ]
  },
  {
   "cell_type": "code",
   "execution_count": 5,
   "metadata": {},
   "outputs": [
    {
     "data": {
      "text/html": [
       "<div>\n",
       "<style scoped>\n",
       "    .dataframe tbody tr th:only-of-type {\n",
       "        vertical-align: middle;\n",
       "    }\n",
       "\n",
       "    .dataframe tbody tr th {\n",
       "        vertical-align: top;\n",
       "    }\n",
       "\n",
       "    .dataframe thead th {\n",
       "        text-align: right;\n",
       "    }\n",
       "</style>\n",
       "<table border=\"1\" class=\"dataframe\">\n",
       "  <thead>\n",
       "    <tr style=\"text-align: right;\">\n",
       "      <th></th>\n",
       "      <th>Avg_players</th>\n",
       "      <th>Gain</th>\n",
       "      <th>Peak_Players</th>\n",
       "    </tr>\n",
       "  </thead>\n",
       "  <tbody>\n",
       "    <tr>\n",
       "      <th>count</th>\n",
       "      <td>5.271000e+03</td>\n",
       "      <td>5173.000000</td>\n",
       "      <td>5.271000e+03</td>\n",
       "    </tr>\n",
       "    <tr>\n",
       "      <th>mean</th>\n",
       "      <td>3.763149e+04</td>\n",
       "      <td>92.071786</td>\n",
       "      <td>7.032072e+04</td>\n",
       "    </tr>\n",
       "    <tr>\n",
       "      <th>std</th>\n",
       "      <td>1.032951e+05</td>\n",
       "      <td>15161.864515</td>\n",
       "      <td>1.941948e+05</td>\n",
       "    </tr>\n",
       "    <tr>\n",
       "      <th>min</th>\n",
       "      <td>0.000000e+00</td>\n",
       "      <td>-250248.990000</td>\n",
       "      <td>0.000000e+00</td>\n",
       "    </tr>\n",
       "    <tr>\n",
       "      <th>25%</th>\n",
       "      <td>6.720205e+03</td>\n",
       "      <td>-1374.480000</td>\n",
       "      <td>1.302900e+04</td>\n",
       "    </tr>\n",
       "    <tr>\n",
       "      <th>50%</th>\n",
       "      <td>1.235840e+04</td>\n",
       "      <td>-0.080000</td>\n",
       "      <td>2.344700e+04</td>\n",
       "    </tr>\n",
       "    <tr>\n",
       "      <th>75%</th>\n",
       "      <td>2.414976e+04</td>\n",
       "      <td>1255.140000</td>\n",
       "      <td>4.610150e+04</td>\n",
       "    </tr>\n",
       "    <tr>\n",
       "      <th>max</th>\n",
       "      <td>1.584887e+06</td>\n",
       "      <td>426446.120000</td>\n",
       "      <td>3.236027e+06</td>\n",
       "    </tr>\n",
       "  </tbody>\n",
       "</table>\n",
       "</div>"
      ],
      "text/plain": [
       "        Avg_players           Gain  Peak_Players\n",
       "count  5.271000e+03    5173.000000  5.271000e+03\n",
       "mean   3.763149e+04      92.071786  7.032072e+04\n",
       "std    1.032951e+05   15161.864515  1.941948e+05\n",
       "min    0.000000e+00 -250248.990000  0.000000e+00\n",
       "25%    6.720205e+03   -1374.480000  1.302900e+04\n",
       "50%    1.235840e+04      -0.080000  2.344700e+04\n",
       "75%    2.414976e+04    1255.140000  4.610150e+04\n",
       "max    1.584887e+06  426446.120000  3.236027e+06"
      ]
     },
     "execution_count": 5,
     "metadata": {},
     "output_type": "execute_result"
    }
   ],
   "source": [
    "sd.describe()"
   ]
  },
  {
   "cell_type": "code",
   "execution_count": 7,
   "metadata": {},
   "outputs": [
    {
     "data": {
      "text/plain": [
       "Index(['Month_Year', 'Avg_players', 'Gain', 'Percent_Gain', 'Peak_Players',\n",
       "       'URL', 'Date', 'Game_Name'],\n",
       "      dtype='object')"
      ]
     },
     "execution_count": 7,
     "metadata": {},
     "output_type": "execute_result"
    }
   ],
   "source": [
    "sd.columns"
   ]
  },
  {
   "cell_type": "code",
   "execution_count": 9,
   "metadata": {},
   "outputs": [
    {
     "data": {
      "text/plain": [
       "Month_Year       0\n",
       "Avg_players      0\n",
       "Gain            98\n",
       "Percent_Gain    98\n",
       "Peak_Players     0\n",
       "URL              0\n",
       "Date             0\n",
       "Game_Name        0\n",
       "dtype: int64"
      ]
     },
     "execution_count": 9,
     "metadata": {},
     "output_type": "execute_result"
    }
   ],
   "source": [
    "sd.isna().sum()"
   ]
  },
  {
   "cell_type": "code",
   "execution_count": 13,
   "metadata": {},
   "outputs": [],
   "source": [
    "data_clean = sd\n",
    "\n",
    "data_clean.replace('<nan>', np.nan, inplace=True)\n"
   ]
  },
  {
   "cell_type": "code",
   "execution_count": 49,
   "metadata": {},
   "outputs": [
    {
     "data": {
      "text/html": [
       "<div>\n",
       "<style scoped>\n",
       "    .dataframe tbody tr th:only-of-type {\n",
       "        vertical-align: middle;\n",
       "    }\n",
       "\n",
       "    .dataframe tbody tr th {\n",
       "        vertical-align: top;\n",
       "    }\n",
       "\n",
       "    .dataframe thead th {\n",
       "        text-align: right;\n",
       "    }\n",
       "</style>\n",
       "<table border=\"1\" class=\"dataframe\">\n",
       "  <thead>\n",
       "    <tr style=\"text-align: right;\">\n",
       "      <th></th>\n",
       "      <th>Game_Name</th>\n",
       "      <th>Avg_players</th>\n",
       "    </tr>\n",
       "  </thead>\n",
       "  <tbody>\n",
       "    <tr>\n",
       "      <th>24</th>\n",
       "      <td>Dota 2</td>\n",
       "      <td>451064.796937</td>\n",
       "    </tr>\n",
       "    <tr>\n",
       "      <th>56</th>\n",
       "      <td>PUBG: Battlegrounds</td>\n",
       "      <td>443975.256545</td>\n",
       "    </tr>\n",
       "    <tr>\n",
       "      <th>14</th>\n",
       "      <td>Counter Strike: Global Offensive</td>\n",
       "      <td>327054.718829</td>\n",
       "    </tr>\n",
       "    <tr>\n",
       "      <th>3</th>\n",
       "      <td>Apex Legends</td>\n",
       "      <td>120382.517273</td>\n",
       "    </tr>\n",
       "    <tr>\n",
       "      <th>88</th>\n",
       "      <td>Valheim</td>\n",
       "      <td>72749.180000</td>\n",
       "    </tr>\n",
       "    <tr>\n",
       "      <th>21</th>\n",
       "      <td>Destiny 2</td>\n",
       "      <td>70873.839167</td>\n",
       "    </tr>\n",
       "    <tr>\n",
       "      <th>41</th>\n",
       "      <td>Grand Theft Auto V</td>\n",
       "      <td>66853.732821</td>\n",
       "    </tr>\n",
       "    <tr>\n",
       "      <th>49</th>\n",
       "      <td>NARAKA: BLADEPOINT</td>\n",
       "      <td>59720.200000</td>\n",
       "    </tr>\n",
       "    <tr>\n",
       "      <th>76</th>\n",
       "      <td>Team Fortress 2</td>\n",
       "      <td>55087.743243</td>\n",
       "    </tr>\n",
       "    <tr>\n",
       "      <th>83</th>\n",
       "      <td>Tom Clancy's Rainbow Six Seige</td>\n",
       "      <td>53576.636000</td>\n",
       "    </tr>\n",
       "  </tbody>\n",
       "</table>\n",
       "</div>"
      ],
      "text/plain": [
       "                           Game_Name    Avg_players\n",
       "24                            Dota 2  451064.796937\n",
       "56               PUBG: Battlegrounds  443975.256545\n",
       "14  Counter Strike: Global Offensive  327054.718829\n",
       "3                       Apex Legends  120382.517273\n",
       "88                           Valheim   72749.180000\n",
       "21                         Destiny 2   70873.839167\n",
       "41                Grand Theft Auto V   66853.732821\n",
       "49                NARAKA: BLADEPOINT   59720.200000\n",
       "76                   Team Fortress 2   55087.743243\n",
       "83    Tom Clancy's Rainbow Six Seige   53576.636000"
      ]
     },
     "execution_count": 49,
     "metadata": {},
     "output_type": "execute_result"
    }
   ],
   "source": [
    "# Grouping Games by Average Players\n",
    "\n",
    "sd1 = data_clean.groupby('Game_Name', as_index=False, sort=True)[\n",
    "    'Avg_players'].mean()\n",
    "sd1 = sd1.sort_values('Avg_players', ascending=False)\n",
    "sd1.head(10)\n"
   ]
  },
  {
   "cell_type": "code",
   "execution_count": 51,
   "metadata": {},
   "outputs": [
    {
     "name": "stdout",
     "output_type": "stream",
     "text": [
      "None\n"
     ]
    }
   ],
   "source": [
    "sd2 = print(sd1.head(10).to_csv(\"sd1.csv\"))\n"
   ]
  },
  {
   "cell_type": "code",
   "execution_count": 52,
   "metadata": {},
   "outputs": [
    {
     "data": {
      "text/html": [
       "<div>\n",
       "<style scoped>\n",
       "    .dataframe tbody tr th:only-of-type {\n",
       "        vertical-align: middle;\n",
       "    }\n",
       "\n",
       "    .dataframe tbody tr th {\n",
       "        vertical-align: top;\n",
       "    }\n",
       "\n",
       "    .dataframe thead th {\n",
       "        text-align: right;\n",
       "    }\n",
       "</style>\n",
       "<table border=\"1\" class=\"dataframe\">\n",
       "  <thead>\n",
       "    <tr style=\"text-align: right;\">\n",
       "      <th></th>\n",
       "      <th>Unnamed: 0</th>\n",
       "      <th>Game_Name</th>\n",
       "      <th>Avg_players</th>\n",
       "    </tr>\n",
       "  </thead>\n",
       "  <tbody>\n",
       "    <tr>\n",
       "      <th>0</th>\n",
       "      <td>24</td>\n",
       "      <td>Dota 2</td>\n",
       "      <td>451064.796937</td>\n",
       "    </tr>\n",
       "    <tr>\n",
       "      <th>1</th>\n",
       "      <td>56</td>\n",
       "      <td>PUBG: Battlegrounds</td>\n",
       "      <td>443975.256545</td>\n",
       "    </tr>\n",
       "    <tr>\n",
       "      <th>2</th>\n",
       "      <td>14</td>\n",
       "      <td>Counter Strike: Global Offensive</td>\n",
       "      <td>327054.718829</td>\n",
       "    </tr>\n",
       "    <tr>\n",
       "      <th>3</th>\n",
       "      <td>3</td>\n",
       "      <td>Apex Legends</td>\n",
       "      <td>120382.517273</td>\n",
       "    </tr>\n",
       "    <tr>\n",
       "      <th>4</th>\n",
       "      <td>88</td>\n",
       "      <td>Valheim</td>\n",
       "      <td>72749.180000</td>\n",
       "    </tr>\n",
       "    <tr>\n",
       "      <th>5</th>\n",
       "      <td>21</td>\n",
       "      <td>Destiny 2</td>\n",
       "      <td>70873.839167</td>\n",
       "    </tr>\n",
       "    <tr>\n",
       "      <th>6</th>\n",
       "      <td>41</td>\n",
       "      <td>Grand Theft Auto V</td>\n",
       "      <td>66853.732821</td>\n",
       "    </tr>\n",
       "    <tr>\n",
       "      <th>7</th>\n",
       "      <td>49</td>\n",
       "      <td>NARAKA: BLADEPOINT</td>\n",
       "      <td>59720.200000</td>\n",
       "    </tr>\n",
       "    <tr>\n",
       "      <th>8</th>\n",
       "      <td>76</td>\n",
       "      <td>Team Fortress 2</td>\n",
       "      <td>55087.743243</td>\n",
       "    </tr>\n",
       "    <tr>\n",
       "      <th>9</th>\n",
       "      <td>83</td>\n",
       "      <td>Tom Clancy's Rainbow Six Seige</td>\n",
       "      <td>53576.636000</td>\n",
       "    </tr>\n",
       "  </tbody>\n",
       "</table>\n",
       "</div>"
      ],
      "text/plain": [
       "   Unnamed: 0                         Game_Name    Avg_players\n",
       "0          24                            Dota 2  451064.796937\n",
       "1          56               PUBG: Battlegrounds  443975.256545\n",
       "2          14  Counter Strike: Global Offensive  327054.718829\n",
       "3           3                      Apex Legends  120382.517273\n",
       "4          88                           Valheim   72749.180000\n",
       "5          21                         Destiny 2   70873.839167\n",
       "6          41                Grand Theft Auto V   66853.732821\n",
       "7          49                NARAKA: BLADEPOINT   59720.200000\n",
       "8          76                   Team Fortress 2   55087.743243\n",
       "9          83    Tom Clancy's Rainbow Six Seige   53576.636000"
      ]
     },
     "execution_count": 52,
     "metadata": {},
     "output_type": "execute_result"
    }
   ],
   "source": [
    "sd2 = pd.read_csv('sd1.csv')\n",
    "sd2"
   ]
  },
  {
   "cell_type": "code",
   "execution_count": 61,
   "metadata": {},
   "outputs": [
    {
     "data": {
      "text/plain": [
       "[Text(0, 0, 'Dota 2'),\n",
       " Text(1, 0, 'PUBG: Battlegrounds'),\n",
       " Text(2, 0, 'Counter Strike: Global Offensive'),\n",
       " Text(3, 0, 'Apex Legends'),\n",
       " Text(4, 0, 'Valheim'),\n",
       " Text(5, 0, 'Destiny 2'),\n",
       " Text(6, 0, 'Grand Theft Auto V'),\n",
       " Text(7, 0, 'NARAKA: BLADEPOINT'),\n",
       " Text(8, 0, 'Team Fortress 2'),\n",
       " Text(9, 0, \"Tom Clancy's Rainbow Six Seige\")]"
      ]
     },
     "execution_count": 61,
     "metadata": {},
     "output_type": "execute_result"
    },
    {
     "data": {
      "image/png": "[encoded data removed]",
      "text/plain": [
       "<Figure size 1080x576 with 1 Axes>"
      ]
     },
     "metadata": {
      "needs_background": "light"
     },
     "output_type": "display_data"
    }
   ],
   "source": [
    "plt.figure(figsize=(15, 8))\n",
    "ax = sns.barplot(x='Game_Name', y='Avg_players', data=sd2)\n",
    "ax.set_xticklabels(ax.get_xticklabels(), rotation=45)"
   ]
  },
  {
   "cell_type": "code",
   "execution_count": 66,
   "metadata": {},
   "outputs": [
    {
     "data": {
      "text/html": [
       "<div>\n",
       "<style scoped>\n",
       "    .dataframe tbody tr th:only-of-type {\n",
       "        vertical-align: middle;\n",
       "    }\n",
       "\n",
       "    .dataframe tbody tr th {\n",
       "        vertical-align: top;\n",
       "    }\n",
       "\n",
       "    .dataframe thead th {\n",
       "        text-align: right;\n",
       "    }\n",
       "</style>\n",
       "<table border=\"1\" class=\"dataframe\">\n",
       "  <thead>\n",
       "    <tr style=\"text-align: right;\">\n",
       "      <th></th>\n",
       "      <th>Game_Name</th>\n",
       "      <th>Peak_Players</th>\n",
       "    </tr>\n",
       "  </thead>\n",
       "  <tbody>\n",
       "    <tr>\n",
       "      <th>56</th>\n",
       "      <td>PUBG: Battlegrounds</td>\n",
       "      <td>981942.218182</td>\n",
       "    </tr>\n",
       "    <tr>\n",
       "      <th>24</th>\n",
       "      <td>Dota 2</td>\n",
       "      <td>778195.684685</td>\n",
       "    </tr>\n",
       "    <tr>\n",
       "      <th>14</th>\n",
       "      <td>Counter Strike: Global Offensive</td>\n",
       "      <td>571940.351351</td>\n",
       "    </tr>\n",
       "    <tr>\n",
       "      <th>3</th>\n",
       "      <td>Apex Legends</td>\n",
       "      <td>224168.636364</td>\n",
       "    </tr>\n",
       "    <tr>\n",
       "      <th>88</th>\n",
       "      <td>Valheim</td>\n",
       "      <td>169346.375000</td>\n",
       "    </tr>\n",
       "    <tr>\n",
       "      <th>49</th>\n",
       "      <td>NARAKA: BLADEPOINT</td>\n",
       "      <td>144674.000000</td>\n",
       "    </tr>\n",
       "    <tr>\n",
       "      <th>21</th>\n",
       "      <td>Destiny 2</td>\n",
       "      <td>136868.250000</td>\n",
       "    </tr>\n",
       "    <tr>\n",
       "      <th>41</th>\n",
       "      <td>Grand Theft Auto V</td>\n",
       "      <td>130186.115385</td>\n",
       "    </tr>\n",
       "    <tr>\n",
       "      <th>17</th>\n",
       "      <td>Cyberpunk 2077</td>\n",
       "      <td>124327.100000</td>\n",
       "    </tr>\n",
       "    <tr>\n",
       "      <th>83</th>\n",
       "      <td>Tom Clancy's Rainbow Six Seige</td>\n",
       "      <td>100632.471429</td>\n",
       "    </tr>\n",
       "  </tbody>\n",
       "</table>\n",
       "</div>"
      ],
      "text/plain": [
       "                           Game_Name   Peak_Players\n",
       "56               PUBG: Battlegrounds  981942.218182\n",
       "24                            Dota 2  778195.684685\n",
       "14  Counter Strike: Global Offensive  571940.351351\n",
       "3                       Apex Legends  224168.636364\n",
       "88                           Valheim  169346.375000\n",
       "49                NARAKA: BLADEPOINT  144674.000000\n",
       "21                         Destiny 2  136868.250000\n",
       "41                Grand Theft Auto V  130186.115385\n",
       "17                    Cyberpunk 2077  124327.100000\n",
       "83    Tom Clancy's Rainbow Six Seige  100632.471429"
      ]
     },
     "execution_count": 66,
     "metadata": {},
     "output_type": "execute_result"
    }
   ],
   "source": [
    "sd3 = data_clean.groupby('Game_Name', as_index=False, sort=True)[\n",
    "    'Peak_Players'].mean()\n",
    "sd3 = sd3.sort_values('Peak_Players', ascending=False)\n",
    "sd3.head(10)\n"
   ]
  },
  {
   "cell_type": "code",
   "execution_count": 69,
   "metadata": {},
   "outputs": [
    {
     "name": "stdout",
     "output_type": "stream",
     "text": [
      "None\n"
     ]
    }
   ],
   "source": [
    "print(sd3.head(10).to_csv(\"sd3.csv\"))"
   ]
  },
  {
   "cell_type": "code",
   "execution_count": 72,
   "metadata": {},
   "outputs": [
    {
     "data": {
      "text/html": [
       "<div>\n",
       "<style scoped>\n",
       "    .dataframe tbody tr th:only-of-type {\n",
       "        vertical-align: middle;\n",
       "    }\n",
       "\n",
       "    .dataframe tbody tr th {\n",
       "        vertical-align: top;\n",
       "    }\n",
       "\n",
       "    .dataframe thead th {\n",
       "        text-align: right;\n",
       "    }\n",
       "</style>\n",
       "<table border=\"1\" class=\"dataframe\">\n",
       "  <thead>\n",
       "    <tr style=\"text-align: right;\">\n",
       "      <th></th>\n",
       "      <th>Unnamed: 0</th>\n",
       "      <th>Game_Name</th>\n",
       "      <th>Peak_Players</th>\n",
       "    </tr>\n",
       "  </thead>\n",
       "  <tbody>\n",
       "    <tr>\n",
       "      <th>0</th>\n",
       "      <td>56</td>\n",
       "      <td>PUBG: Battlegrounds</td>\n",
       "      <td>981942.218182</td>\n",
       "    </tr>\n",
       "    <tr>\n",
       "      <th>1</th>\n",
       "      <td>24</td>\n",
       "      <td>Dota 2</td>\n",
       "      <td>778195.684685</td>\n",
       "    </tr>\n",
       "    <tr>\n",
       "      <th>2</th>\n",
       "      <td>14</td>\n",
       "      <td>Counter Strike: Global Offensive</td>\n",
       "      <td>571940.351351</td>\n",
       "    </tr>\n",
       "    <tr>\n",
       "      <th>3</th>\n",
       "      <td>3</td>\n",
       "      <td>Apex Legends</td>\n",
       "      <td>224168.636364</td>\n",
       "    </tr>\n",
       "    <tr>\n",
       "      <th>4</th>\n",
       "      <td>88</td>\n",
       "      <td>Valheim</td>\n",
       "      <td>169346.375000</td>\n",
       "    </tr>\n",
       "    <tr>\n",
       "      <th>5</th>\n",
       "      <td>49</td>\n",
       "      <td>NARAKA: BLADEPOINT</td>\n",
       "      <td>144674.000000</td>\n",
       "    </tr>\n",
       "    <tr>\n",
       "      <th>6</th>\n",
       "      <td>21</td>\n",
       "      <td>Destiny 2</td>\n",
       "      <td>136868.250000</td>\n",
       "    </tr>\n",
       "    <tr>\n",
       "      <th>7</th>\n",
       "      <td>41</td>\n",
       "      <td>Grand Theft Auto V</td>\n",
       "      <td>130186.115385</td>\n",
       "    </tr>\n",
       "    <tr>\n",
       "      <th>8</th>\n",
       "      <td>17</td>\n",
       "      <td>Cyberpunk 2077</td>\n",
       "      <td>124327.100000</td>\n",
       "    </tr>\n",
       "    <tr>\n",
       "      <th>9</th>\n",
       "      <td>83</td>\n",
       "      <td>Tom Clancy's Rainbow Six Seige</td>\n",
       "      <td>100632.471429</td>\n",
       "    </tr>\n",
       "  </tbody>\n",
       "</table>\n",
       "</div>"
      ],
      "text/plain": [
       "   Unnamed: 0                         Game_Name   Peak_Players\n",
       "0          56               PUBG: Battlegrounds  981942.218182\n",
       "1          24                            Dota 2  778195.684685\n",
       "2          14  Counter Strike: Global Offensive  571940.351351\n",
       "3           3                      Apex Legends  224168.636364\n",
       "4          88                           Valheim  169346.375000\n",
       "5          49                NARAKA: BLADEPOINT  144674.000000\n",
       "6          21                         Destiny 2  136868.250000\n",
       "7          41                Grand Theft Auto V  130186.115385\n",
       "8          17                    Cyberpunk 2077  124327.100000\n",
       "9          83    Tom Clancy's Rainbow Six Seige  100632.471429"
      ]
     },
     "execution_count": 72,
     "metadata": {},
     "output_type": "execute_result"
    }
   ],
   "source": [
    "sd4 = pd.read_csv('sd3.csv')\n",
    "sd4\n"
   ]
  },
  {
   "cell_type": "code",
   "execution_count": 73,
   "metadata": {},
   "outputs": [
    {
     "data": {
      "text/plain": [
       "[Text(0, 0, 'PUBG: Battlegrounds'),\n",
       " Text(1, 0, 'Dota 2'),\n",
       " Text(2, 0, 'Counter Strike: Global Offensive'),\n",
       " Text(3, 0, 'Apex Legends'),\n",
       " Text(4, 0, 'Valheim'),\n",
       " Text(5, 0, 'NARAKA: BLADEPOINT'),\n",
       " Text(6, 0, 'Destiny 2'),\n",
       " Text(7, 0, 'Grand Theft Auto V'),\n",
       " Text(8, 0, 'Cyberpunk 2077'),\n",
       " Text(9, 0, \"Tom Clancy's Rainbow Six Seige\")]"
      ]
     },
     "execution_count": 73,
     "metadata": {},
     "output_type": "execute_result"
    },
    {
     "data": {
      "image/png": "[encoded data removed]",
      "text/plain": [
       "<Figure size 1080x576 with 1 Axes>"
      ]
     },
     "metadata": {
      "needs_background": "light"
     },
     "output_type": "display_data"
    }
   ],
   "source": [
    "# Plotting Games by Peak Player Activity\n",
    "\n",
    "plt.figure(figsize=(15, 8))\n",
    "ax = sns.barplot(x='Game_Name', y='Peak_Players', data=sd4)\n",
    "ax.set_xticklabels(ax.get_xticklabels(), rotation=45)"
   ]
  },
  {
   "cell_type": "code",
   "execution_count": null,
   "metadata": {},
   "outputs": [],
   "source": [
    "\n"
   ]
  }
 ],
 "metadata": {
  "interpreter": {
   "hash": "591cef9e6d350f9149391340e8ebf6775380832abf81dd12559435a29fddadab"
  },
  "kernelspec": {
   "display_name": "Python 3.9.5 64-bit",
   "name": "python3"
  },
  "language_info": {
   "codemirror_mode": {
    "name": "ipython",
    "version": 3
   },
   "file_extension": ".py",
   "mimetype": "text/x-python",
   "name": "python",
   "nbconvert_exporter": "python",
   "pygments_lexer": "ipython3",
   "version": "3.9.5"
  }
 },
 "nbformat": 4,
 "nbformat_minor": 0
}
