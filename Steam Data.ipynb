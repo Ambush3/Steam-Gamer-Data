{
 "cells": [
  {
   "cell_type": "code",
   "execution_count": 1,
   "metadata": {
    "collapsed": true
   },
   "outputs": [],
   "source": [
    "\n",
    "import pandas as pd \n",
    "import matplotlib.pyplot as plt \n",
    "import seaborn as sns \n",
    "import numpy as np\n",
    "import plotly.express as px\n"
   ]
  },
  {
   "cell_type": "code",
   "execution_count": 2,
   "metadata": {
    "collapsed": false,
    "pycharm": {
     "name": "#%%\n"
    }
   },
   "outputs": [
    {
     "data": {
      "text/plain": "       Month_Year  Avg_players       Gain Percent_Gain  Peak_Players  \\\n0  September 2021    512350.92     268.96       +0.05%        942519   \n1     August 2021    512081.96    6014.60       +1.19%        802544   \n2       July 2021    506067.36  -43279.72       -7.88%        763523   \n3       June 2021    549347.08 -110541.81      -16.75%        929940   \n4        May 2021    659888.89  -63457.63       -8.77%       1087197   \n\n                               URL        Date  \\\n0  https://steamcharts.com/app/730  2021-09-01   \n1  https://steamcharts.com/app/730  2021-08-01   \n2  https://steamcharts.com/app/730  2021-07-01   \n3  https://steamcharts.com/app/730  2021-06-01   \n4  https://steamcharts.com/app/730  2021-05-01   \n\n                          Game_Name  \n0  Counter Strike: Global Offensive  \n1  Counter Strike: Global Offensive  \n2  Counter Strike: Global Offensive  \n3  Counter Strike: Global Offensive  \n4  Counter Strike: Global Offensive  ",
      "text/html": "<div>\n<style scoped>\n    .dataframe tbody tr th:only-of-type {\n        vertical-align: middle;\n    }\n\n    .dataframe tbody tr th {\n        vertical-align: top;\n    }\n\n    .dataframe thead th {\n        text-align: right;\n    }\n</style>\n<table border=\"1\" class=\"dataframe\">\n  <thead>\n    <tr style=\"text-align: right;\">\n      <th></th>\n      <th>Month_Year</th>\n      <th>Avg_players</th>\n      <th>Gain</th>\n      <th>Percent_Gain</th>\n      <th>Peak_Players</th>\n      <th>URL</th>\n      <th>Date</th>\n      <th>Game_Name</th>\n    </tr>\n  </thead>\n  <tbody>\n    <tr>\n      <th>0</th>\n      <td>September 2021</td>\n      <td>512350.92</td>\n      <td>268.96</td>\n      <td>+0.05%</td>\n      <td>942519</td>\n      <td>https://steamcharts.com/app/730</td>\n      <td>2021-09-01</td>\n      <td>Counter Strike: Global Offensive</td>\n    </tr>\n    <tr>\n      <th>1</th>\n      <td>August 2021</td>\n      <td>512081.96</td>\n      <td>6014.60</td>\n      <td>+1.19%</td>\n      <td>802544</td>\n      <td>https://steamcharts.com/app/730</td>\n      <td>2021-08-01</td>\n      <td>Counter Strike: Global Offensive</td>\n    </tr>\n    <tr>\n      <th>2</th>\n      <td>July 2021</td>\n      <td>506067.36</td>\n      <td>-43279.72</td>\n      <td>-7.88%</td>\n      <td>763523</td>\n      <td>https://steamcharts.com/app/730</td>\n      <td>2021-07-01</td>\n      <td>Counter Strike: Global Offensive</td>\n    </tr>\n    <tr>\n      <th>3</th>\n      <td>June 2021</td>\n      <td>549347.08</td>\n      <td>-110541.81</td>\n      <td>-16.75%</td>\n      <td>929940</td>\n      <td>https://steamcharts.com/app/730</td>\n      <td>2021-06-01</td>\n      <td>Counter Strike: Global Offensive</td>\n    </tr>\n    <tr>\n      <th>4</th>\n      <td>May 2021</td>\n      <td>659888.89</td>\n      <td>-63457.63</td>\n      <td>-8.77%</td>\n      <td>1087197</td>\n      <td>https://steamcharts.com/app/730</td>\n      <td>2021-05-01</td>\n      <td>Counter Strike: Global Offensive</td>\n    </tr>\n  </tbody>\n</table>\n</div>"
     },
     "execution_count": 2,
     "metadata": {},
     "output_type": "execute_result"
    }
   ],
   "source": [
    "sd = pd.read_csv('F:/PyCharm/Data Visualization/Steam Data/Valve_Player_Data.csv')\n",
    "sd.head()"
   ]
  },
  {
   "cell_type": "code",
   "execution_count": 3,
   "metadata": {
    "collapsed": false,
    "pycharm": {
     "name": "#%%\n"
    }
   },
   "outputs": [
    {
     "name": "stdout",
     "output_type": "stream",
     "text": [
      "<class 'pandas.core.frame.DataFrame'>\n",
      "RangeIndex: 5271 entries, 0 to 5270\n",
      "Data columns (total 8 columns):\n",
      " #   Column        Non-Null Count  Dtype  \n",
      "---  ------        --------------  -----  \n",
      " 0   Month_Year    5271 non-null   object \n",
      " 1   Avg_players   5271 non-null   float64\n",
      " 2   Gain          5173 non-null   float64\n",
      " 3   Percent_Gain  5173 non-null   object \n",
      " 4   Peak_Players  5271 non-null   int64  \n",
      " 5   URL           5271 non-null   object \n",
      " 6   Date          5271 non-null   object \n",
      " 7   Game_Name     5271 non-null   object \n",
      "dtypes: float64(2), int64(1), object(5)\n",
      "memory usage: 329.6+ KB\n"
     ]
    }
   ],
   "source": [
    "sd.info()"
   ]
  },
  {
   "cell_type": "code",
   "execution_count": 4,
   "metadata": {},
   "outputs": [
    {
     "data": {
      "text/plain": "        Avg_players           Gain  Peak_Players\ncount  5.271000e+03    5173.000000  5.271000e+03\nmean   3.763149e+04      92.071786  7.032072e+04\nstd    1.032951e+05   15161.864515  1.941948e+05\nmin    0.000000e+00 -250248.990000  0.000000e+00\n25%    6.720205e+03   -1374.480000  1.302900e+04\n50%    1.235840e+04      -0.080000  2.344700e+04\n75%    2.414976e+04    1255.140000  4.610150e+04\nmax    1.584887e+06  426446.120000  3.236027e+06",
      "text/html": "<div>\n<style scoped>\n    .dataframe tbody tr th:only-of-type {\n        vertical-align: middle;\n    }\n\n    .dataframe tbody tr th {\n        vertical-align: top;\n    }\n\n    .dataframe thead th {\n        text-align: right;\n    }\n</style>\n<table border=\"1\" class=\"dataframe\">\n  <thead>\n    <tr style=\"text-align: right;\">\n      <th></th>\n      <th>Avg_players</th>\n      <th>Gain</th>\n      <th>Peak_Players</th>\n    </tr>\n  </thead>\n  <tbody>\n    <tr>\n      <th>count</th>\n      <td>5.271000e+03</td>\n      <td>5173.000000</td>\n      <td>5.271000e+03</td>\n    </tr>\n    <tr>\n      <th>mean</th>\n      <td>3.763149e+04</td>\n      <td>92.071786</td>\n      <td>7.032072e+04</td>\n    </tr>\n    <tr>\n      <th>std</th>\n      <td>1.032951e+05</td>\n      <td>15161.864515</td>\n      <td>1.941948e+05</td>\n    </tr>\n    <tr>\n      <th>min</th>\n      <td>0.000000e+00</td>\n      <td>-250248.990000</td>\n      <td>0.000000e+00</td>\n    </tr>\n    <tr>\n      <th>25%</th>\n      <td>6.720205e+03</td>\n      <td>-1374.480000</td>\n      <td>1.302900e+04</td>\n    </tr>\n    <tr>\n      <th>50%</th>\n      <td>1.235840e+04</td>\n      <td>-0.080000</td>\n      <td>2.344700e+04</td>\n    </tr>\n    <tr>\n      <th>75%</th>\n      <td>2.414976e+04</td>\n      <td>1255.140000</td>\n      <td>4.610150e+04</td>\n    </tr>\n    <tr>\n      <th>max</th>\n      <td>1.584887e+06</td>\n      <td>426446.120000</td>\n      <td>3.236027e+06</td>\n    </tr>\n  </tbody>\n</table>\n</div>"
     },
     "execution_count": 4,
     "metadata": {},
     "output_type": "execute_result"
    }
   ],
   "source": [
    "sd.describe()"
   ]
  },
  {
   "cell_type": "code",
   "execution_count": 5,
   "metadata": {},
   "outputs": [
    {
     "data": {
      "text/plain": "Index(['Month_Year', 'Avg_players', 'Gain', 'Percent_Gain', 'Peak_Players',\n       'URL', 'Date', 'Game_Name'],\n      dtype='object')"
     },
     "execution_count": 5,
     "metadata": {},
     "output_type": "execute_result"
    }
   ],
   "source": [
    "sd.columns"
   ]
  },
  {
   "cell_type": "code",
   "execution_count": 6,
   "metadata": {
    "pycharm": {
     "name": "#%% Seeing what columns have unused empty data\n"
    }
   },
   "outputs": [
    {
     "data": {
      "text/plain": "Month_Year       0\nAvg_players      0\nGain            98\nPercent_Gain    98\nPeak_Players     0\nURL              0\nDate             0\nGame_Name        0\ndtype: int64"
     },
     "execution_count": 6,
     "metadata": {},
     "output_type": "execute_result"
    }
   ],
   "source": [
    "sd.isnull().sum()"
   ]
  },
  {
   "cell_type": "code",
   "execution_count": 7,
   "metadata": {
    "pycharm": {
     "name": "#%% Replacing nan values in our data\n"
    }
   },
   "outputs": [],
   "source": [
    "data_clean = sd\n",
    "data_clean=data_clean.dropna()"
   ]
  },
  {
   "cell_type": "code",
   "execution_count": 8,
   "outputs": [
    {
     "data": {
      "text/plain": "Month_Year      0\nAvg_players     0\nGain            0\nPercent_Gain    0\nPeak_Players    0\nURL             0\nDate            0\nGame_Name       0\ndtype: int64"
     },
     "execution_count": 8,
     "metadata": {},
     "output_type": "execute_result"
    }
   ],
   "source": [
    "data_clean.isna().sum()"
   ],
   "metadata": {
    "collapsed": false,
    "pycharm": {
     "name": "#%%\n"
    }
   }
  },
  {
   "cell_type": "code",
   "execution_count": 9,
   "outputs": [
    {
     "data": {
      "text/plain": "            Avg_players       Gain Percent_Gain  Peak_Players  \\\nMonth_Year                                                      \n2021-09-01    512350.92     268.96       +0.05%        942519   \n2021-08-01    512081.96    6014.60       +1.19%        802544   \n2021-07-01    506067.36  -43279.72       -7.88%        763523   \n2021-06-01    549347.08 -110541.81      -16.75%        929940   \n2021-05-01    659888.89  -63457.63       -8.77%       1087197   \n\n                                        URL        Date  \\\nMonth_Year                                                \n2021-09-01  https://steamcharts.com/app/730  2021-09-01   \n2021-08-01  https://steamcharts.com/app/730  2021-08-01   \n2021-07-01  https://steamcharts.com/app/730  2021-07-01   \n2021-06-01  https://steamcharts.com/app/730  2021-06-01   \n2021-05-01  https://steamcharts.com/app/730  2021-05-01   \n\n                                   Game_Name  \nMonth_Year                                    \n2021-09-01  Counter Strike: Global Offensive  \n2021-08-01  Counter Strike: Global Offensive  \n2021-07-01  Counter Strike: Global Offensive  \n2021-06-01  Counter Strike: Global Offensive  \n2021-05-01  Counter Strike: Global Offensive  ",
      "text/html": "<div>\n<style scoped>\n    .dataframe tbody tr th:only-of-type {\n        vertical-align: middle;\n    }\n\n    .dataframe tbody tr th {\n        vertical-align: top;\n    }\n\n    .dataframe thead th {\n        text-align: right;\n    }\n</style>\n<table border=\"1\" class=\"dataframe\">\n  <thead>\n    <tr style=\"text-align: right;\">\n      <th></th>\n      <th>Avg_players</th>\n      <th>Gain</th>\n      <th>Percent_Gain</th>\n      <th>Peak_Players</th>\n      <th>URL</th>\n      <th>Date</th>\n      <th>Game_Name</th>\n    </tr>\n    <tr>\n      <th>Month_Year</th>\n      <th></th>\n      <th></th>\n      <th></th>\n      <th></th>\n      <th></th>\n      <th></th>\n      <th></th>\n    </tr>\n  </thead>\n  <tbody>\n    <tr>\n      <th>2021-09-01</th>\n      <td>512350.92</td>\n      <td>268.96</td>\n      <td>+0.05%</td>\n      <td>942519</td>\n      <td>https://steamcharts.com/app/730</td>\n      <td>2021-09-01</td>\n      <td>Counter Strike: Global Offensive</td>\n    </tr>\n    <tr>\n      <th>2021-08-01</th>\n      <td>512081.96</td>\n      <td>6014.60</td>\n      <td>+1.19%</td>\n      <td>802544</td>\n      <td>https://steamcharts.com/app/730</td>\n      <td>2021-08-01</td>\n      <td>Counter Strike: Global Offensive</td>\n    </tr>\n    <tr>\n      <th>2021-07-01</th>\n      <td>506067.36</td>\n      <td>-43279.72</td>\n      <td>-7.88%</td>\n      <td>763523</td>\n      <td>https://steamcharts.com/app/730</td>\n      <td>2021-07-01</td>\n      <td>Counter Strike: Global Offensive</td>\n    </tr>\n    <tr>\n      <th>2021-06-01</th>\n      <td>549347.08</td>\n      <td>-110541.81</td>\n      <td>-16.75%</td>\n      <td>929940</td>\n      <td>https://steamcharts.com/app/730</td>\n      <td>2021-06-01</td>\n      <td>Counter Strike: Global Offensive</td>\n    </tr>\n    <tr>\n      <th>2021-05-01</th>\n      <td>659888.89</td>\n      <td>-63457.63</td>\n      <td>-8.77%</td>\n      <td>1087197</td>\n      <td>https://steamcharts.com/app/730</td>\n      <td>2021-05-01</td>\n      <td>Counter Strike: Global Offensive</td>\n    </tr>\n  </tbody>\n</table>\n</div>"
     },
     "execution_count": 9,
     "metadata": {},
     "output_type": "execute_result"
    }
   ],
   "source": [
    "fig = pd.read_csv(\"Valve_Player_Data.csv\", index_col=0, parse_dates=True)\n",
    "fig.head()"
   ],
   "metadata": {
    "collapsed": false,
    "pycharm": {
     "name": "#%% Plotting Average players, Peak players, and Gain from Apr 2013 to Sep 2021\n"
    }
   }
  },
  {
   "cell_type": "code",
   "execution_count": 10,
   "outputs": [
    {
     "data": {
      "text/plain": "<AxesSubplot:xlabel='Month_Year'>"
     },
     "execution_count": 10,
     "metadata": {},
     "output_type": "execute_result"
    },
    {
     "data": {
      "text/plain": "<Figure size 1080x576 with 1 Axes>",
      "image/png": "[encoded data removed]"
     },
     "metadata": {
      "needs_background": "light"
     },
     "output_type": "display_data"
    }
   ],
   "source": [
    "fig.plot(figsize=(15, 8))\n"
   ],
   "metadata": {
    "collapsed": false,
    "pycharm": {
     "name": "#%% Plotting figure\n"
    }
   }
  },
  {
   "cell_type": "code",
   "execution_count": 11,
   "metadata": {
    "pycharm": {
     "name": "#%% Grouping Games by Average Players\n"
    }
   },
   "outputs": [
    {
     "data": {
      "text/plain": "                           Game_Name    Avg_players\n23                            Dota 2  454686.103727\n54               PUBG: Battlegrounds  451871.999444\n13  Counter Strike: Global Offensive  330019.465636\n3                       Apex Legends  124925.043000\n20                         Destiny 2   66768.013913\n40                Grand Theft Auto V   65219.183766\n48                NARAKA: BLADEPOINT   64272.230000\n72                   Team Fortress 2   55174.296364\n79    Tom Clancy's Rainbow Six Seige   54238.015507\n84                           Valheim   53098.742857",
      "text/html": "<div>\n<style scoped>\n    .dataframe tbody tr th:only-of-type {\n        vertical-align: middle;\n    }\n\n    .dataframe tbody tr th {\n        vertical-align: top;\n    }\n\n    .dataframe thead th {\n        text-align: right;\n    }\n</style>\n<table border=\"1\" class=\"dataframe\">\n  <thead>\n    <tr style=\"text-align: right;\">\n      <th></th>\n      <th>Game_Name</th>\n      <th>Avg_players</th>\n    </tr>\n  </thead>\n  <tbody>\n    <tr>\n      <th>23</th>\n      <td>Dota 2</td>\n      <td>454686.103727</td>\n    </tr>\n    <tr>\n      <th>54</th>\n      <td>PUBG: Battlegrounds</td>\n      <td>451871.999444</td>\n    </tr>\n    <tr>\n      <th>13</th>\n      <td>Counter Strike: Global Offensive</td>\n      <td>330019.465636</td>\n    </tr>\n    <tr>\n      <th>3</th>\n      <td>Apex Legends</td>\n      <td>124925.043000</td>\n    </tr>\n    <tr>\n      <th>20</th>\n      <td>Destiny 2</td>\n      <td>66768.013913</td>\n    </tr>\n    <tr>\n      <th>40</th>\n      <td>Grand Theft Auto V</td>\n      <td>65219.183766</td>\n    </tr>\n    <tr>\n      <th>48</th>\n      <td>NARAKA: BLADEPOINT</td>\n      <td>64272.230000</td>\n    </tr>\n    <tr>\n      <th>72</th>\n      <td>Team Fortress 2</td>\n      <td>55174.296364</td>\n    </tr>\n    <tr>\n      <th>79</th>\n      <td>Tom Clancy's Rainbow Six Seige</td>\n      <td>54238.015507</td>\n    </tr>\n    <tr>\n      <th>84</th>\n      <td>Valheim</td>\n      <td>53098.742857</td>\n    </tr>\n  </tbody>\n</table>\n</div>"
     },
     "execution_count": 11,
     "metadata": {},
     "output_type": "execute_result"
    }
   ],
   "source": [
    "sd1 = data_clean.groupby('Game_Name', as_index=False, sort=True)[\n",
    "    'Avg_players'].mean()\n",
    "\n",
    "sd1 = sd1.sort_values('Avg_players', ascending=False)\n",
    "sd1.head(10)\n"
   ]
  },
  {
   "cell_type": "code",
   "execution_count": 12,
   "metadata": {},
   "outputs": [
    {
     "name": "stdout",
     "output_type": "stream",
     "text": [
      "None\n"
     ]
    }
   ],
   "source": [
    "# Creating new CSV for columns Game_Name and Avg_players\n",
    "sd2 = print(sd1.head(10).to_csv(\"sd1.csv\"))\n"
   ]
  },
  {
   "cell_type": "code",
   "execution_count": 13,
   "metadata": {
    "pycharm": {
     "name": "#%%  Taking a look at the CSV\n"
    }
   },
   "outputs": [
    {
     "data": {
      "text/plain": "   Unnamed: 0                         Game_Name    Avg_players\n0          23                            Dota 2  454686.103727\n1          54               PUBG: Battlegrounds  451871.999444\n2          13  Counter Strike: Global Offensive  330019.465636\n3           3                      Apex Legends  124925.043000\n4          20                         Destiny 2   66768.013913\n5          40                Grand Theft Auto V   65219.183766\n6          48                NARAKA: BLADEPOINT   64272.230000\n7          72                   Team Fortress 2   55174.296364\n8          79    Tom Clancy's Rainbow Six Seige   54238.015507\n9          84                           Valheim   53098.742857",
      "text/html": "<div>\n<style scoped>\n    .dataframe tbody tr th:only-of-type {\n        vertical-align: middle;\n    }\n\n    .dataframe tbody tr th {\n        vertical-align: top;\n    }\n\n    .dataframe thead th {\n        text-align: right;\n    }\n</style>\n<table border=\"1\" class=\"dataframe\">\n  <thead>\n    <tr style=\"text-align: right;\">\n      <th></th>\n      <th>Unnamed: 0</th>\n      <th>Game_Name</th>\n      <th>Avg_players</th>\n    </tr>\n  </thead>\n  <tbody>\n    <tr>\n      <th>0</th>\n      <td>23</td>\n      <td>Dota 2</td>\n      <td>454686.103727</td>\n    </tr>\n    <tr>\n      <th>1</th>\n      <td>54</td>\n      <td>PUBG: Battlegrounds</td>\n      <td>451871.999444</td>\n    </tr>\n    <tr>\n      <th>2</th>\n      <td>13</td>\n      <td>Counter Strike: Global Offensive</td>\n      <td>330019.465636</td>\n    </tr>\n    <tr>\n      <th>3</th>\n      <td>3</td>\n      <td>Apex Legends</td>\n      <td>124925.043000</td>\n    </tr>\n    <tr>\n      <th>4</th>\n      <td>20</td>\n      <td>Destiny 2</td>\n      <td>66768.013913</td>\n    </tr>\n    <tr>\n      <th>5</th>\n      <td>40</td>\n      <td>Grand Theft Auto V</td>\n      <td>65219.183766</td>\n    </tr>\n    <tr>\n      <th>6</th>\n      <td>48</td>\n      <td>NARAKA: BLADEPOINT</td>\n      <td>64272.230000</td>\n    </tr>\n    <tr>\n      <th>7</th>\n      <td>72</td>\n      <td>Team Fortress 2</td>\n      <td>55174.296364</td>\n    </tr>\n    <tr>\n      <th>8</th>\n      <td>79</td>\n      <td>Tom Clancy's Rainbow Six Seige</td>\n      <td>54238.015507</td>\n    </tr>\n    <tr>\n      <th>9</th>\n      <td>84</td>\n      <td>Valheim</td>\n      <td>53098.742857</td>\n    </tr>\n  </tbody>\n</table>\n</div>"
     },
     "execution_count": 13,
     "metadata": {},
     "output_type": "execute_result"
    }
   ],
   "source": [
    "sd2 = pd.read_csv('sd1.csv')\n",
    "sd2\n"
   ]
  },
  {
   "cell_type": "code",
   "execution_count": 14,
   "outputs": [
    {
     "data": {
      "text/plain": "                                  Avg_players\nGame_Name         Month_Year                 \n7 Days to Die     April 2014          1877.59\n                  April 2015          6592.51\n                  April 2016          7153.62\n                  April 2017          8710.61\n                  April 2018          7647.83\n...                                       ...\n雀魂麻将(MahjongSoul) May 2021            3038.03\n                  November 2020       1102.75\n                  October 2020        1118.37\n                  September 2020      1485.79\n                  September 2021      6926.76\n\n[5173 rows x 1 columns]",
      "text/html": "<div>\n<style scoped>\n    .dataframe tbody tr th:only-of-type {\n        vertical-align: middle;\n    }\n\n    .dataframe tbody tr th {\n        vertical-align: top;\n    }\n\n    .dataframe thead th {\n        text-align: right;\n    }\n</style>\n<table border=\"1\" class=\"dataframe\">\n  <thead>\n    <tr style=\"text-align: right;\">\n      <th></th>\n      <th></th>\n      <th>Avg_players</th>\n    </tr>\n    <tr>\n      <th>Game_Name</th>\n      <th>Month_Year</th>\n      <th></th>\n    </tr>\n  </thead>\n  <tbody>\n    <tr>\n      <th rowspan=\"5\" valign=\"top\">7 Days to Die</th>\n      <th>April 2014</th>\n      <td>1877.59</td>\n    </tr>\n    <tr>\n      <th>April 2015</th>\n      <td>6592.51</td>\n    </tr>\n    <tr>\n      <th>April 2016</th>\n      <td>7153.62</td>\n    </tr>\n    <tr>\n      <th>April 2017</th>\n      <td>8710.61</td>\n    </tr>\n    <tr>\n      <th>April 2018</th>\n      <td>7647.83</td>\n    </tr>\n    <tr>\n      <th>...</th>\n      <th>...</th>\n      <td>...</td>\n    </tr>\n    <tr>\n      <th rowspan=\"5\" valign=\"top\">雀魂麻将(MahjongSoul)</th>\n      <th>May 2021</th>\n      <td>3038.03</td>\n    </tr>\n    <tr>\n      <th>November 2020</th>\n      <td>1102.75</td>\n    </tr>\n    <tr>\n      <th>October 2020</th>\n      <td>1118.37</td>\n    </tr>\n    <tr>\n      <th>September 2020</th>\n      <td>1485.79</td>\n    </tr>\n    <tr>\n      <th>September 2021</th>\n      <td>6926.76</td>\n    </tr>\n  </tbody>\n</table>\n<p>5173 rows × 1 columns</p>\n</div>"
     },
     "execution_count": 14,
     "metadata": {},
     "output_type": "execute_result"
    }
   ],
   "source": [
    "table = pd.pivot_table(data=data_clean, index=['Game_Name', 'Month_Year'], values=['Avg_players'])\n",
    "table\n"
   ],
   "metadata": {
    "collapsed": false,
    "pycharm": {
     "name": "#%%\n"
    }
   }
  },
  {
   "cell_type": "code",
   "execution_count": 15,
   "outputs": [
    {
     "data": {
      "text/plain": "                             Avg_players      Gain  Peak_Players\nMonth_Year     Percent_Gain                                     \nApril 2013     +0.29%           16006.00     46.11       31966.0\n               +18.84%           6050.11    959.07       11856.0\n               +529.02%         12329.65  10369.52       21157.0\n               -1.42%               4.00     -0.06          22.0\n               -11.37%          21436.10  -2749.15       39478.0\n...                                  ...       ...           ...\nSeptember 2021 -8.31%            5802.66   -525.87       11942.0\n               -9.23%           44196.05  -4492.35       73590.0\n               -9.59%          167102.12 -17726.28      400709.0\n               -9.62%            9982.46  -1062.04       17674.0\n               -9.73%           33150.16  -3573.54       64001.0\n\n[5154 rows x 3 columns]",
      "text/html": "<div>\n<style scoped>\n    .dataframe tbody tr th:only-of-type {\n        vertical-align: middle;\n    }\n\n    .dataframe tbody tr th {\n        vertical-align: top;\n    }\n\n    .dataframe thead th {\n        text-align: right;\n    }\n</style>\n<table border=\"1\" class=\"dataframe\">\n  <thead>\n    <tr style=\"text-align: right;\">\n      <th></th>\n      <th></th>\n      <th>Avg_players</th>\n      <th>Gain</th>\n      <th>Peak_Players</th>\n    </tr>\n    <tr>\n      <th>Month_Year</th>\n      <th>Percent_Gain</th>\n      <th></th>\n      <th></th>\n      <th></th>\n    </tr>\n  </thead>\n  <tbody>\n    <tr>\n      <th rowspan=\"5\" valign=\"top\">April 2013</th>\n      <th>+0.29%</th>\n      <td>16006.00</td>\n      <td>46.11</td>\n      <td>31966.0</td>\n    </tr>\n    <tr>\n      <th>+18.84%</th>\n      <td>6050.11</td>\n      <td>959.07</td>\n      <td>11856.0</td>\n    </tr>\n    <tr>\n      <th>+529.02%</th>\n      <td>12329.65</td>\n      <td>10369.52</td>\n      <td>21157.0</td>\n    </tr>\n    <tr>\n      <th>-1.42%</th>\n      <td>4.00</td>\n      <td>-0.06</td>\n      <td>22.0</td>\n    </tr>\n    <tr>\n      <th>-11.37%</th>\n      <td>21436.10</td>\n      <td>-2749.15</td>\n      <td>39478.0</td>\n    </tr>\n    <tr>\n      <th>...</th>\n      <th>...</th>\n      <td>...</td>\n      <td>...</td>\n      <td>...</td>\n    </tr>\n    <tr>\n      <th rowspan=\"5\" valign=\"top\">September 2021</th>\n      <th>-8.31%</th>\n      <td>5802.66</td>\n      <td>-525.87</td>\n      <td>11942.0</td>\n    </tr>\n    <tr>\n      <th>-9.23%</th>\n      <td>44196.05</td>\n      <td>-4492.35</td>\n      <td>73590.0</td>\n    </tr>\n    <tr>\n      <th>-9.59%</th>\n      <td>167102.12</td>\n      <td>-17726.28</td>\n      <td>400709.0</td>\n    </tr>\n    <tr>\n      <th>-9.62%</th>\n      <td>9982.46</td>\n      <td>-1062.04</td>\n      <td>17674.0</td>\n    </tr>\n    <tr>\n      <th>-9.73%</th>\n      <td>33150.16</td>\n      <td>-3573.54</td>\n      <td>64001.0</td>\n    </tr>\n  </tbody>\n</table>\n<p>5154 rows × 3 columns</p>\n</div>"
     },
     "execution_count": 15,
     "metadata": {},
     "output_type": "execute_result"
    }
   ],
   "source": [
    "table = pd.pivot_table(data=data_clean, index=['Month_Year', 'Percent_Gain'])\n",
    "table\n"
   ],
   "metadata": {
    "collapsed": false,
    "pycharm": {
     "name": "#%%\n"
    }
   }
  },
  {
   "cell_type": "code",
   "execution_count": 16,
   "outputs": [
    {
     "data": {
      "text/plain": "                                         Avg_players      Gain\nGame_Name                                                     \n7 Days to Die                           10202.705376  17075.57\nARK: Survival Evolved                   43545.970526  39484.19\nAge of Empires II: Definitive Edition   14937.882727    659.53\nApex Legends                           124925.043000  64690.70\nArma 3                                  15331.171176   7903.84\n...                                              ...       ...\nWorld of Warships                        5867.909574   7288.64\nYu-Gi-Oh! Duel Links                     7635.712826  -1059.82\neFootball PES 2021 SEASON UPDATE         9857.313333   2524.49\ntModLoader                              10664.648750   -688.78\n雀魂麻将(MahjongSoul)                        3231.032143   4850.49\n\n[94 rows x 2 columns]",
      "text/html": "<div>\n<style scoped>\n    .dataframe tbody tr th:only-of-type {\n        vertical-align: middle;\n    }\n\n    .dataframe tbody tr th {\n        vertical-align: top;\n    }\n\n    .dataframe thead th {\n        text-align: right;\n    }\n</style>\n<table border=\"1\" class=\"dataframe\">\n  <thead>\n    <tr style=\"text-align: right;\">\n      <th></th>\n      <th>Avg_players</th>\n      <th>Gain</th>\n    </tr>\n    <tr>\n      <th>Game_Name</th>\n      <th></th>\n      <th></th>\n    </tr>\n  </thead>\n  <tbody>\n    <tr>\n      <th>7 Days to Die</th>\n      <td>10202.705376</td>\n      <td>17075.57</td>\n    </tr>\n    <tr>\n      <th>ARK: Survival Evolved</th>\n      <td>43545.970526</td>\n      <td>39484.19</td>\n    </tr>\n    <tr>\n      <th>Age of Empires II: Definitive Edition</th>\n      <td>14937.882727</td>\n      <td>659.53</td>\n    </tr>\n    <tr>\n      <th>Apex Legends</th>\n      <td>124925.043000</td>\n      <td>64690.70</td>\n    </tr>\n    <tr>\n      <th>Arma 3</th>\n      <td>15331.171176</td>\n      <td>7903.84</td>\n    </tr>\n    <tr>\n      <th>...</th>\n      <td>...</td>\n      <td>...</td>\n    </tr>\n    <tr>\n      <th>World of Warships</th>\n      <td>5867.909574</td>\n      <td>7288.64</td>\n    </tr>\n    <tr>\n      <th>Yu-Gi-Oh! Duel Links</th>\n      <td>7635.712826</td>\n      <td>-1059.82</td>\n    </tr>\n    <tr>\n      <th>eFootball PES 2021 SEASON UPDATE</th>\n      <td>9857.313333</td>\n      <td>2524.49</td>\n    </tr>\n    <tr>\n      <th>tModLoader</th>\n      <td>10664.648750</td>\n      <td>-688.78</td>\n    </tr>\n    <tr>\n      <th>雀魂麻将(MahjongSoul)</th>\n      <td>3231.032143</td>\n      <td>4850.49</td>\n    </tr>\n  </tbody>\n</table>\n<p>94 rows × 2 columns</p>\n</div>"
     },
     "execution_count": 16,
     "metadata": {},
     "output_type": "execute_result"
    }
   ],
   "source": [
    "table = pd.pivot_table(data_clean, index=['Game_Name'], aggfunc={'Avg_players':np.mean, 'Gain':np.sum})\n",
    "table"
   ],
   "metadata": {
    "collapsed": false,
    "pycharm": {
     "name": "#%%\n"
    }
   }
  },
  {
   "cell_type": "code",
   "execution_count": 18,
   "metadata": {
    "pycharm": {
     "name": "#%% Plotting for which games had the most Average players playing at one time\n"
    }
   },
   "outputs": [
    {
     "data": {
      "text/plain": "[Text(0, 0, 'Dota 2'),\n Text(1, 0, 'PUBG: Battlegrounds'),\n Text(2, 0, 'Counter Strike: Global Offensive'),\n Text(3, 0, 'Apex Legends'),\n Text(4, 0, 'Destiny 2'),\n Text(5, 0, 'Grand Theft Auto V'),\n Text(6, 0, 'NARAKA: BLADEPOINT'),\n Text(7, 0, 'Team Fortress 2'),\n Text(8, 0, \"Tom Clancy's Rainbow Six Seige\"),\n Text(9, 0, 'Valheim')]"
     },
     "execution_count": 18,
     "metadata": {},
     "output_type": "execute_result"
    },
    {
     "data": {
      "text/plain": "<Figure size 1080x576 with 1 Axes>",
      "image/png": "[encoded data removed]"
     },
     "metadata": {
      "needs_background": "light"
     },
     "output_type": "display_data"
    }
   ],
   "source": [
    "plt.figure(figsize=(15, 8))\n",
    "ax = sns.barplot(x='Game_Name', y='Avg_players', data=sd2)\n",
    "ax.set_xticklabels(ax.get_xticklabels(), rotation=45)\n",
    "\n"
   ]
  },
  {
   "cell_type": "code",
   "execution_count": 19,
   "metadata": {
    "pycharm": {
     "name": "#%% Average peak amount of players at one time playing\n"
    }
   },
   "outputs": [
    {
     "data": {
      "text/plain": "                           Game_Name   Peak_Players\n54               PUBG: Battlegrounds  998869.925926\n23                            Dota 2  784588.000000\n13  Counter Strike: Global Offensive  577124.881818\n3                       Apex Legends  234866.200000\n48                NARAKA: BLADEPOINT  160720.000000\n20                         Destiny 2  130109.739130\n40                Grand Theft Auto V  127191.636364\n84                           Valheim  122327.571429\n79    Tom Clancy's Rainbow Six Seige  101828.159420\n46             Monster Hunter: World   89808.540541",
      "text/html": "<div>\n<style scoped>\n    .dataframe tbody tr th:only-of-type {\n        vertical-align: middle;\n    }\n\n    .dataframe tbody tr th {\n        vertical-align: top;\n    }\n\n    .dataframe thead th {\n        text-align: right;\n    }\n</style>\n<table border=\"1\" class=\"dataframe\">\n  <thead>\n    <tr style=\"text-align: right;\">\n      <th></th>\n      <th>Game_Name</th>\n      <th>Peak_Players</th>\n    </tr>\n  </thead>\n  <tbody>\n    <tr>\n      <th>54</th>\n      <td>PUBG: Battlegrounds</td>\n      <td>998869.925926</td>\n    </tr>\n    <tr>\n      <th>23</th>\n      <td>Dota 2</td>\n      <td>784588.000000</td>\n    </tr>\n    <tr>\n      <th>13</th>\n      <td>Counter Strike: Global Offensive</td>\n      <td>577124.881818</td>\n    </tr>\n    <tr>\n      <th>3</th>\n      <td>Apex Legends</td>\n      <td>234866.200000</td>\n    </tr>\n    <tr>\n      <th>48</th>\n      <td>NARAKA: BLADEPOINT</td>\n      <td>160720.000000</td>\n    </tr>\n    <tr>\n      <th>20</th>\n      <td>Destiny 2</td>\n      <td>130109.739130</td>\n    </tr>\n    <tr>\n      <th>40</th>\n      <td>Grand Theft Auto V</td>\n      <td>127191.636364</td>\n    </tr>\n    <tr>\n      <th>84</th>\n      <td>Valheim</td>\n      <td>122327.571429</td>\n    </tr>\n    <tr>\n      <th>79</th>\n      <td>Tom Clancy's Rainbow Six Seige</td>\n      <td>101828.159420</td>\n    </tr>\n    <tr>\n      <th>46</th>\n      <td>Monster Hunter: World</td>\n      <td>89808.540541</td>\n    </tr>\n  </tbody>\n</table>\n</div>"
     },
     "execution_count": 19,
     "metadata": {},
     "output_type": "execute_result"
    }
   ],
   "source": [
    "sd3 = data_clean.groupby('Game_Name', as_index=False, sort=True)[\n",
    "    'Peak_Players'].mean()\n",
    "sd3 = sd3.sort_values('Peak_Players', ascending=False)\n",
    "sd3.head(10)\n"
   ]
  },
  {
   "cell_type": "code",
   "execution_count": 20,
   "metadata": {
    "pycharm": {
     "name": "#%% Creating a new CSV with the data above\n"
    }
   },
   "outputs": [
    {
     "name": "stdout",
     "output_type": "stream",
     "text": [
      "None\n"
     ]
    }
   ],
   "source": [
    "print(sd3.head(10).to_csv(\"sd3.csv\"))"
   ]
  },
  {
   "cell_type": "code",
   "execution_count": 21,
   "metadata": {},
   "outputs": [
    {
     "data": {
      "text/plain": "   Unnamed: 0                         Game_Name   Peak_Players\n0          54               PUBG: Battlegrounds  998869.925926\n1          23                            Dota 2  784588.000000\n2          13  Counter Strike: Global Offensive  577124.881818\n3           3                      Apex Legends  234866.200000\n4          48                NARAKA: BLADEPOINT  160720.000000\n5          20                         Destiny 2  130109.739130\n6          40                Grand Theft Auto V  127191.636364\n7          84                           Valheim  122327.571429\n8          79    Tom Clancy's Rainbow Six Seige  101828.159420\n9          46             Monster Hunter: World   89808.540541",
      "text/html": "<div>\n<style scoped>\n    .dataframe tbody tr th:only-of-type {\n        vertical-align: middle;\n    }\n\n    .dataframe tbody tr th {\n        vertical-align: top;\n    }\n\n    .dataframe thead th {\n        text-align: right;\n    }\n</style>\n<table border=\"1\" class=\"dataframe\">\n  <thead>\n    <tr style=\"text-align: right;\">\n      <th></th>\n      <th>Unnamed: 0</th>\n      <th>Game_Name</th>\n      <th>Peak_Players</th>\n    </tr>\n  </thead>\n  <tbody>\n    <tr>\n      <th>0</th>\n      <td>54</td>\n      <td>PUBG: Battlegrounds</td>\n      <td>998869.925926</td>\n    </tr>\n    <tr>\n      <th>1</th>\n      <td>23</td>\n      <td>Dota 2</td>\n      <td>784588.000000</td>\n    </tr>\n    <tr>\n      <th>2</th>\n      <td>13</td>\n      <td>Counter Strike: Global Offensive</td>\n      <td>577124.881818</td>\n    </tr>\n    <tr>\n      <th>3</th>\n      <td>3</td>\n      <td>Apex Legends</td>\n      <td>234866.200000</td>\n    </tr>\n    <tr>\n      <th>4</th>\n      <td>48</td>\n      <td>NARAKA: BLADEPOINT</td>\n      <td>160720.000000</td>\n    </tr>\n    <tr>\n      <th>5</th>\n      <td>20</td>\n      <td>Destiny 2</td>\n      <td>130109.739130</td>\n    </tr>\n    <tr>\n      <th>6</th>\n      <td>40</td>\n      <td>Grand Theft Auto V</td>\n      <td>127191.636364</td>\n    </tr>\n    <tr>\n      <th>7</th>\n      <td>84</td>\n      <td>Valheim</td>\n      <td>122327.571429</td>\n    </tr>\n    <tr>\n      <th>8</th>\n      <td>79</td>\n      <td>Tom Clancy's Rainbow Six Seige</td>\n      <td>101828.159420</td>\n    </tr>\n    <tr>\n      <th>9</th>\n      <td>46</td>\n      <td>Monster Hunter: World</td>\n      <td>89808.540541</td>\n    </tr>\n  </tbody>\n</table>\n</div>"
     },
     "execution_count": 21,
     "metadata": {},
     "output_type": "execute_result"
    }
   ],
   "source": [
    "sd4 = pd.read_csv('sd3.csv')\n",
    "sd4\n"
   ]
  },
  {
   "cell_type": "code",
   "execution_count": 22,
   "metadata": {
    "pycharm": {
     "name": "#%% Plotting Games by average Peak Player Activity\n"
    }
   },
   "outputs": [
    {
     "data": {
      "text/plain": "[Text(0, 0, 'PUBG: Battlegrounds'),\n Text(1, 0, 'Dota 2'),\n Text(2, 0, 'Counter Strike: Global Offensive'),\n Text(3, 0, 'Apex Legends'),\n Text(4, 0, 'NARAKA: BLADEPOINT'),\n Text(5, 0, 'Destiny 2'),\n Text(6, 0, 'Grand Theft Auto V'),\n Text(7, 0, 'Valheim'),\n Text(8, 0, \"Tom Clancy's Rainbow Six Seige\"),\n Text(9, 0, 'Monster Hunter: World')]"
     },
     "execution_count": 22,
     "metadata": {},
     "output_type": "execute_result"
    },
    {
     "data": {
      "text/plain": "<Figure size 1080x576 with 1 Axes>",
      "image/png": "[encoded data removed]"
     },
     "metadata": {
      "needs_background": "light"
     },
     "output_type": "display_data"
    }
   ],
   "source": [
    "plt.figure(figsize=(15, 8))\n",
    "ax = sns.barplot(x='Game_Name', y='Peak_Players', data=sd4)\n",
    "ax.set_xticklabels(ax.get_xticklabels(), rotation=45)"
   ]
  },
  {
   "cell_type": "code",
   "execution_count": 23,
   "metadata": {},
   "outputs": [
    {
     "data": {
      "text/plain": "          Month_Year  Avg_players       Gain Percent_Gain  Peak_Players  \\\n266     January 2018   1584886.77  148728.26      +10.36%       3236027   \n267    December 2017   1436158.51  101988.42       +7.64%       3080769   \n265    February 2018   1391015.30 -193871.48      -12.23%       2934761   \n268    November 2017   1334170.09  247531.23      +22.78%       2915723   \n264       March 2018   1295408.59  -95606.71       -6.87%       2799269   \n...              ...          ...        ...          ...           ...   \n3333       June 2013         0.00       0.00        +NaN%             0   \n3332       July 2013         0.00       0.00        +NaN%             0   \n950    December 2012         0.00       0.00        +NaN%             0   \n953   September 2012         0.00       0.00        +NaN%             0   \n1457        May 2013         0.00      -0.02     -100.00%             0   \n\n                                     URL        Date              Game_Name  \n266   https://steamcharts.com/app/578080  2018-01-01    PUBG: Battlegrounds  \n267   https://steamcharts.com/app/578080  2017-12-01    PUBG: Battlegrounds  \n265   https://steamcharts.com/app/578080  2018-02-01    PUBG: Battlegrounds  \n268   https://steamcharts.com/app/578080  2017-11-01    PUBG: Battlegrounds  \n264   https://steamcharts.com/app/578080  2018-03-01    PUBG: Battlegrounds  \n...                                  ...         ...                    ...  \n3333  https://steamcharts.com/app/236850  2013-06-01  Europa Universalis IV  \n3332  https://steamcharts.com/app/236850  2013-07-01  Europa Universalis IV  \n950   https://steamcharts.com/app/218620  2012-12-01               PAYDAY 2  \n953   https://steamcharts.com/app/218620  2012-09-01               PAYDAY 2  \n1457  https://steamcharts.com/app/236390  2013-05-01            War Thunder  \n\n[5173 rows x 8 columns]",
      "text/html": "<div>\n<style scoped>\n    .dataframe tbody tr th:only-of-type {\n        vertical-align: middle;\n    }\n\n    .dataframe tbody tr th {\n        vertical-align: top;\n    }\n\n    .dataframe thead th {\n        text-align: right;\n    }\n</style>\n<table border=\"1\" class=\"dataframe\">\n  <thead>\n    <tr style=\"text-align: right;\">\n      <th></th>\n      <th>Month_Year</th>\n      <th>Avg_players</th>\n      <th>Gain</th>\n      <th>Percent_Gain</th>\n      <th>Peak_Players</th>\n      <th>URL</th>\n      <th>Date</th>\n      <th>Game_Name</th>\n    </tr>\n  </thead>\n  <tbody>\n    <tr>\n      <th>266</th>\n      <td>January 2018</td>\n      <td>1584886.77</td>\n      <td>148728.26</td>\n      <td>+10.36%</td>\n      <td>3236027</td>\n      <td>https://steamcharts.com/app/578080</td>\n      <td>2018-01-01</td>\n      <td>PUBG: Battlegrounds</td>\n    </tr>\n    <tr>\n      <th>267</th>\n      <td>December 2017</td>\n      <td>1436158.51</td>\n      <td>101988.42</td>\n      <td>+7.64%</td>\n      <td>3080769</td>\n      <td>https://steamcharts.com/app/578080</td>\n      <td>2017-12-01</td>\n      <td>PUBG: Battlegrounds</td>\n    </tr>\n    <tr>\n      <th>265</th>\n      <td>February 2018</td>\n      <td>1391015.30</td>\n      <td>-193871.48</td>\n      <td>-12.23%</td>\n      <td>2934761</td>\n      <td>https://steamcharts.com/app/578080</td>\n      <td>2018-02-01</td>\n      <td>PUBG: Battlegrounds</td>\n    </tr>\n    <tr>\n      <th>268</th>\n      <td>November 2017</td>\n      <td>1334170.09</td>\n      <td>247531.23</td>\n      <td>+22.78%</td>\n      <td>2915723</td>\n      <td>https://steamcharts.com/app/578080</td>\n      <td>2017-11-01</td>\n      <td>PUBG: Battlegrounds</td>\n    </tr>\n    <tr>\n      <th>264</th>\n      <td>March 2018</td>\n      <td>1295408.59</td>\n      <td>-95606.71</td>\n      <td>-6.87%</td>\n      <td>2799269</td>\n      <td>https://steamcharts.com/app/578080</td>\n      <td>2018-03-01</td>\n      <td>PUBG: Battlegrounds</td>\n    </tr>\n    <tr>\n      <th>...</th>\n      <td>...</td>\n      <td>...</td>\n      <td>...</td>\n      <td>...</td>\n      <td>...</td>\n      <td>...</td>\n      <td>...</td>\n      <td>...</td>\n    </tr>\n    <tr>\n      <th>3333</th>\n      <td>June 2013</td>\n      <td>0.00</td>\n      <td>0.00</td>\n      <td>+NaN%</td>\n      <td>0</td>\n      <td>https://steamcharts.com/app/236850</td>\n      <td>2013-06-01</td>\n      <td>Europa Universalis IV</td>\n    </tr>\n    <tr>\n      <th>3332</th>\n      <td>July 2013</td>\n      <td>0.00</td>\n      <td>0.00</td>\n      <td>+NaN%</td>\n      <td>0</td>\n      <td>https://steamcharts.com/app/236850</td>\n      <td>2013-07-01</td>\n      <td>Europa Universalis IV</td>\n    </tr>\n    <tr>\n      <th>950</th>\n      <td>December 2012</td>\n      <td>0.00</td>\n      <td>0.00</td>\n      <td>+NaN%</td>\n      <td>0</td>\n      <td>https://steamcharts.com/app/218620</td>\n      <td>2012-12-01</td>\n      <td>PAYDAY 2</td>\n    </tr>\n    <tr>\n      <th>953</th>\n      <td>September 2012</td>\n      <td>0.00</td>\n      <td>0.00</td>\n      <td>+NaN%</td>\n      <td>0</td>\n      <td>https://steamcharts.com/app/218620</td>\n      <td>2012-09-01</td>\n      <td>PAYDAY 2</td>\n    </tr>\n    <tr>\n      <th>1457</th>\n      <td>May 2013</td>\n      <td>0.00</td>\n      <td>-0.02</td>\n      <td>-100.00%</td>\n      <td>0</td>\n      <td>https://steamcharts.com/app/236390</td>\n      <td>2013-05-01</td>\n      <td>War Thunder</td>\n    </tr>\n  </tbody>\n</table>\n<p>5173 rows × 8 columns</p>\n</div>"
     },
     "execution_count": 23,
     "metadata": {},
     "output_type": "execute_result"
    }
   ],
   "source": [
    "data_clean.groupby('Game_Name', as_index=False, sort=False)[\n",
    "    'Peak_Players'].sum()\n",
    "sd5 = data_clean.sort_values('Peak_Players', ascending=False)\n",
    "sd5\n"
   ]
  },
  {
   "cell_type": "code",
   "execution_count": 55,
   "outputs": [
    {
     "data": {
      "text/plain": "         Month_Year  Avg_players       Gain Percent_Gain  Peak_Players  \\\n266    January 2018   1584886.77  148728.26      +10.36%       3236027   \n267   December 2017   1436158.51  101988.42       +7.64%       3080769   \n265   February 2018   1391015.30 -193871.48      -12.23%       2934761   \n268   November 2017   1334170.09  247531.23      +22.78%       2915723   \n264      March 2018   1295408.59  -95606.71       -6.87%       2799269   \n..              ...          ...        ...          ...           ...   \n206    October 2013    329677.64   17252.88       +5.52%        581615   \n63        June 2016    334311.06   -4427.34       -1.31%        579110   \n26        July 2019    393782.83    4406.10       +1.13%        578933   \n77       April 2015    291748.74   23752.43       +8.86%        568556   \n207  September 2013    312424.76  -18295.30       -5.53%        566715   \n\n                                    URL        Date  \\\n266  https://steamcharts.com/app/578080  2018-01-01   \n267  https://steamcharts.com/app/578080  2017-12-01   \n265  https://steamcharts.com/app/578080  2018-02-01   \n268  https://steamcharts.com/app/578080  2017-11-01   \n264  https://steamcharts.com/app/578080  2018-03-01   \n..                                  ...         ...   \n206     https://steamcharts.com/app/570  2013-10-01   \n63      https://steamcharts.com/app/730  2016-06-01   \n26      https://steamcharts.com/app/730  2019-07-01   \n77      https://steamcharts.com/app/730  2015-04-01   \n207     https://steamcharts.com/app/570  2013-09-01   \n\n                            Game_Name  \n266               PUBG: Battlegrounds  \n267               PUBG: Battlegrounds  \n265               PUBG: Battlegrounds  \n268               PUBG: Battlegrounds  \n264               PUBG: Battlegrounds  \n..                                ...  \n206                            Dota 2  \n63   Counter Strike: Global Offensive  \n26   Counter Strike: Global Offensive  \n77   Counter Strike: Global Offensive  \n207                            Dota 2  \n\n[200 rows x 8 columns]",
      "text/html": "<div>\n<style scoped>\n    .dataframe tbody tr th:only-of-type {\n        vertical-align: middle;\n    }\n\n    .dataframe tbody tr th {\n        vertical-align: top;\n    }\n\n    .dataframe thead th {\n        text-align: right;\n    }\n</style>\n<table border=\"1\" class=\"dataframe\">\n  <thead>\n    <tr style=\"text-align: right;\">\n      <th></th>\n      <th>Month_Year</th>\n      <th>Avg_players</th>\n      <th>Gain</th>\n      <th>Percent_Gain</th>\n      <th>Peak_Players</th>\n      <th>URL</th>\n      <th>Date</th>\n      <th>Game_Name</th>\n    </tr>\n  </thead>\n  <tbody>\n    <tr>\n      <th>266</th>\n      <td>January 2018</td>\n      <td>1584886.77</td>\n      <td>148728.26</td>\n      <td>+10.36%</td>\n      <td>3236027</td>\n      <td>https://steamcharts.com/app/578080</td>\n      <td>2018-01-01</td>\n      <td>PUBG: Battlegrounds</td>\n    </tr>\n    <tr>\n      <th>267</th>\n      <td>December 2017</td>\n      <td>1436158.51</td>\n      <td>101988.42</td>\n      <td>+7.64%</td>\n      <td>3080769</td>\n      <td>https://steamcharts.com/app/578080</td>\n      <td>2017-12-01</td>\n      <td>PUBG: Battlegrounds</td>\n    </tr>\n    <tr>\n      <th>265</th>\n      <td>February 2018</td>\n      <td>1391015.30</td>\n      <td>-193871.48</td>\n      <td>-12.23%</td>\n      <td>2934761</td>\n      <td>https://steamcharts.com/app/578080</td>\n      <td>2018-02-01</td>\n      <td>PUBG: Battlegrounds</td>\n    </tr>\n    <tr>\n      <th>268</th>\n      <td>November 2017</td>\n      <td>1334170.09</td>\n      <td>247531.23</td>\n      <td>+22.78%</td>\n      <td>2915723</td>\n      <td>https://steamcharts.com/app/578080</td>\n      <td>2017-11-01</td>\n      <td>PUBG: Battlegrounds</td>\n    </tr>\n    <tr>\n      <th>264</th>\n      <td>March 2018</td>\n      <td>1295408.59</td>\n      <td>-95606.71</td>\n      <td>-6.87%</td>\n      <td>2799269</td>\n      <td>https://steamcharts.com/app/578080</td>\n      <td>2018-03-01</td>\n      <td>PUBG: Battlegrounds</td>\n    </tr>\n    <tr>\n      <th>...</th>\n      <td>...</td>\n      <td>...</td>\n      <td>...</td>\n      <td>...</td>\n      <td>...</td>\n      <td>...</td>\n      <td>...</td>\n      <td>...</td>\n    </tr>\n    <tr>\n      <th>206</th>\n      <td>October 2013</td>\n      <td>329677.64</td>\n      <td>17252.88</td>\n      <td>+5.52%</td>\n      <td>581615</td>\n      <td>https://steamcharts.com/app/570</td>\n      <td>2013-10-01</td>\n      <td>Dota 2</td>\n    </tr>\n    <tr>\n      <th>63</th>\n      <td>June 2016</td>\n      <td>334311.06</td>\n      <td>-4427.34</td>\n      <td>-1.31%</td>\n      <td>579110</td>\n      <td>https://steamcharts.com/app/730</td>\n      <td>2016-06-01</td>\n      <td>Counter Strike: Global Offensive</td>\n    </tr>\n    <tr>\n      <th>26</th>\n      <td>July 2019</td>\n      <td>393782.83</td>\n      <td>4406.10</td>\n      <td>+1.13%</td>\n      <td>578933</td>\n      <td>https://steamcharts.com/app/730</td>\n      <td>2019-07-01</td>\n      <td>Counter Strike: Global Offensive</td>\n    </tr>\n    <tr>\n      <th>77</th>\n      <td>April 2015</td>\n      <td>291748.74</td>\n      <td>23752.43</td>\n      <td>+8.86%</td>\n      <td>568556</td>\n      <td>https://steamcharts.com/app/730</td>\n      <td>2015-04-01</td>\n      <td>Counter Strike: Global Offensive</td>\n    </tr>\n    <tr>\n      <th>207</th>\n      <td>September 2013</td>\n      <td>312424.76</td>\n      <td>-18295.30</td>\n      <td>-5.53%</td>\n      <td>566715</td>\n      <td>https://steamcharts.com/app/570</td>\n      <td>2013-09-01</td>\n      <td>Dota 2</td>\n    </tr>\n  </tbody>\n</table>\n<p>200 rows × 8 columns</p>\n</div>"
     },
     "execution_count": 55,
     "metadata": {},
     "output_type": "execute_result"
    }
   ],
   "source": [
    "data_clean.groupby('Game_Name', as_index=False, sort=False)[\n",
    "    'Peak_Players'].mean()\n",
    "sd5 = data_clean.sort_values('Peak_Players', ascending=False)\n",
    "sd6 = sd5.head(200)\n",
    "sd6"
   ],
   "metadata": {
    "collapsed": false,
    "pycharm": {
     "name": "#%%\n"
    }
   }
  },
  {
   "cell_type": "code",
   "execution_count": 25,
   "outputs": [],
   "source": [
    "# fig = px.line(sd4, x=\"Month_Year\", y=\"Peak_Players\", color='Game_Name', title='Avg Players Over the Years')\n",
    "# fig.show()"
   ],
   "metadata": {
    "collapsed": false,
    "pycharm": {
     "name": "#%%\n"
    }
   }
  },
  {
   "cell_type": "code",
   "execution_count": 26,
   "metadata": {},
   "outputs": [],
   "source": [
    "# plt.figure(figsize=(15, 8))\n",
    "# ax = sns.barplot(x='Game_Name', y='Peak_Players', data=data_clean)\n",
    "# ax.set_xticklabels(ax.get_xticklabels(), rotation=45)"
   ]
  },
  {
   "cell_type": "code",
   "execution_count": 27,
   "outputs": [],
   "source": [
    "pubg = data_clean.groupby(\"Game_Name\")\n",
    "\n",
    "pubg2 = pubg.get_group('PUBG: Battlegrounds')"
   ],
   "metadata": {
    "collapsed": false,
    "pycharm": {
     "name": "#%% Group By PUBG\n"
    }
   }
  },
  {
   "cell_type": "code",
   "execution_count": 28,
   "outputs": [],
   "source": [
    "pubg3 = pubg2.head(100)"
   ],
   "metadata": {
    "collapsed": false,
    "pycharm": {
     "name": "#%% Taking the top 100 rows after grouping\n"
    }
   }
  },
  {
   "cell_type": "code",
   "execution_count": 29,
   "outputs": [
    {
     "data": {
      "text/plain": "[Text(0, 0, 'September 2021'),\n Text(1, 0, 'August 2021'),\n Text(2, 0, 'July 2021'),\n Text(3, 0, 'June 2021'),\n Text(4, 0, 'May 2021'),\n Text(5, 0, 'April 2021'),\n Text(6, 0, 'March 2021'),\n Text(7, 0, 'February 2021'),\n Text(8, 0, 'January 2021'),\n Text(9, 0, 'December 2020'),\n Text(10, 0, 'November 2020'),\n Text(11, 0, 'October 2020'),\n Text(12, 0, 'September 2020'),\n Text(13, 0, 'August 2020'),\n Text(14, 0, 'July 2020'),\n Text(15, 0, 'June 2020'),\n Text(16, 0, 'May 2020'),\n Text(17, 0, 'April 2020'),\n Text(18, 0, 'March 2020'),\n Text(19, 0, 'February 2020'),\n Text(20, 0, 'January 2020'),\n Text(21, 0, 'December 2019'),\n Text(22, 0, 'November 2019'),\n Text(23, 0, 'October 2019'),\n Text(24, 0, 'September 2019'),\n Text(25, 0, 'August 2019'),\n Text(26, 0, 'July 2019'),\n Text(27, 0, 'June 2019'),\n Text(28, 0, 'May 2019'),\n Text(29, 0, 'April 2019'),\n Text(30, 0, 'March 2019'),\n Text(31, 0, 'February 2019'),\n Text(32, 0, 'January 2019'),\n Text(33, 0, 'December 2018'),\n Text(34, 0, 'November 2018'),\n Text(35, 0, 'October 2018'),\n Text(36, 0, 'September 2018'),\n Text(37, 0, 'August 2018'),\n Text(38, 0, 'July 2018'),\n Text(39, 0, 'June 2018'),\n Text(40, 0, 'May 2018'),\n Text(41, 0, 'April 2018'),\n Text(42, 0, 'March 2018'),\n Text(43, 0, 'February 2018'),\n Text(44, 0, 'January 2018'),\n Text(45, 0, 'December 2017'),\n Text(46, 0, 'November 2017'),\n Text(47, 0, 'October 2017'),\n Text(48, 0, 'September 2017'),\n Text(49, 0, 'August 2017'),\n Text(50, 0, 'July 2017'),\n Text(51, 0, 'June 2017'),\n Text(52, 0, 'May 2017'),\n Text(53, 0, 'April 2017')]"
     },
     "execution_count": 29,
     "metadata": {},
     "output_type": "execute_result"
    },
    {
     "data": {
      "text/plain": "<Figure size 1440x720 with 1 Axes>",
      "image/png": "[encoded data removed]"
     },
     "metadata": {
      "needs_background": "light"
     },
     "output_type": "display_data"
    }
   ],
   "source": [
    "plt.figure(figsize=(20, 10,))\n",
    "ax = sns.barplot(x='Month_Year', y='Avg_players', data=pubg3, color=\"salmon\")\n",
    "ax.set_xticklabels(ax.get_xticklabels(), rotation=90, fontsize=13)\n"
   ],
   "metadata": {
    "collapsed": false,
    "pycharm": {
     "name": "#%% Bar plot showing the average PUBG players from 2017 - 2021\n"
    }
   }
  },
  {
   "cell_type": "code",
   "execution_count": 30,
   "outputs": [
    {
     "data": {
      "application/vnd.plotly.v1+json": {
       "config": {
        "plotlyServerURL": "https://plot.ly"
       },
       "data": [
        {
         "hovertemplate": "Month_Year=%{x}<br>Avg_players=%{y}<extra></extra>",
         "legendgroup": "",
         "line": {
          "color": "#636efa",
          "dash": "solid"
         },
         "marker": {
          "symbol": "circle"
         },
         "mode": "lines",
         "name": "",
         "orientation": "v",
         "showlegend": false,
         "type": "scatter",
         "x": [
          "September 2021",
          "August 2021",
          "July 2021",
          "June 2021",
          "May 2021",
          "April 2021",
          "March 2021",
          "February 2021",
          "January 2021",
          "December 2020",
          "November 2020",
          "October 2020",
          "September 2020",
          "August 2020",
          "July 2020",
          "June 2020",
          "May 2020",
          "April 2020",
          "March 2020",
          "February 2020",
          "January 2020",
          "December 2019",
          "November 2019",
          "October 2019",
          "September 2019",
          "August 2019",
          "July 2019",
          "June 2019",
          "May 2019",
          "April 2019",
          "March 2019",
          "February 2019",
          "January 2019",
          "December 2018",
          "November 2018",
          "October 2018",
          "September 2018",
          "August 2018",
          "July 2018",
          "June 2018",
          "May 2018",
          "April 2018",
          "March 2018",
          "February 2018",
          "January 2018",
          "December 2017",
          "November 2017",
          "October 2017",
          "September 2017",
          "August 2017",
          "July 2017",
          "June 2017",
          "May 2017",
          "April 2017"
         ],
         "xaxis": "x",
         "y": [
          167102.12,
          184828.4,
          186249.97,
          179338.27,
          184701.21,
          186110.65,
          193114.18,
          198957.52,
          201247.19,
          189233.58,
          179520.26,
          162585.64,
          169093.71,
          192492.61,
          211700.3,
          230329.74,
          243258.78,
          242847.28,
          228467.17,
          257584.32,
          275363.04,
          308445.45,
          305659.39,
          287133.41,
          311444.31,
          358530.96,
          352888.88,
          363083.37,
          385840.59,
          390100.9,
          417812.51,
          437959.1,
          497803.25,
          473541.26,
          418159.48,
          469141.74,
          542607.05,
          619320.48,
          688620.42,
          800668.23,
          876180.64,
          1107181.8,
          1295408.59,
          1391015.3,
          1584886.77,
          1436158.51,
          1334170.09,
          1086638.87,
          660192.74,
          389527.42,
          229701.7,
          139902.24,
          107441.6,
          69794.98
         ],
         "yaxis": "y"
        }
       ],
       "layout": {
        "legend": {
         "tracegroupgap": 0
        },
        "template": {
         "data": {
          "bar": [
           {
            "error_x": {
             "color": "#2a3f5f"
            },
            "error_y": {
             "color": "#2a3f5f"
            },
            "marker": {
             "line": {
              "color": "#E5ECF6",
              "width": 0.5
             },
             "pattern": {
              "fillmode": "overlay",
              "size": 10,
              "solidity": 0.2
             }
            },
            "type": "bar"
           }
          ],
          "barpolar": [
           {
            "marker": {
             "line": {
              "color": "#E5ECF6",
              "width": 0.5
             },
             "pattern": {
              "fillmode": "overlay",
              "size": 10,
              "solidity": 0.2
             }
            },
            "type": "barpolar"
           }
          ],
          "carpet": [
           {
            "aaxis": {
             "endlinecolor": "#2a3f5f",
             "gridcolor": "white",
             "linecolor": "white",
             "minorgridcolor": "white",
             "startlinecolor": "#2a3f5f"
            },
            "baxis": {
             "endlinecolor": "#2a3f5f",
             "gridcolor": "white",
             "linecolor": "white",
             "minorgridcolor": "white",
             "startlinecolor": "#2a3f5f"
            },
            "type": "carpet"
           }
          ],
          "choropleth": [
           {
            "colorbar": {
             "outlinewidth": 0,
             "ticks": ""
            },
            "type": "choropleth"
           }
          ],
          "contour": [
           {
            "colorbar": {
             "outlinewidth": 0,
             "ticks": ""
            },
            "colorscale": [
             [
              0.0,
              "#0d0887"
             ],
             [
              0.1111111111111111,
              "#46039f"
             ],
             [
              0.2222222222222222,
              "#7201a8"
             ],
             [
              0.3333333333333333,
              "#9c179e"
             ],
             [
              0.4444444444444444,
              "#bd3786"
             ],
             [
              0.5555555555555556,
              "#d8576b"
             ],
             [
              0.6666666666666666,
              "#ed7953"
             ],
             [
              0.7777777777777778,
              "#fb9f3a"
             ],
             [
              0.8888888888888888,
              "#fdca26"
             ],
             [
              1.0,
              "#f0f921"
             ]
            ],
            "type": "contour"
           }
          ],
          "contourcarpet": [
           {
            "colorbar": {
             "outlinewidth": 0,
             "ticks": ""
            },
            "type": "contourcarpet"
           }
          ],
          "heatmap": [
           {
            "colorbar": {
             "outlinewidth": 0,
             "ticks": ""
            },
            "colorscale": [
             [
              0.0,
              "#0d0887"
             ],
             [
              0.1111111111111111,
              "#46039f"
             ],
             [
              0.2222222222222222,
              "#7201a8"
             ],
             [
              0.3333333333333333,
              "#9c179e"
             ],
             [
              0.4444444444444444,
              "#bd3786"
             ],
             [
              0.5555555555555556,
              "#d8576b"
             ],
             [
              0.6666666666666666,
              "#ed7953"
             ],
             [
              0.7777777777777778,
              "#fb9f3a"
             ],
             [
              0.8888888888888888,
              "#fdca26"
             ],
             [
              1.0,
              "#f0f921"
             ]
            ],
            "type": "heatmap"
           }
          ],
          "heatmapgl": [
           {
            "colorbar": {
             "outlinewidth": 0,
             "ticks": ""
            },
            "colorscale": [
             [
              0.0,
              "#0d0887"
             ],
             [
              0.1111111111111111,
              "#46039f"
             ],
             [
              0.2222222222222222,
              "#7201a8"
             ],
             [
              0.3333333333333333,
              "#9c179e"
             ],
             [
              0.4444444444444444,
              "#bd3786"
             ],
             [
              0.5555555555555556,
              "#d8576b"
             ],
             [
              0.6666666666666666,
              "#ed7953"
             ],
             [
              0.7777777777777778,
              "#fb9f3a"
             ],
             [
              0.8888888888888888,
              "#fdca26"
             ],
             [
              1.0,
              "#f0f921"
             ]
            ],
            "type": "heatmapgl"
           }
          ],
          "histogram": [
           {
            "marker": {
             "pattern": {
              "fillmode": "overlay",
              "size": 10,
              "solidity": 0.2
             }
            },
            "type": "histogram"
           }
          ],
          "histogram2d": [
           {
            "colorbar": {
             "outlinewidth": 0,
             "ticks": ""
            },
            "colorscale": [
             [
              0.0,
              "#0d0887"
             ],
             [
              0.1111111111111111,
              "#46039f"
             ],
             [
              0.2222222222222222,
              "#7201a8"
             ],
             [
              0.3333333333333333,
              "#9c179e"
             ],
             [
              0.4444444444444444,
              "#bd3786"
             ],
             [
              0.5555555555555556,
              "#d8576b"
             ],
             [
              0.6666666666666666,
              "#ed7953"
             ],
             [
              0.7777777777777778,
              "#fb9f3a"
             ],
             [
              0.8888888888888888,
              "#fdca26"
             ],
             [
              1.0,
              "#f0f921"
             ]
            ],
            "type": "histogram2d"
           }
          ],
          "histogram2dcontour": [
           {
            "colorbar": {
             "outlinewidth": 0,
             "ticks": ""
            },
            "colorscale": [
             [
              0.0,
              "#0d0887"
             ],
             [
              0.1111111111111111,
              "#46039f"
             ],
             [
              0.2222222222222222,
              "#7201a8"
             ],
             [
              0.3333333333333333,
              "#9c179e"
             ],
             [
              0.4444444444444444,
              "#bd3786"
             ],
             [
              0.5555555555555556,
              "#d8576b"
             ],
             [
              0.6666666666666666,
              "#ed7953"
             ],
             [
              0.7777777777777778,
              "#fb9f3a"
             ],
             [
              0.8888888888888888,
              "#fdca26"
             ],
             [
              1.0,
              "#f0f921"
             ]
            ],
            "type": "histogram2dcontour"
           }
          ],
          "mesh3d": [
           {
            "colorbar": {
             "outlinewidth": 0,
             "ticks": ""
            },
            "type": "mesh3d"
           }
          ],
          "parcoords": [
           {
            "line": {
             "colorbar": {
              "outlinewidth": 0,
              "ticks": ""
             }
            },
            "type": "parcoords"
           }
          ],
          "pie": [
           {
            "automargin": true,
            "type": "pie"
           }
          ],
          "scatter": [
           {
            "marker": {
             "colorbar": {
              "outlinewidth": 0,
              "ticks": ""
             }
            },
            "type": "scatter"
           }
          ],
          "scatter3d": [
           {
            "line": {
             "colorbar": {
              "outlinewidth": 0,
              "ticks": ""
             }
            },
            "marker": {
             "colorbar": {
              "outlinewidth": 0,
              "ticks": ""
             }
            },
            "type": "scatter3d"
           }
          ],
          "scattercarpet": [
           {
            "marker": {
             "colorbar": {
              "outlinewidth": 0,
              "ticks": ""
             }
            },
            "type": "scattercarpet"
           }
          ],
          "scattergeo": [
           {
            "marker": {
             "colorbar": {
              "outlinewidth": 0,
              "ticks": ""
             }
            },
            "type": "scattergeo"
           }
          ],
          "scattergl": [
           {
            "marker": {
             "colorbar": {
              "outlinewidth": 0,
              "ticks": ""
             }
            },
            "type": "scattergl"
           }
          ],
          "scattermapbox": [
           {
            "marker": {
             "colorbar": {
              "outlinewidth": 0,
              "ticks": ""
             }
            },
            "type": "scattermapbox"
           }
          ],
          "scatterpolar": [
           {
            "marker": {
             "colorbar": {
              "outlinewidth": 0,
              "ticks": ""
             }
            },
            "type": "scatterpolar"
           }
          ],
          "scatterpolargl": [
           {
            "marker": {
             "colorbar": {
              "outlinewidth": 0,
              "ticks": ""
             }
            },
            "type": "scatterpolargl"
           }
          ],
          "scatterternary": [
           {
            "marker": {
             "colorbar": {
              "outlinewidth": 0,
              "ticks": ""
             }
            },
            "type": "scatterternary"
           }
          ],
          "surface": [
           {
            "colorbar": {
             "outlinewidth": 0,
             "ticks": ""
            },
            "colorscale": [
             [
              0.0,
              "#0d0887"
             ],
             [
              0.1111111111111111,
              "#46039f"
             ],
             [
              0.2222222222222222,
              "#7201a8"
             ],
             [
              0.3333333333333333,
              "#9c179e"
             ],
             [
              0.4444444444444444,
              "#bd3786"
             ],
             [
              0.5555555555555556,
              "#d8576b"
             ],
             [
              0.6666666666666666,
              "#ed7953"
             ],
             [
              0.7777777777777778,
              "#fb9f3a"
             ],
             [
              0.8888888888888888,
              "#fdca26"
             ],
             [
              1.0,
              "#f0f921"
             ]
            ],
            "type": "surface"
           }
          ],
          "table": [
           {
            "cells": {
             "fill": {
              "color": "#EBF0F8"
             },
             "line": {
              "color": "white"
             }
            },
            "header": {
             "fill": {
              "color": "#C8D4E3"
             },
             "line": {
              "color": "white"
             }
            },
            "type": "table"
           }
          ]
         },
         "layout": {
          "annotationdefaults": {
           "arrowcolor": "#2a3f5f",
           "arrowhead": 0,
           "arrowwidth": 1
          },
          "autotypenumbers": "strict",
          "coloraxis": {
           "colorbar": {
            "outlinewidth": 0,
            "ticks": ""
           }
          },
          "colorscale": {
           "diverging": [
            [
             0,
             "#8e0152"
            ],
            [
             0.1,
             "#c51b7d"
            ],
            [
             0.2,
             "#de77ae"
            ],
            [
             0.3,
             "#f1b6da"
            ],
            [
             0.4,
             "#fde0ef"
            ],
            [
             0.5,
             "#f7f7f7"
            ],
            [
             0.6,
             "#e6f5d0"
            ],
            [
             0.7,
             "#b8e186"
            ],
            [
             0.8,
             "#7fbc41"
            ],
            [
             0.9,
             "#4d9221"
            ],
            [
             1,
             "#276419"
            ]
           ],
           "sequential": [
            [
             0.0,
             "#0d0887"
            ],
            [
             0.1111111111111111,
             "#46039f"
            ],
            [
             0.2222222222222222,
             "#7201a8"
            ],
            [
             0.3333333333333333,
             "#9c179e"
            ],
            [
             0.4444444444444444,
             "#bd3786"
            ],
            [
             0.5555555555555556,
             "#d8576b"
            ],
            [
             0.6666666666666666,
             "#ed7953"
            ],
            [
             0.7777777777777778,
             "#fb9f3a"
            ],
            [
             0.8888888888888888,
             "#fdca26"
            ],
            [
             1.0,
             "#f0f921"
            ]
           ],
           "sequentialminus": [
            [
             0.0,
             "#0d0887"
            ],
            [
             0.1111111111111111,
             "#46039f"
            ],
            [
             0.2222222222222222,
             "#7201a8"
            ],
            [
             0.3333333333333333,
             "#9c179e"
            ],
            [
             0.4444444444444444,
             "#bd3786"
            ],
            [
             0.5555555555555556,
             "#d8576b"
            ],
            [
             0.6666666666666666,
             "#ed7953"
            ],
            [
             0.7777777777777778,
             "#fb9f3a"
            ],
            [
             0.8888888888888888,
             "#fdca26"
            ],
            [
             1.0,
             "#f0f921"
            ]
           ]
          },
          "colorway": [
           "#636efa",
           "#EF553B",
           "#00cc96",
           "#ab63fa",
           "#FFA15A",
           "#19d3f3",
           "#FF6692",
           "#B6E880",
           "#FF97FF",
           "#FECB52"
          ],
          "font": {
           "color": "#2a3f5f"
          },
          "geo": {
           "bgcolor": "white",
           "lakecolor": "white",
           "landcolor": "#E5ECF6",
           "showlakes": true,
           "showland": true,
           "subunitcolor": "white"
          },
          "hoverlabel": {
           "align": "left"
          },
          "hovermode": "closest",
          "mapbox": {
           "style": "light"
          },
          "paper_bgcolor": "white",
          "plot_bgcolor": "#E5ECF6",
          "polar": {
           "angularaxis": {
            "gridcolor": "white",
            "linecolor": "white",
            "ticks": ""
           },
           "bgcolor": "#E5ECF6",
           "radialaxis": {
            "gridcolor": "white",
            "linecolor": "white",
            "ticks": ""
           }
          },
          "scene": {
           "xaxis": {
            "backgroundcolor": "#E5ECF6",
            "gridcolor": "white",
            "gridwidth": 2,
            "linecolor": "white",
            "showbackground": true,
            "ticks": "",
            "zerolinecolor": "white"
           },
           "yaxis": {
            "backgroundcolor": "#E5ECF6",
            "gridcolor": "white",
            "gridwidth": 2,
            "linecolor": "white",
            "showbackground": true,
            "ticks": "",
            "zerolinecolor": "white"
           },
           "zaxis": {
            "backgroundcolor": "#E5ECF6",
            "gridcolor": "white",
            "gridwidth": 2,
            "linecolor": "white",
            "showbackground": true,
            "ticks": "",
            "zerolinecolor": "white"
           }
          },
          "shapedefaults": {
           "line": {
            "color": "#2a3f5f"
           }
          },
          "ternary": {
           "aaxis": {
            "gridcolor": "white",
            "linecolor": "white",
            "ticks": ""
           },
           "baxis": {
            "gridcolor": "white",
            "linecolor": "white",
            "ticks": ""
           },
           "bgcolor": "#E5ECF6",
           "caxis": {
            "gridcolor": "white",
            "linecolor": "white",
            "ticks": ""
           }
          },
          "title": {
           "x": 0.05
          },
          "xaxis": {
           "automargin": true,
           "gridcolor": "white",
           "linecolor": "white",
           "ticks": "",
           "title": {
            "standoff": 15
           },
           "zerolinecolor": "white",
           "zerolinewidth": 2
          },
          "yaxis": {
           "automargin": true,
           "gridcolor": "white",
           "linecolor": "white",
           "ticks": "",
           "title": {
            "standoff": 15
           },
           "zerolinecolor": "white",
           "zerolinewidth": 2
          }
         }
        },
        "title": {
         "text": "Avg Players Over the Years"
        },
        "xaxis": {
         "anchor": "y",
         "domain": [
          0.0,
          1.0
         ],
         "title": {
          "text": "Month_Year"
         }
        },
        "yaxis": {
         "anchor": "x",
         "domain": [
          0.0,
          1.0
         ],
         "title": {
          "text": "Avg_players"
         }
        }
       }
      },
      "text/html": "<div>                            <div id=\"b05544e7-c709-4f02-b227-73817dc56f21\" class=\"plotly-graph-div\" style=\"height:525px; width:100%;\"></div>            <script type=\"text/javascript\">                require([\"plotly\"], function(Plotly) {                    window.PLOTLYENV=window.PLOTLYENV || {};                                    if (document.getElementById(\"b05544e7-c709-4f02-b227-73817dc56f21\")) {                    Plotly.newPlot(                        \"b05544e7-c709-4f02-b227-73817dc56f21\",                        [{\"hovertemplate\":\"Month_Year=%{x}<br>Avg_players=%{y}<extra></extra>\",\"legendgroup\":\"\",\"line\":{\"color\":\"#636efa\",\"dash\":\"solid\"},\"marker\":{\"symbol\":\"circle\"},\"mode\":\"lines\",\"name\":\"\",\"orientation\":\"v\",\"showlegend\":false,\"type\":\"scatter\",\"x\":[\"September 2021\",\"August 2021\",\"July 2021\",\"June 2021\",\"May 2021\",\"April 2021\",\"March 2021\",\"February 2021\",\"January 2021\",\"December 2020\",\"November 2020\",\"October 2020\",\"September 2020\",\"August 2020\",\"July 2020\",\"June 2020\",\"May 2020\",\"April 2020\",\"March 2020\",\"February 2020\",\"January 2020\",\"December 2019\",\"November 2019\",\"October 2019\",\"September 2019\",\"August 2019\",\"July 2019\",\"June 2019\",\"May 2019\",\"April 2019\",\"March 2019\",\"February 2019\",\"January 2019\",\"December 2018\",\"November 2018\",\"October 2018\",\"September 2018\",\"August 2018\",\"July 2018\",\"June 2018\",\"May 2018\",\"April 2018\",\"March 2018\",\"February 2018\",\"January 2018\",\"December 2017\",\"November 2017\",\"October 2017\",\"September 2017\",\"August 2017\",\"July 2017\",\"June 2017\",\"May 2017\",\"April 2017\"],\"xaxis\":\"x\",\"y\":[167102.12,184828.4,186249.97,179338.27,184701.21,186110.65,193114.18,198957.52,201247.19,189233.58,179520.26,162585.64,169093.71,192492.61,211700.3,230329.74,243258.78,242847.28,228467.17,257584.32,275363.04,308445.45,305659.39,287133.41,311444.31,358530.96,352888.88,363083.37,385840.59,390100.9,417812.51,437959.1,497803.25,473541.26,418159.48,469141.74,542607.05,619320.48,688620.42,800668.23,876180.64,1107181.8,1295408.59,1391015.3,1584886.77,1436158.51,1334170.09,1086638.87,660192.74,389527.42,229701.7,139902.24,107441.6,69794.98],\"yaxis\":\"y\"}],                        {\"legend\":{\"tracegroupgap\":0},\"template\":{\"data\":{\"bar\":[{\"error_x\":{\"color\":\"#2a3f5f\"},\"error_y\":{\"color\":\"#2a3f5f\"},\"marker\":{\"line\":{\"color\":\"#E5ECF6\",\"width\":0.5},\"pattern\":{\"fillmode\":\"overlay\",\"size\":10,\"solidity\":0.2}},\"type\":\"bar\"}],\"barpolar\":[{\"marker\":{\"line\":{\"color\":\"#E5ECF6\",\"width\":0.5},\"pattern\":{\"fillmode\":\"overlay\",\"size\":10,\"solidity\":0.2}},\"type\":\"barpolar\"}],\"carpet\":[{\"aaxis\":{\"endlinecolor\":\"#2a3f5f\",\"gridcolor\":\"white\",\"linecolor\":\"white\",\"minorgridcolor\":\"white\",\"startlinecolor\":\"#2a3f5f\"},\"baxis\":{\"endlinecolor\":\"#2a3f5f\",\"gridcolor\":\"white\",\"linecolor\":\"white\",\"minorgridcolor\":\"white\",\"startlinecolor\":\"#2a3f5f\"},\"type\":\"carpet\"}],\"choropleth\":[{\"colorbar\":{\"outlinewidth\":0,\"ticks\":\"\"},\"type\":\"choropleth\"}],\"contour\":[{\"colorbar\":{\"outlinewidth\":0,\"ticks\":\"\"},\"colorscale\":[[0.0,\"#0d0887\"],[0.1111111111111111,\"#46039f\"],[0.2222222222222222,\"#7201a8\"],[0.3333333333333333,\"#9c179e\"],[0.4444444444444444,\"#bd3786\"],[0.5555555555555556,\"#d8576b\"],[0.6666666666666666,\"#ed7953\"],[0.7777777777777778,\"#fb9f3a\"],[0.8888888888888888,\"#fdca26\"],[1.0,\"#f0f921\"]],\"type\":\"contour\"}],\"contourcarpet\":[{\"colorbar\":{\"outlinewidth\":0,\"ticks\":\"\"},\"type\":\"contourcarpet\"}],\"heatmap\":[{\"colorbar\":{\"outlinewidth\":0,\"ticks\":\"\"},\"colorscale\":[[0.0,\"#0d0887\"],[0.1111111111111111,\"#46039f\"],[0.2222222222222222,\"#7201a8\"],[0.3333333333333333,\"#9c179e\"],[0.4444444444444444,\"#bd3786\"],[0.5555555555555556,\"#d8576b\"],[0.6666666666666666,\"#ed7953\"],[0.7777777777777778,\"#fb9f3a\"],[0.8888888888888888,\"#fdca26\"],[1.0,\"#f0f921\"]],\"type\":\"heatmap\"}],\"heatmapgl\":[{\"colorbar\":{\"outlinewidth\":0,\"ticks\":\"\"},\"colorscale\":[[0.0,\"#0d0887\"],[0.1111111111111111,\"#46039f\"],[0.2222222222222222,\"#7201a8\"],[0.3333333333333333,\"#9c179e\"],[0.4444444444444444,\"#bd3786\"],[0.5555555555555556,\"#d8576b\"],[0.6666666666666666,\"#ed7953\"],[0.7777777777777778,\"#fb9f3a\"],[0.8888888888888888,\"#fdca26\"],[1.0,\"#f0f921\"]],\"type\":\"heatmapgl\"}],\"histogram\":[{\"marker\":{\"pattern\":{\"fillmode\":\"overlay\",\"size\":10,\"solidity\":0.2}},\"type\":\"histogram\"}],\"histogram2d\":[{\"colorbar\":{\"outlinewidth\":0,\"ticks\":\"\"},\"colorscale\":[[0.0,\"#0d0887\"],[0.1111111111111111,\"#46039f\"],[0.2222222222222222,\"#7201a8\"],[0.3333333333333333,\"#9c179e\"],[0.4444444444444444,\"#bd3786\"],[0.5555555555555556,\"#d8576b\"],[0.6666666666666666,\"#ed7953\"],[0.7777777777777778,\"#fb9f3a\"],[0.8888888888888888,\"#fdca26\"],[1.0,\"#f0f921\"]],\"type\":\"histogram2d\"}],\"histogram2dcontour\":[{\"colorbar\":{\"outlinewidth\":0,\"ticks\":\"\"},\"colorscale\":[[0.0,\"#0d0887\"],[0.1111111111111111,\"#46039f\"],[0.2222222222222222,\"#7201a8\"],[0.3333333333333333,\"#9c179e\"],[0.4444444444444444,\"#bd3786\"],[0.5555555555555556,\"#d8576b\"],[0.6666666666666666,\"#ed7953\"],[0.7777777777777778,\"#fb9f3a\"],[0.8888888888888888,\"#fdca26\"],[1.0,\"#f0f921\"]],\"type\":\"histogram2dcontour\"}],\"mesh3d\":[{\"colorbar\":{\"outlinewidth\":0,\"ticks\":\"\"},\"type\":\"mesh3d\"}],\"parcoords\":[{\"line\":{\"colorbar\":{\"outlinewidth\":0,\"ticks\":\"\"}},\"type\":\"parcoords\"}],\"pie\":[{\"automargin\":true,\"type\":\"pie\"}],\"scatter\":[{\"marker\":{\"colorbar\":{\"outlinewidth\":0,\"ticks\":\"\"}},\"type\":\"scatter\"}],\"scatter3d\":[{\"line\":{\"colorbar\":{\"outlinewidth\":0,\"ticks\":\"\"}},\"marker\":{\"colorbar\":{\"outlinewidth\":0,\"ticks\":\"\"}},\"type\":\"scatter3d\"}],\"scattercarpet\":[{\"marker\":{\"colorbar\":{\"outlinewidth\":0,\"ticks\":\"\"}},\"type\":\"scattercarpet\"}],\"scattergeo\":[{\"marker\":{\"colorbar\":{\"outlinewidth\":0,\"ticks\":\"\"}},\"type\":\"scattergeo\"}],\"scattergl\":[{\"marker\":{\"colorbar\":{\"outlinewidth\":0,\"ticks\":\"\"}},\"type\":\"scattergl\"}],\"scattermapbox\":[{\"marker\":{\"colorbar\":{\"outlinewidth\":0,\"ticks\":\"\"}},\"type\":\"scattermapbox\"}],\"scatterpolar\":[{\"marker\":{\"colorbar\":{\"outlinewidth\":0,\"ticks\":\"\"}},\"type\":\"scatterpolar\"}],\"scatterpolargl\":[{\"marker\":{\"colorbar\":{\"outlinewidth\":0,\"ticks\":\"\"}},\"type\":\"scatterpolargl\"}],\"scatterternary\":[{\"marker\":{\"colorbar\":{\"outlinewidth\":0,\"ticks\":\"\"}},\"type\":\"scatterternary\"}],\"surface\":[{\"colorbar\":{\"outlinewidth\":0,\"ticks\":\"\"},\"colorscale\":[[0.0,\"#0d0887\"],[0.1111111111111111,\"#46039f\"],[0.2222222222222222,\"#7201a8\"],[0.3333333333333333,\"#9c179e\"],[0.4444444444444444,\"#bd3786\"],[0.5555555555555556,\"#d8576b\"],[0.6666666666666666,\"#ed7953\"],[0.7777777777777778,\"#fb9f3a\"],[0.8888888888888888,\"#fdca26\"],[1.0,\"#f0f921\"]],\"type\":\"surface\"}],\"table\":[{\"cells\":{\"fill\":{\"color\":\"#EBF0F8\"},\"line\":{\"color\":\"white\"}},\"header\":{\"fill\":{\"color\":\"#C8D4E3\"},\"line\":{\"color\":\"white\"}},\"type\":\"table\"}]},\"layout\":{\"annotationdefaults\":{\"arrowcolor\":\"#2a3f5f\",\"arrowhead\":0,\"arrowwidth\":1},\"autotypenumbers\":\"strict\",\"coloraxis\":{\"colorbar\":{\"outlinewidth\":0,\"ticks\":\"\"}},\"colorscale\":{\"diverging\":[[0,\"#8e0152\"],[0.1,\"#c51b7d\"],[0.2,\"#de77ae\"],[0.3,\"#f1b6da\"],[0.4,\"#fde0ef\"],[0.5,\"#f7f7f7\"],[0.6,\"#e6f5d0\"],[0.7,\"#b8e186\"],[0.8,\"#7fbc41\"],[0.9,\"#4d9221\"],[1,\"#276419\"]],\"sequential\":[[0.0,\"#0d0887\"],[0.1111111111111111,\"#46039f\"],[0.2222222222222222,\"#7201a8\"],[0.3333333333333333,\"#9c179e\"],[0.4444444444444444,\"#bd3786\"],[0.5555555555555556,\"#d8576b\"],[0.6666666666666666,\"#ed7953\"],[0.7777777777777778,\"#fb9f3a\"],[0.8888888888888888,\"#fdca26\"],[1.0,\"#f0f921\"]],\"sequentialminus\":[[0.0,\"#0d0887\"],[0.1111111111111111,\"#46039f\"],[0.2222222222222222,\"#7201a8\"],[0.3333333333333333,\"#9c179e\"],[0.4444444444444444,\"#bd3786\"],[0.5555555555555556,\"#d8576b\"],[0.6666666666666666,\"#ed7953\"],[0.7777777777777778,\"#fb9f3a\"],[0.8888888888888888,\"#fdca26\"],[1.0,\"#f0f921\"]]},\"colorway\":[\"#636efa\",\"#EF553B\",\"#00cc96\",\"#ab63fa\",\"#FFA15A\",\"#19d3f3\",\"#FF6692\",\"#B6E880\",\"#FF97FF\",\"#FECB52\"],\"font\":{\"color\":\"#2a3f5f\"},\"geo\":{\"bgcolor\":\"white\",\"lakecolor\":\"white\",\"landcolor\":\"#E5ECF6\",\"showlakes\":true,\"showland\":true,\"subunitcolor\":\"white\"},\"hoverlabel\":{\"align\":\"left\"},\"hovermode\":\"closest\",\"mapbox\":{\"style\":\"light\"},\"paper_bgcolor\":\"white\",\"plot_bgcolor\":\"#E5ECF6\",\"polar\":{\"angularaxis\":{\"gridcolor\":\"white\",\"linecolor\":\"white\",\"ticks\":\"\"},\"bgcolor\":\"#E5ECF6\",\"radialaxis\":{\"gridcolor\":\"white\",\"linecolor\":\"white\",\"ticks\":\"\"}},\"scene\":{\"xaxis\":{\"backgroundcolor\":\"#E5ECF6\",\"gridcolor\":\"white\",\"gridwidth\":2,\"linecolor\":\"white\",\"showbackground\":true,\"ticks\":\"\",\"zerolinecolor\":\"white\"},\"yaxis\":{\"backgroundcolor\":\"#E5ECF6\",\"gridcolor\":\"white\",\"gridwidth\":2,\"linecolor\":\"white\",\"showbackground\":true,\"ticks\":\"\",\"zerolinecolor\":\"white\"},\"zaxis\":{\"backgroundcolor\":\"#E5ECF6\",\"gridcolor\":\"white\",\"gridwidth\":2,\"linecolor\":\"white\",\"showbackground\":true,\"ticks\":\"\",\"zerolinecolor\":\"white\"}},\"shapedefaults\":{\"line\":{\"color\":\"#2a3f5f\"}},\"ternary\":{\"aaxis\":{\"gridcolor\":\"white\",\"linecolor\":\"white\",\"ticks\":\"\"},\"baxis\":{\"gridcolor\":\"white\",\"linecolor\":\"white\",\"ticks\":\"\"},\"bgcolor\":\"#E5ECF6\",\"caxis\":{\"gridcolor\":\"white\",\"linecolor\":\"white\",\"ticks\":\"\"}},\"title\":{\"x\":0.05},\"xaxis\":{\"automargin\":true,\"gridcolor\":\"white\",\"linecolor\":\"white\",\"ticks\":\"\",\"title\":{\"standoff\":15},\"zerolinecolor\":\"white\",\"zerolinewidth\":2},\"yaxis\":{\"automargin\":true,\"gridcolor\":\"white\",\"linecolor\":\"white\",\"ticks\":\"\",\"title\":{\"standoff\":15},\"zerolinecolor\":\"white\",\"zerolinewidth\":2}}},\"title\":{\"text\":\"Avg Players Over the Years\"},\"xaxis\":{\"anchor\":\"y\",\"domain\":[0.0,1.0],\"title\":{\"text\":\"Month_Year\"}},\"yaxis\":{\"anchor\":\"x\",\"domain\":[0.0,1.0],\"title\":{\"text\":\"Avg_players\"}}},                        {\"responsive\": true}                    ).then(function(){\n                            \nvar gd = document.getElementById('b05544e7-c709-4f02-b227-73817dc56f21');\nvar x = new MutationObserver(function (mutations, observer) {{\n        var display = window.getComputedStyle(gd).display;\n        if (!display || display === 'none') {{\n            console.log([gd, 'removed!']);\n            Plotly.purge(gd);\n            observer.disconnect();\n        }}\n}});\n\n// Listen for the removal of the full notebook cells\nvar notebookContainer = gd.closest('#notebook-container');\nif (notebookContainer) {{\n    x.observe(notebookContainer, {childList: true});\n}}\n\n// Listen for the clearing of the current output cell\nvar outputEl = gd.closest('.output');\nif (outputEl) {{\n    x.observe(outputEl, {childList: true});\n}}\n\n                        })                };                });            </script>        </div>"
     },
     "metadata": {},
     "output_type": "display_data"
    }
   ],
   "source": [
    "fig = px.line(pubg3, x=\"Month_Year\", y=\"Avg_players\", title='Avg Players Over the Years')\n",
    "fig.show()"
   ],
   "metadata": {
    "collapsed": false,
    "pycharm": {
     "name": "#%% Interactive plot line showing the average PUBG players from 2017 - 2021\n"
    }
   }
  },
  {
   "cell_type": "code",
   "execution_count": 37,
   "outputs": [
    {
     "data": {
      "text/plain": "Game_Name\n7 Days to Die                             93\nARK: Survival Evolved                     76\nAge of Empires II: Definitive Edition     22\nApex Legends                              10\nArma 3                                   102\n                                        ... \nWorld of Warships                         47\nYu-Gi-Oh! Duel Links                      46\neFootball PES 2021 SEASON UPDATE          12\ntModLoader                                16\n雀魂麻将(MahjongSoul)                         14\nName: Game_Name, Length: 94, dtype: int64"
     },
     "execution_count": 37,
     "metadata": {},
     "output_type": "execute_result"
    }
   ],
   "source": [
    "game_name_group = data_clean.groupby('Game_Name')['Game_Name'].count()\n",
    "game_name_group"
   ],
   "metadata": {
    "collapsed": false,
    "pycharm": {
     "name": "#%%\n"
    }
   }
  },
  {
   "cell_type": "code",
   "execution_count": 82,
   "outputs": [],
   "source": [
    "csgo = data_clean.groupby('Game_Name')\n",
    "\n",
    "csgo2 = csgo.get_group('Counter Strike: Global Offensive')"
   ],
   "metadata": {
    "collapsed": false,
    "pycharm": {
     "name": "#%%\n"
    }
   }
  },
  {
   "cell_type": "code",
   "execution_count": 116,
   "outputs": [
    {
     "data": {
      "text/plain": "        Month_Year  Avg_players       Gain Percent_Gain  Peak_Players  \\\n0   September 2021    512350.92     268.96       +0.05%        942519   \n1      August 2021    512081.96    6014.60       +1.19%        802544   \n2        July 2021    506067.36  -43279.72       -7.88%        763523   \n3        June 2021    549347.08 -110541.81      -16.75%        929940   \n4         May 2021    659888.89  -63457.63       -8.77%       1087197   \n..             ...          ...        ...          ...           ...   \n95    October 2013     27902.14     223.23       +0.81%         53263   \n96  September 2013     27678.91    1717.06       +6.61%         52052   \n97     August 2013     25961.85    5469.33      +26.69%         50511   \n98       July 2013     20492.52    2372.68      +13.09%         42149   \n99       June 2013     18119.84    -590.50       -3.16%         33700   \n\n                                URL        Date  \\\n0   https://steamcharts.com/app/730  2021-09-01   \n1   https://steamcharts.com/app/730  2021-08-01   \n2   https://steamcharts.com/app/730  2021-07-01   \n3   https://steamcharts.com/app/730  2021-06-01   \n4   https://steamcharts.com/app/730  2021-05-01   \n..                              ...         ...   \n95  https://steamcharts.com/app/730  2013-10-01   \n96  https://steamcharts.com/app/730  2013-09-01   \n97  https://steamcharts.com/app/730  2013-08-01   \n98  https://steamcharts.com/app/730  2013-07-01   \n99  https://steamcharts.com/app/730  2013-06-01   \n\n                           Game_Name  \n0   Counter Strike: Global Offensive  \n1   Counter Strike: Global Offensive  \n2   Counter Strike: Global Offensive  \n3   Counter Strike: Global Offensive  \n4   Counter Strike: Global Offensive  \n..                               ...  \n95  Counter Strike: Global Offensive  \n96  Counter Strike: Global Offensive  \n97  Counter Strike: Global Offensive  \n98  Counter Strike: Global Offensive  \n99  Counter Strike: Global Offensive  \n\n[100 rows x 8 columns]",
      "text/html": "<div>\n<style scoped>\n    .dataframe tbody tr th:only-of-type {\n        vertical-align: middle;\n    }\n\n    .dataframe tbody tr th {\n        vertical-align: top;\n    }\n\n    .dataframe thead th {\n        text-align: right;\n    }\n</style>\n<table border=\"1\" class=\"dataframe\">\n  <thead>\n    <tr style=\"text-align: right;\">\n      <th></th>\n      <th>Month_Year</th>\n      <th>Avg_players</th>\n      <th>Gain</th>\n      <th>Percent_Gain</th>\n      <th>Peak_Players</th>\n      <th>URL</th>\n      <th>Date</th>\n      <th>Game_Name</th>\n    </tr>\n  </thead>\n  <tbody>\n    <tr>\n      <th>0</th>\n      <td>September 2021</td>\n      <td>512350.92</td>\n      <td>268.96</td>\n      <td>+0.05%</td>\n      <td>942519</td>\n      <td>https://steamcharts.com/app/730</td>\n      <td>2021-09-01</td>\n      <td>Counter Strike: Global Offensive</td>\n    </tr>\n    <tr>\n      <th>1</th>\n      <td>August 2021</td>\n      <td>512081.96</td>\n      <td>6014.60</td>\n      <td>+1.19%</td>\n      <td>802544</td>\n      <td>https://steamcharts.com/app/730</td>\n      <td>2021-08-01</td>\n      <td>Counter Strike: Global Offensive</td>\n    </tr>\n    <tr>\n      <th>2</th>\n      <td>July 2021</td>\n      <td>506067.36</td>\n      <td>-43279.72</td>\n      <td>-7.88%</td>\n      <td>763523</td>\n      <td>https://steamcharts.com/app/730</td>\n      <td>2021-07-01</td>\n      <td>Counter Strike: Global Offensive</td>\n    </tr>\n    <tr>\n      <th>3</th>\n      <td>June 2021</td>\n      <td>549347.08</td>\n      <td>-110541.81</td>\n      <td>-16.75%</td>\n      <td>929940</td>\n      <td>https://steamcharts.com/app/730</td>\n      <td>2021-06-01</td>\n      <td>Counter Strike: Global Offensive</td>\n    </tr>\n    <tr>\n      <th>4</th>\n      <td>May 2021</td>\n      <td>659888.89</td>\n      <td>-63457.63</td>\n      <td>-8.77%</td>\n      <td>1087197</td>\n      <td>https://steamcharts.com/app/730</td>\n      <td>2021-05-01</td>\n      <td>Counter Strike: Global Offensive</td>\n    </tr>\n    <tr>\n      <th>...</th>\n      <td>...</td>\n      <td>...</td>\n      <td>...</td>\n      <td>...</td>\n      <td>...</td>\n      <td>...</td>\n      <td>...</td>\n      <td>...</td>\n    </tr>\n    <tr>\n      <th>95</th>\n      <td>October 2013</td>\n      <td>27902.14</td>\n      <td>223.23</td>\n      <td>+0.81%</td>\n      <td>53263</td>\n      <td>https://steamcharts.com/app/730</td>\n      <td>2013-10-01</td>\n      <td>Counter Strike: Global Offensive</td>\n    </tr>\n    <tr>\n      <th>96</th>\n      <td>September 2013</td>\n      <td>27678.91</td>\n      <td>1717.06</td>\n      <td>+6.61%</td>\n      <td>52052</td>\n      <td>https://steamcharts.com/app/730</td>\n      <td>2013-09-01</td>\n      <td>Counter Strike: Global Offensive</td>\n    </tr>\n    <tr>\n      <th>97</th>\n      <td>August 2013</td>\n      <td>25961.85</td>\n      <td>5469.33</td>\n      <td>+26.69%</td>\n      <td>50511</td>\n      <td>https://steamcharts.com/app/730</td>\n      <td>2013-08-01</td>\n      <td>Counter Strike: Global Offensive</td>\n    </tr>\n    <tr>\n      <th>98</th>\n      <td>July 2013</td>\n      <td>20492.52</td>\n      <td>2372.68</td>\n      <td>+13.09%</td>\n      <td>42149</td>\n      <td>https://steamcharts.com/app/730</td>\n      <td>2013-07-01</td>\n      <td>Counter Strike: Global Offensive</td>\n    </tr>\n    <tr>\n      <th>99</th>\n      <td>June 2013</td>\n      <td>18119.84</td>\n      <td>-590.50</td>\n      <td>-3.16%</td>\n      <td>33700</td>\n      <td>https://steamcharts.com/app/730</td>\n      <td>2013-06-01</td>\n      <td>Counter Strike: Global Offensive</td>\n    </tr>\n  </tbody>\n</table>\n<p>100 rows × 8 columns</p>\n</div>"
     },
     "execution_count": 116,
     "metadata": {},
     "output_type": "execute_result"
    }
   ],
   "source": [
    "csgo3 = csgo2.head(100)\n",
    "csgo3"
   ],
   "metadata": {
    "collapsed": false,
    "pycharm": {
     "name": "#%% Taking the top 100 rows after grouping\n"
    }
   }
  },
  {
   "cell_type": "code",
   "execution_count": 117,
   "outputs": [
    {
     "data": {
      "application/vnd.plotly.v1+json": {
       "config": {
        "plotlyServerURL": "https://plot.ly"
       },
       "data": [
        {
         "hovertemplate": "Month_Year=%{x}<br>Avg_players=%{y}<extra></extra>",
         "legendgroup": "",
         "line": {
          "color": "#636efa",
          "dash": "solid"
         },
         "marker": {
          "symbol": "circle"
         },
         "mode": "lines",
         "name": "",
         "orientation": "v",
         "showlegend": false,
         "type": "scatter",
         "x": [
          "September 2021",
          "August 2021",
          "July 2021",
          "June 2021",
          "May 2021",
          "April 2021",
          "March 2021",
          "February 2021",
          "January 2021",
          "December 2020",
          "November 2020",
          "October 2020",
          "September 2020",
          "August 2020",
          "July 2020",
          "June 2020",
          "May 2020",
          "April 2020",
          "March 2020",
          "February 2020",
          "January 2020",
          "December 2019",
          "November 2019",
          "October 2019",
          "September 2019",
          "August 2019",
          "July 2019",
          "June 2019",
          "May 2019",
          "April 2019",
          "March 2019",
          "February 2019",
          "January 2019",
          "December 2018",
          "November 2018",
          "October 2018",
          "September 2018",
          "August 2018",
          "July 2018",
          "June 2018",
          "May 2018",
          "April 2018",
          "March 2018",
          "February 2018",
          "January 2018",
          "December 2017",
          "November 2017",
          "October 2017",
          "September 2017",
          "August 2017",
          "July 2017",
          "June 2017",
          "May 2017",
          "April 2017",
          "March 2017",
          "February 2017",
          "January 2017",
          "December 2016",
          "November 2016",
          "October 2016",
          "September 2016",
          "August 2016",
          "July 2016",
          "June 2016",
          "May 2016",
          "April 2016",
          "March 2016",
          "February 2016",
          "January 2016",
          "December 2015",
          "November 2015",
          "October 2015",
          "September 2015",
          "August 2015",
          "July 2015",
          "June 2015",
          "May 2015",
          "April 2015",
          "March 2015",
          "February 2015",
          "January 2015",
          "December 2014",
          "November 2014",
          "October 2014",
          "September 2014",
          "August 2014",
          "July 2014",
          "June 2014",
          "May 2014",
          "April 2014",
          "March 2014",
          "February 2014",
          "January 2014",
          "December 2013",
          "November 2013",
          "October 2013",
          "September 2013",
          "August 2013",
          "July 2013",
          "June 2013"
         ],
         "xaxis": "x",
         "y": [
          512350.92,
          512081.96,
          506067.36,
          549347.08,
          659888.89,
          723346.52,
          740927.82,
          741013.24,
          743209.66,
          717803.75,
          668754.58,
          613666.69,
          606850.32,
          639957.66,
          625900.81,
          671647.46,
          768795.25,
          857604.22,
          671033.29,
          543979.15,
          501196.0,
          456701.56,
          426080.81,
          408995.31,
          410925.6,
          415097.3,
          393782.83,
          389376.72,
          364417.31,
          351989.92,
          390240.16,
          371358.96,
          401366.87,
          395509.26,
          310085.43,
          325907.82,
          333163.99,
          283531.31,
          273307.26,
          266862.24,
          262170.88,
          289076.7,
          354270.33,
          382457.1,
          382030.53,
          340876.88,
          321131.4,
          341861.26,
          354402.09,
          374425.69,
          377589.04,
          374388.04,
          371829.34,
          392199.19,
          386908.72,
          402385.71,
          393109.53,
          342195.7,
          329045.26,
          333076.46,
          322525.89,
          347229.25,
          353777.56,
          334311.06,
          338738.39,
          375795.87,
          379426.95,
          376285.02,
          365371.09,
          377447.11,
          360925.88,
          362766.09,
          355905.33,
          357535.24,
          329532.38,
          344156.01,
          317286.29,
          291748.74,
          267996.31,
          239934.64,
          234070.68,
          183589.5,
          147329.07,
          133537.7,
          131034.68,
          133185.79,
          106138.0,
          84163.62,
          84925.02,
          78880.53,
          70143.33,
          59791.37,
          55627.35,
          46788.27,
          29890.52,
          27902.14,
          27678.91,
          25961.85,
          20492.52,
          18119.84
         ],
         "yaxis": "y"
        }
       ],
       "layout": {
        "legend": {
         "tracegroupgap": 0
        },
        "template": {
         "data": {
          "bar": [
           {
            "error_x": {
             "color": "#2a3f5f"
            },
            "error_y": {
             "color": "#2a3f5f"
            },
            "marker": {
             "line": {
              "color": "#E5ECF6",
              "width": 0.5
             },
             "pattern": {
              "fillmode": "overlay",
              "size": 10,
              "solidity": 0.2
             }
            },
            "type": "bar"
           }
          ],
          "barpolar": [
           {
            "marker": {
             "line": {
              "color": "#E5ECF6",
              "width": 0.5
             },
             "pattern": {
              "fillmode": "overlay",
              "size": 10,
              "solidity": 0.2
             }
            },
            "type": "barpolar"
           }
          ],
          "carpet": [
           {
            "aaxis": {
             "endlinecolor": "#2a3f5f",
             "gridcolor": "white",
             "linecolor": "white",
             "minorgridcolor": "white",
             "startlinecolor": "#2a3f5f"
            },
            "baxis": {
             "endlinecolor": "#2a3f5f",
             "gridcolor": "white",
             "linecolor": "white",
             "minorgridcolor": "white",
             "startlinecolor": "#2a3f5f"
            },
            "type": "carpet"
           }
          ],
          "choropleth": [
           {
            "colorbar": {
             "outlinewidth": 0,
             "ticks": ""
            },
            "type": "choropleth"
           }
          ],
          "contour": [
           {
            "colorbar": {
             "outlinewidth": 0,
             "ticks": ""
            },
            "colorscale": [
             [
              0.0,
              "#0d0887"
             ],
             [
              0.1111111111111111,
              "#46039f"
             ],
             [
              0.2222222222222222,
              "#7201a8"
             ],
             [
              0.3333333333333333,
              "#9c179e"
             ],
             [
              0.4444444444444444,
              "#bd3786"
             ],
             [
              0.5555555555555556,
              "#d8576b"
             ],
             [
              0.6666666666666666,
              "#ed7953"
             ],
             [
              0.7777777777777778,
              "#fb9f3a"
             ],
             [
              0.8888888888888888,
              "#fdca26"
             ],
             [
              1.0,
              "#f0f921"
             ]
            ],
            "type": "contour"
           }
          ],
          "contourcarpet": [
           {
            "colorbar": {
             "outlinewidth": 0,
             "ticks": ""
            },
            "type": "contourcarpet"
           }
          ],
          "heatmap": [
           {
            "colorbar": {
             "outlinewidth": 0,
             "ticks": ""
            },
            "colorscale": [
             [
              0.0,
              "#0d0887"
             ],
             [
              0.1111111111111111,
              "#46039f"
             ],
             [
              0.2222222222222222,
              "#7201a8"
             ],
             [
              0.3333333333333333,
              "#9c179e"
             ],
             [
              0.4444444444444444,
              "#bd3786"
             ],
             [
              0.5555555555555556,
              "#d8576b"
             ],
             [
              0.6666666666666666,
              "#ed7953"
             ],
             [
              0.7777777777777778,
              "#fb9f3a"
             ],
             [
              0.8888888888888888,
              "#fdca26"
             ],
             [
              1.0,
              "#f0f921"
             ]
            ],
            "type": "heatmap"
           }
          ],
          "heatmapgl": [
           {
            "colorbar": {
             "outlinewidth": 0,
             "ticks": ""
            },
            "colorscale": [
             [
              0.0,
              "#0d0887"
             ],
             [
              0.1111111111111111,
              "#46039f"
             ],
             [
              0.2222222222222222,
              "#7201a8"
             ],
             [
              0.3333333333333333,
              "#9c179e"
             ],
             [
              0.4444444444444444,
              "#bd3786"
             ],
             [
              0.5555555555555556,
              "#d8576b"
             ],
             [
              0.6666666666666666,
              "#ed7953"
             ],
             [
              0.7777777777777778,
              "#fb9f3a"
             ],
             [
              0.8888888888888888,
              "#fdca26"
             ],
             [
              1.0,
              "#f0f921"
             ]
            ],
            "type": "heatmapgl"
           }
          ],
          "histogram": [
           {
            "marker": {
             "pattern": {
              "fillmode": "overlay",
              "size": 10,
              "solidity": 0.2
             }
            },
            "type": "histogram"
           }
          ],
          "histogram2d": [
           {
            "colorbar": {
             "outlinewidth": 0,
             "ticks": ""
            },
            "colorscale": [
             [
              0.0,
              "#0d0887"
             ],
             [
              0.1111111111111111,
              "#46039f"
             ],
             [
              0.2222222222222222,
              "#7201a8"
             ],
             [
              0.3333333333333333,
              "#9c179e"
             ],
             [
              0.4444444444444444,
              "#bd3786"
             ],
             [
              0.5555555555555556,
              "#d8576b"
             ],
             [
              0.6666666666666666,
              "#ed7953"
             ],
             [
              0.7777777777777778,
              "#fb9f3a"
             ],
             [
              0.8888888888888888,
              "#fdca26"
             ],
             [
              1.0,
              "#f0f921"
             ]
            ],
            "type": "histogram2d"
           }
          ],
          "histogram2dcontour": [
           {
            "colorbar": {
             "outlinewidth": 0,
             "ticks": ""
            },
            "colorscale": [
             [
              0.0,
              "#0d0887"
             ],
             [
              0.1111111111111111,
              "#46039f"
             ],
             [
              0.2222222222222222,
              "#7201a8"
             ],
             [
              0.3333333333333333,
              "#9c179e"
             ],
             [
              0.4444444444444444,
              "#bd3786"
             ],
             [
              0.5555555555555556,
              "#d8576b"
             ],
             [
              0.6666666666666666,
              "#ed7953"
             ],
             [
              0.7777777777777778,
              "#fb9f3a"
             ],
             [
              0.8888888888888888,
              "#fdca26"
             ],
             [
              1.0,
              "#f0f921"
             ]
            ],
            "type": "histogram2dcontour"
           }
          ],
          "mesh3d": [
           {
            "colorbar": {
             "outlinewidth": 0,
             "ticks": ""
            },
            "type": "mesh3d"
           }
          ],
          "parcoords": [
           {
            "line": {
             "colorbar": {
              "outlinewidth": 0,
              "ticks": ""
             }
            },
            "type": "parcoords"
           }
          ],
          "pie": [
           {
            "automargin": true,
            "type": "pie"
           }
          ],
          "scatter": [
           {
            "marker": {
             "colorbar": {
              "outlinewidth": 0,
              "ticks": ""
             }
            },
            "type": "scatter"
           }
          ],
          "scatter3d": [
           {
            "line": {
             "colorbar": {
              "outlinewidth": 0,
              "ticks": ""
             }
            },
            "marker": {
             "colorbar": {
              "outlinewidth": 0,
              "ticks": ""
             }
            },
            "type": "scatter3d"
           }
          ],
          "scattercarpet": [
           {
            "marker": {
             "colorbar": {
              "outlinewidth": 0,
              "ticks": ""
             }
            },
            "type": "scattercarpet"
           }
          ],
          "scattergeo": [
           {
            "marker": {
             "colorbar": {
              "outlinewidth": 0,
              "ticks": ""
             }
            },
            "type": "scattergeo"
           }
          ],
          "scattergl": [
           {
            "marker": {
             "colorbar": {
              "outlinewidth": 0,
              "ticks": ""
             }
            },
            "type": "scattergl"
           }
          ],
          "scattermapbox": [
           {
            "marker": {
             "colorbar": {
              "outlinewidth": 0,
              "ticks": ""
             }
            },
            "type": "scattermapbox"
           }
          ],
          "scatterpolar": [
           {
            "marker": {
             "colorbar": {
              "outlinewidth": 0,
              "ticks": ""
             }
            },
            "type": "scatterpolar"
           }
          ],
          "scatterpolargl": [
           {
            "marker": {
             "colorbar": {
              "outlinewidth": 0,
              "ticks": ""
             }
            },
            "type": "scatterpolargl"
           }
          ],
          "scatterternary": [
           {
            "marker": {
             "colorbar": {
              "outlinewidth": 0,
              "ticks": ""
             }
            },
            "type": "scatterternary"
           }
          ],
          "surface": [
           {
            "colorbar": {
             "outlinewidth": 0,
             "ticks": ""
            },
            "colorscale": [
             [
              0.0,
              "#0d0887"
             ],
             [
              0.1111111111111111,
              "#46039f"
             ],
             [
              0.2222222222222222,
              "#7201a8"
             ],
             [
              0.3333333333333333,
              "#9c179e"
             ],
             [
              0.4444444444444444,
              "#bd3786"
             ],
             [
              0.5555555555555556,
              "#d8576b"
             ],
             [
              0.6666666666666666,
              "#ed7953"
             ],
             [
              0.7777777777777778,
              "#fb9f3a"
             ],
             [
              0.8888888888888888,
              "#fdca26"
             ],
             [
              1.0,
              "#f0f921"
             ]
            ],
            "type": "surface"
           }
          ],
          "table": [
           {
            "cells": {
             "fill": {
              "color": "#EBF0F8"
             },
             "line": {
              "color": "white"
             }
            },
            "header": {
             "fill": {
              "color": "#C8D4E3"
             },
             "line": {
              "color": "white"
             }
            },
            "type": "table"
           }
          ]
         },
         "layout": {
          "annotationdefaults": {
           "arrowcolor": "#2a3f5f",
           "arrowhead": 0,
           "arrowwidth": 1
          },
          "autotypenumbers": "strict",
          "coloraxis": {
           "colorbar": {
            "outlinewidth": 0,
            "ticks": ""
           }
          },
          "colorscale": {
           "diverging": [
            [
             0,
             "#8e0152"
            ],
            [
             0.1,
             "#c51b7d"
            ],
            [
             0.2,
             "#de77ae"
            ],
            [
             0.3,
             "#f1b6da"
            ],
            [
             0.4,
             "#fde0ef"
            ],
            [
             0.5,
             "#f7f7f7"
            ],
            [
             0.6,
             "#e6f5d0"
            ],
            [
             0.7,
             "#b8e186"
            ],
            [
             0.8,
             "#7fbc41"
            ],
            [
             0.9,
             "#4d9221"
            ],
            [
             1,
             "#276419"
            ]
           ],
           "sequential": [
            [
             0.0,
             "#0d0887"
            ],
            [
             0.1111111111111111,
             "#46039f"
            ],
            [
             0.2222222222222222,
             "#7201a8"
            ],
            [
             0.3333333333333333,
             "#9c179e"
            ],
            [
             0.4444444444444444,
             "#bd3786"
            ],
            [
             0.5555555555555556,
             "#d8576b"
            ],
            [
             0.6666666666666666,
             "#ed7953"
            ],
            [
             0.7777777777777778,
             "#fb9f3a"
            ],
            [
             0.8888888888888888,
             "#fdca26"
            ],
            [
             1.0,
             "#f0f921"
            ]
           ],
           "sequentialminus": [
            [
             0.0,
             "#0d0887"
            ],
            [
             0.1111111111111111,
             "#46039f"
            ],
            [
             0.2222222222222222,
             "#7201a8"
            ],
            [
             0.3333333333333333,
             "#9c179e"
            ],
            [
             0.4444444444444444,
             "#bd3786"
            ],
            [
             0.5555555555555556,
             "#d8576b"
            ],
            [
             0.6666666666666666,
             "#ed7953"
            ],
            [
             0.7777777777777778,
             "#fb9f3a"
            ],
            [
             0.8888888888888888,
             "#fdca26"
            ],
            [
             1.0,
             "#f0f921"
            ]
           ]
          },
          "colorway": [
           "#636efa",
           "#EF553B",
           "#00cc96",
           "#ab63fa",
           "#FFA15A",
           "#19d3f3",
           "#FF6692",
           "#B6E880",
           "#FF97FF",
           "#FECB52"
          ],
          "font": {
           "color": "#2a3f5f"
          },
          "geo": {
           "bgcolor": "white",
           "lakecolor": "white",
           "landcolor": "#E5ECF6",
           "showlakes": true,
           "showland": true,
           "subunitcolor": "white"
          },
          "hoverlabel": {
           "align": "left"
          },
          "hovermode": "closest",
          "mapbox": {
           "style": "light"
          },
          "paper_bgcolor": "white",
          "plot_bgcolor": "#E5ECF6",
          "polar": {
           "angularaxis": {
            "gridcolor": "white",
            "linecolor": "white",
            "ticks": ""
           },
           "bgcolor": "#E5ECF6",
           "radialaxis": {
            "gridcolor": "white",
            "linecolor": "white",
            "ticks": ""
           }
          },
          "scene": {
           "xaxis": {
            "backgroundcolor": "#E5ECF6",
            "gridcolor": "white",
            "gridwidth": 2,
            "linecolor": "white",
            "showbackground": true,
            "ticks": "",
            "zerolinecolor": "white"
           },
           "yaxis": {
            "backgroundcolor": "#E5ECF6",
            "gridcolor": "white",
            "gridwidth": 2,
            "linecolor": "white",
            "showbackground": true,
            "ticks": "",
            "zerolinecolor": "white"
           },
           "zaxis": {
            "backgroundcolor": "#E5ECF6",
            "gridcolor": "white",
            "gridwidth": 2,
            "linecolor": "white",
            "showbackground": true,
            "ticks": "",
            "zerolinecolor": "white"
           }
          },
          "shapedefaults": {
           "line": {
            "color": "#2a3f5f"
           }
          },
          "ternary": {
           "aaxis": {
            "gridcolor": "white",
            "linecolor": "white",
            "ticks": ""
           },
           "baxis": {
            "gridcolor": "white",
            "linecolor": "white",
            "ticks": ""
           },
           "bgcolor": "#E5ECF6",
           "caxis": {
            "gridcolor": "white",
            "linecolor": "white",
            "ticks": ""
           }
          },
          "title": {
           "x": 0.05
          },
          "xaxis": {
           "automargin": true,
           "gridcolor": "white",
           "linecolor": "white",
           "ticks": "",
           "title": {
            "standoff": 15
           },
           "zerolinecolor": "white",
           "zerolinewidth": 2
          },
          "yaxis": {
           "automargin": true,
           "gridcolor": "white",
           "linecolor": "white",
           "ticks": "",
           "title": {
            "standoff": 15
           },
           "zerolinecolor": "white",
           "zerolinewidth": 2
          }
         }
        },
        "title": {
         "text": "Avg Players Over the Years"
        },
        "xaxis": {
         "anchor": "y",
         "domain": [
          0.0,
          1.0
         ],
         "title": {
          "text": "Month_Year"
         }
        },
        "yaxis": {
         "anchor": "x",
         "domain": [
          0.0,
          1.0
         ],
         "title": {
          "text": "Avg_players"
         }
        }
       }
      },
      "text/html": "<div>                            <div id=\"e3a85052-67bd-4472-b1aa-9069449d572b\" class=\"plotly-graph-div\" style=\"height:525px; width:100%;\"></div>            <script type=\"text/javascript\">                require([\"plotly\"], function(Plotly) {                    window.PLOTLYENV=window.PLOTLYENV || {};                                    if (document.getElementById(\"e3a85052-67bd-4472-b1aa-9069449d572b\")) {                    Plotly.newPlot(                        \"e3a85052-67bd-4472-b1aa-9069449d572b\",                        [{\"hovertemplate\":\"Month_Year=%{x}<br>Avg_players=%{y}<extra></extra>\",\"legendgroup\":\"\",\"line\":{\"color\":\"#636efa\",\"dash\":\"solid\"},\"marker\":{\"symbol\":\"circle\"},\"mode\":\"lines\",\"name\":\"\",\"orientation\":\"v\",\"showlegend\":false,\"type\":\"scatter\",\"x\":[\"September 2021\",\"August 2021\",\"July 2021\",\"June 2021\",\"May 2021\",\"April 2021\",\"March 2021\",\"February 2021\",\"January 2021\",\"December 2020\",\"November 2020\",\"October 2020\",\"September 2020\",\"August 2020\",\"July 2020\",\"June 2020\",\"May 2020\",\"April 2020\",\"March 2020\",\"February 2020\",\"January 2020\",\"December 2019\",\"November 2019\",\"October 2019\",\"September 2019\",\"August 2019\",\"July 2019\",\"June 2019\",\"May 2019\",\"April 2019\",\"March 2019\",\"February 2019\",\"January 2019\",\"December 2018\",\"November 2018\",\"October 2018\",\"September 2018\",\"August 2018\",\"July 2018\",\"June 2018\",\"May 2018\",\"April 2018\",\"March 2018\",\"February 2018\",\"January 2018\",\"December 2017\",\"November 2017\",\"October 2017\",\"September 2017\",\"August 2017\",\"July 2017\",\"June 2017\",\"May 2017\",\"April 2017\",\"March 2017\",\"February 2017\",\"January 2017\",\"December 2016\",\"November 2016\",\"October 2016\",\"September 2016\",\"August 2016\",\"July 2016\",\"June 2016\",\"May 2016\",\"April 2016\",\"March 2016\",\"February 2016\",\"January 2016\",\"December 2015\",\"November 2015\",\"October 2015\",\"September 2015\",\"August 2015\",\"July 2015\",\"June 2015\",\"May 2015\",\"April 2015\",\"March 2015\",\"February 2015\",\"January 2015\",\"December 2014\",\"November 2014\",\"October 2014\",\"September 2014\",\"August 2014\",\"July 2014\",\"June 2014\",\"May 2014\",\"April 2014\",\"March 2014\",\"February 2014\",\"January 2014\",\"December 2013\",\"November 2013\",\"October 2013\",\"September 2013\",\"August 2013\",\"July 2013\",\"June 2013\"],\"xaxis\":\"x\",\"y\":[512350.92,512081.96,506067.36,549347.08,659888.89,723346.52,740927.82,741013.24,743209.66,717803.75,668754.58,613666.69,606850.32,639957.66,625900.81,671647.46,768795.25,857604.22,671033.29,543979.15,501196.0,456701.56,426080.81,408995.31,410925.6,415097.3,393782.83,389376.72,364417.31,351989.92,390240.16,371358.96,401366.87,395509.26,310085.43,325907.82,333163.99,283531.31,273307.26,266862.24,262170.88,289076.7,354270.33,382457.1,382030.53,340876.88,321131.4,341861.26,354402.09,374425.69,377589.04,374388.04,371829.34,392199.19,386908.72,402385.71,393109.53,342195.7,329045.26,333076.46,322525.89,347229.25,353777.56,334311.06,338738.39,375795.87,379426.95,376285.02,365371.09,377447.11,360925.88,362766.09,355905.33,357535.24,329532.38,344156.01,317286.29,291748.74,267996.31,239934.64,234070.68,183589.5,147329.07,133537.7,131034.68,133185.79,106138.0,84163.62,84925.02,78880.53,70143.33,59791.37,55627.35,46788.27,29890.52,27902.14,27678.91,25961.85,20492.52,18119.84],\"yaxis\":\"y\"}],                        {\"legend\":{\"tracegroupgap\":0},\"template\":{\"data\":{\"bar\":[{\"error_x\":{\"color\":\"#2a3f5f\"},\"error_y\":{\"color\":\"#2a3f5f\"},\"marker\":{\"line\":{\"color\":\"#E5ECF6\",\"width\":0.5},\"pattern\":{\"fillmode\":\"overlay\",\"size\":10,\"solidity\":0.2}},\"type\":\"bar\"}],\"barpolar\":[{\"marker\":{\"line\":{\"color\":\"#E5ECF6\",\"width\":0.5},\"pattern\":{\"fillmode\":\"overlay\",\"size\":10,\"solidity\":0.2}},\"type\":\"barpolar\"}],\"carpet\":[{\"aaxis\":{\"endlinecolor\":\"#2a3f5f\",\"gridcolor\":\"white\",\"linecolor\":\"white\",\"minorgridcolor\":\"white\",\"startlinecolor\":\"#2a3f5f\"},\"baxis\":{\"endlinecolor\":\"#2a3f5f\",\"gridcolor\":\"white\",\"linecolor\":\"white\",\"minorgridcolor\":\"white\",\"startlinecolor\":\"#2a3f5f\"},\"type\":\"carpet\"}],\"choropleth\":[{\"colorbar\":{\"outlinewidth\":0,\"ticks\":\"\"},\"type\":\"choropleth\"}],\"contour\":[{\"colorbar\":{\"outlinewidth\":0,\"ticks\":\"\"},\"colorscale\":[[0.0,\"#0d0887\"],[0.1111111111111111,\"#46039f\"],[0.2222222222222222,\"#7201a8\"],[0.3333333333333333,\"#9c179e\"],[0.4444444444444444,\"#bd3786\"],[0.5555555555555556,\"#d8576b\"],[0.6666666666666666,\"#ed7953\"],[0.7777777777777778,\"#fb9f3a\"],[0.8888888888888888,\"#fdca26\"],[1.0,\"#f0f921\"]],\"type\":\"contour\"}],\"contourcarpet\":[{\"colorbar\":{\"outlinewidth\":0,\"ticks\":\"\"},\"type\":\"contourcarpet\"}],\"heatmap\":[{\"colorbar\":{\"outlinewidth\":0,\"ticks\":\"\"},\"colorscale\":[[0.0,\"#0d0887\"],[0.1111111111111111,\"#46039f\"],[0.2222222222222222,\"#7201a8\"],[0.3333333333333333,\"#9c179e\"],[0.4444444444444444,\"#bd3786\"],[0.5555555555555556,\"#d8576b\"],[0.6666666666666666,\"#ed7953\"],[0.7777777777777778,\"#fb9f3a\"],[0.8888888888888888,\"#fdca26\"],[1.0,\"#f0f921\"]],\"type\":\"heatmap\"}],\"heatmapgl\":[{\"colorbar\":{\"outlinewidth\":0,\"ticks\":\"\"},\"colorscale\":[[0.0,\"#0d0887\"],[0.1111111111111111,\"#46039f\"],[0.2222222222222222,\"#7201a8\"],[0.3333333333333333,\"#9c179e\"],[0.4444444444444444,\"#bd3786\"],[0.5555555555555556,\"#d8576b\"],[0.6666666666666666,\"#ed7953\"],[0.7777777777777778,\"#fb9f3a\"],[0.8888888888888888,\"#fdca26\"],[1.0,\"#f0f921\"]],\"type\":\"heatmapgl\"}],\"histogram\":[{\"marker\":{\"pattern\":{\"fillmode\":\"overlay\",\"size\":10,\"solidity\":0.2}},\"type\":\"histogram\"}],\"histogram2d\":[{\"colorbar\":{\"outlinewidth\":0,\"ticks\":\"\"},\"colorscale\":[[0.0,\"#0d0887\"],[0.1111111111111111,\"#46039f\"],[0.2222222222222222,\"#7201a8\"],[0.3333333333333333,\"#9c179e\"],[0.4444444444444444,\"#bd3786\"],[0.5555555555555556,\"#d8576b\"],[0.6666666666666666,\"#ed7953\"],[0.7777777777777778,\"#fb9f3a\"],[0.8888888888888888,\"#fdca26\"],[1.0,\"#f0f921\"]],\"type\":\"histogram2d\"}],\"histogram2dcontour\":[{\"colorbar\":{\"outlinewidth\":0,\"ticks\":\"\"},\"colorscale\":[[0.0,\"#0d0887\"],[0.1111111111111111,\"#46039f\"],[0.2222222222222222,\"#7201a8\"],[0.3333333333333333,\"#9c179e\"],[0.4444444444444444,\"#bd3786\"],[0.5555555555555556,\"#d8576b\"],[0.6666666666666666,\"#ed7953\"],[0.7777777777777778,\"#fb9f3a\"],[0.8888888888888888,\"#fdca26\"],[1.0,\"#f0f921\"]],\"type\":\"histogram2dcontour\"}],\"mesh3d\":[{\"colorbar\":{\"outlinewidth\":0,\"ticks\":\"\"},\"type\":\"mesh3d\"}],\"parcoords\":[{\"line\":{\"colorbar\":{\"outlinewidth\":0,\"ticks\":\"\"}},\"type\":\"parcoords\"}],\"pie\":[{\"automargin\":true,\"type\":\"pie\"}],\"scatter\":[{\"marker\":{\"colorbar\":{\"outlinewidth\":0,\"ticks\":\"\"}},\"type\":\"scatter\"}],\"scatter3d\":[{\"line\":{\"colorbar\":{\"outlinewidth\":0,\"ticks\":\"\"}},\"marker\":{\"colorbar\":{\"outlinewidth\":0,\"ticks\":\"\"}},\"type\":\"scatter3d\"}],\"scattercarpet\":[{\"marker\":{\"colorbar\":{\"outlinewidth\":0,\"ticks\":\"\"}},\"type\":\"scattercarpet\"}],\"scattergeo\":[{\"marker\":{\"colorbar\":{\"outlinewidth\":0,\"ticks\":\"\"}},\"type\":\"scattergeo\"}],\"scattergl\":[{\"marker\":{\"colorbar\":{\"outlinewidth\":0,\"ticks\":\"\"}},\"type\":\"scattergl\"}],\"scattermapbox\":[{\"marker\":{\"colorbar\":{\"outlinewidth\":0,\"ticks\":\"\"}},\"type\":\"scattermapbox\"}],\"scatterpolar\":[{\"marker\":{\"colorbar\":{\"outlinewidth\":0,\"ticks\":\"\"}},\"type\":\"scatterpolar\"}],\"scatterpolargl\":[{\"marker\":{\"colorbar\":{\"outlinewidth\":0,\"ticks\":\"\"}},\"type\":\"scatterpolargl\"}],\"scatterternary\":[{\"marker\":{\"colorbar\":{\"outlinewidth\":0,\"ticks\":\"\"}},\"type\":\"scatterternary\"}],\"surface\":[{\"colorbar\":{\"outlinewidth\":0,\"ticks\":\"\"},\"colorscale\":[[0.0,\"#0d0887\"],[0.1111111111111111,\"#46039f\"],[0.2222222222222222,\"#7201a8\"],[0.3333333333333333,\"#9c179e\"],[0.4444444444444444,\"#bd3786\"],[0.5555555555555556,\"#d8576b\"],[0.6666666666666666,\"#ed7953\"],[0.7777777777777778,\"#fb9f3a\"],[0.8888888888888888,\"#fdca26\"],[1.0,\"#f0f921\"]],\"type\":\"surface\"}],\"table\":[{\"cells\":{\"fill\":{\"color\":\"#EBF0F8\"},\"line\":{\"color\":\"white\"}},\"header\":{\"fill\":{\"color\":\"#C8D4E3\"},\"line\":{\"color\":\"white\"}},\"type\":\"table\"}]},\"layout\":{\"annotationdefaults\":{\"arrowcolor\":\"#2a3f5f\",\"arrowhead\":0,\"arrowwidth\":1},\"autotypenumbers\":\"strict\",\"coloraxis\":{\"colorbar\":{\"outlinewidth\":0,\"ticks\":\"\"}},\"colorscale\":{\"diverging\":[[0,\"#8e0152\"],[0.1,\"#c51b7d\"],[0.2,\"#de77ae\"],[0.3,\"#f1b6da\"],[0.4,\"#fde0ef\"],[0.5,\"#f7f7f7\"],[0.6,\"#e6f5d0\"],[0.7,\"#b8e186\"],[0.8,\"#7fbc41\"],[0.9,\"#4d9221\"],[1,\"#276419\"]],\"sequential\":[[0.0,\"#0d0887\"],[0.1111111111111111,\"#46039f\"],[0.2222222222222222,\"#7201a8\"],[0.3333333333333333,\"#9c179e\"],[0.4444444444444444,\"#bd3786\"],[0.5555555555555556,\"#d8576b\"],[0.6666666666666666,\"#ed7953\"],[0.7777777777777778,\"#fb9f3a\"],[0.8888888888888888,\"#fdca26\"],[1.0,\"#f0f921\"]],\"sequentialminus\":[[0.0,\"#0d0887\"],[0.1111111111111111,\"#46039f\"],[0.2222222222222222,\"#7201a8\"],[0.3333333333333333,\"#9c179e\"],[0.4444444444444444,\"#bd3786\"],[0.5555555555555556,\"#d8576b\"],[0.6666666666666666,\"#ed7953\"],[0.7777777777777778,\"#fb9f3a\"],[0.8888888888888888,\"#fdca26\"],[1.0,\"#f0f921\"]]},\"colorway\":[\"#636efa\",\"#EF553B\",\"#00cc96\",\"#ab63fa\",\"#FFA15A\",\"#19d3f3\",\"#FF6692\",\"#B6E880\",\"#FF97FF\",\"#FECB52\"],\"font\":{\"color\":\"#2a3f5f\"},\"geo\":{\"bgcolor\":\"white\",\"lakecolor\":\"white\",\"landcolor\":\"#E5ECF6\",\"showlakes\":true,\"showland\":true,\"subunitcolor\":\"white\"},\"hoverlabel\":{\"align\":\"left\"},\"hovermode\":\"closest\",\"mapbox\":{\"style\":\"light\"},\"paper_bgcolor\":\"white\",\"plot_bgcolor\":\"#E5ECF6\",\"polar\":{\"angularaxis\":{\"gridcolor\":\"white\",\"linecolor\":\"white\",\"ticks\":\"\"},\"bgcolor\":\"#E5ECF6\",\"radialaxis\":{\"gridcolor\":\"white\",\"linecolor\":\"white\",\"ticks\":\"\"}},\"scene\":{\"xaxis\":{\"backgroundcolor\":\"#E5ECF6\",\"gridcolor\":\"white\",\"gridwidth\":2,\"linecolor\":\"white\",\"showbackground\":true,\"ticks\":\"\",\"zerolinecolor\":\"white\"},\"yaxis\":{\"backgroundcolor\":\"#E5ECF6\",\"gridcolor\":\"white\",\"gridwidth\":2,\"linecolor\":\"white\",\"showbackground\":true,\"ticks\":\"\",\"zerolinecolor\":\"white\"},\"zaxis\":{\"backgroundcolor\":\"#E5ECF6\",\"gridcolor\":\"white\",\"gridwidth\":2,\"linecolor\":\"white\",\"showbackground\":true,\"ticks\":\"\",\"zerolinecolor\":\"white\"}},\"shapedefaults\":{\"line\":{\"color\":\"#2a3f5f\"}},\"ternary\":{\"aaxis\":{\"gridcolor\":\"white\",\"linecolor\":\"white\",\"ticks\":\"\"},\"baxis\":{\"gridcolor\":\"white\",\"linecolor\":\"white\",\"ticks\":\"\"},\"bgcolor\":\"#E5ECF6\",\"caxis\":{\"gridcolor\":\"white\",\"linecolor\":\"white\",\"ticks\":\"\"}},\"title\":{\"x\":0.05},\"xaxis\":{\"automargin\":true,\"gridcolor\":\"white\",\"linecolor\":\"white\",\"ticks\":\"\",\"title\":{\"standoff\":15},\"zerolinecolor\":\"white\",\"zerolinewidth\":2},\"yaxis\":{\"automargin\":true,\"gridcolor\":\"white\",\"linecolor\":\"white\",\"ticks\":\"\",\"title\":{\"standoff\":15},\"zerolinecolor\":\"white\",\"zerolinewidth\":2}}},\"title\":{\"text\":\"Avg Players Over the Years\"},\"xaxis\":{\"anchor\":\"y\",\"domain\":[0.0,1.0],\"title\":{\"text\":\"Month_Year\"}},\"yaxis\":{\"anchor\":\"x\",\"domain\":[0.0,1.0],\"title\":{\"text\":\"Avg_players\"}}},                        {\"responsive\": true}                    ).then(function(){\n                            \nvar gd = document.getElementById('e3a85052-67bd-4472-b1aa-9069449d572b');\nvar x = new MutationObserver(function (mutations, observer) {{\n        var display = window.getComputedStyle(gd).display;\n        if (!display || display === 'none') {{\n            console.log([gd, 'removed!']);\n            Plotly.purge(gd);\n            observer.disconnect();\n        }}\n}});\n\n// Listen for the removal of the full notebook cells\nvar notebookContainer = gd.closest('#notebook-container');\nif (notebookContainer) {{\n    x.observe(notebookContainer, {childList: true});\n}}\n\n// Listen for the clearing of the current output cell\nvar outputEl = gd.closest('.output');\nif (outputEl) {{\n    x.observe(outputEl, {childList: true});\n}}\n\n                        })                };                });            </script>        </div>"
     },
     "metadata": {},
     "output_type": "display_data"
    }
   ],
   "source": [
    "csgo4 = px.line(csgo3, x=\"Month_Year\", y=\"Avg_players\", title='Avg Players Over the Years')\n",
    "csgo4.show()"
   ],
   "metadata": {
    "collapsed": false,
    "pycharm": {
     "name": "#%%\n"
    }
   }
  },
  {
   "cell_type": "code",
   "execution_count": 118,
   "outputs": [],
   "source": [
    "dota = data_clean.groupby('Game_Name')\n",
    "\n",
    "dota2 = dota.get_group('Dota 2')"
   ],
   "metadata": {
    "collapsed": false,
    "pycharm": {
     "name": "#%%\n"
    }
   }
  },
  {
   "cell_type": "code",
   "execution_count": 119,
   "outputs": [
    {
     "data": {
      "text/plain": "         Month_Year  Avg_players      Gain Percent_Gain  Peak_Players  \\\n111  September 2021    391082.08 -33898.09       -7.98%        666838   \n112     August 2021    424980.17   1823.99       +0.43%        699613   \n113       July 2021    423156.18   1646.22       +0.39%        707406   \n114       June 2021    421509.96   6365.00       +1.53%        734277   \n115        May 2021    415144.96   1360.00       +0.33%        672307   \n..              ...          ...       ...          ...           ...   \n206    October 2013    329677.64  17252.88       +5.52%        581615   \n207  September 2013    312424.76 -18295.30       -5.53%        566715   \n208     August 2013    330720.07  92919.98      +39.07%        520532   \n209       July 2013    237800.08  27575.26      +13.12%        422617   \n210       June 2013    210224.82  15860.98       +8.16%        326160   \n\n                                 URL        Date Game_Name  \n111  https://steamcharts.com/app/570  2021-09-01    Dota 2  \n112  https://steamcharts.com/app/570  2021-08-01    Dota 2  \n113  https://steamcharts.com/app/570  2021-07-01    Dota 2  \n114  https://steamcharts.com/app/570  2021-06-01    Dota 2  \n115  https://steamcharts.com/app/570  2021-05-01    Dota 2  \n..                               ...         ...       ...  \n206  https://steamcharts.com/app/570  2013-10-01    Dota 2  \n207  https://steamcharts.com/app/570  2013-09-01    Dota 2  \n208  https://steamcharts.com/app/570  2013-08-01    Dota 2  \n209  https://steamcharts.com/app/570  2013-07-01    Dota 2  \n210  https://steamcharts.com/app/570  2013-06-01    Dota 2  \n\n[100 rows x 8 columns]",
      "text/html": "<div>\n<style scoped>\n    .dataframe tbody tr th:only-of-type {\n        vertical-align: middle;\n    }\n\n    .dataframe tbody tr th {\n        vertical-align: top;\n    }\n\n    .dataframe thead th {\n        text-align: right;\n    }\n</style>\n<table border=\"1\" class=\"dataframe\">\n  <thead>\n    <tr style=\"text-align: right;\">\n      <th></th>\n      <th>Month_Year</th>\n      <th>Avg_players</th>\n      <th>Gain</th>\n      <th>Percent_Gain</th>\n      <th>Peak_Players</th>\n      <th>URL</th>\n      <th>Date</th>\n      <th>Game_Name</th>\n    </tr>\n  </thead>\n  <tbody>\n    <tr>\n      <th>111</th>\n      <td>September 2021</td>\n      <td>391082.08</td>\n      <td>-33898.09</td>\n      <td>-7.98%</td>\n      <td>666838</td>\n      <td>https://steamcharts.com/app/570</td>\n      <td>2021-09-01</td>\n      <td>Dota 2</td>\n    </tr>\n    <tr>\n      <th>112</th>\n      <td>August 2021</td>\n      <td>424980.17</td>\n      <td>1823.99</td>\n      <td>+0.43%</td>\n      <td>699613</td>\n      <td>https://steamcharts.com/app/570</td>\n      <td>2021-08-01</td>\n      <td>Dota 2</td>\n    </tr>\n    <tr>\n      <th>113</th>\n      <td>July 2021</td>\n      <td>423156.18</td>\n      <td>1646.22</td>\n      <td>+0.39%</td>\n      <td>707406</td>\n      <td>https://steamcharts.com/app/570</td>\n      <td>2021-07-01</td>\n      <td>Dota 2</td>\n    </tr>\n    <tr>\n      <th>114</th>\n      <td>June 2021</td>\n      <td>421509.96</td>\n      <td>6365.00</td>\n      <td>+1.53%</td>\n      <td>734277</td>\n      <td>https://steamcharts.com/app/570</td>\n      <td>2021-06-01</td>\n      <td>Dota 2</td>\n    </tr>\n    <tr>\n      <th>115</th>\n      <td>May 2021</td>\n      <td>415144.96</td>\n      <td>1360.00</td>\n      <td>+0.33%</td>\n      <td>672307</td>\n      <td>https://steamcharts.com/app/570</td>\n      <td>2021-05-01</td>\n      <td>Dota 2</td>\n    </tr>\n    <tr>\n      <th>...</th>\n      <td>...</td>\n      <td>...</td>\n      <td>...</td>\n      <td>...</td>\n      <td>...</td>\n      <td>...</td>\n      <td>...</td>\n      <td>...</td>\n    </tr>\n    <tr>\n      <th>206</th>\n      <td>October 2013</td>\n      <td>329677.64</td>\n      <td>17252.88</td>\n      <td>+5.52%</td>\n      <td>581615</td>\n      <td>https://steamcharts.com/app/570</td>\n      <td>2013-10-01</td>\n      <td>Dota 2</td>\n    </tr>\n    <tr>\n      <th>207</th>\n      <td>September 2013</td>\n      <td>312424.76</td>\n      <td>-18295.30</td>\n      <td>-5.53%</td>\n      <td>566715</td>\n      <td>https://steamcharts.com/app/570</td>\n      <td>2013-09-01</td>\n      <td>Dota 2</td>\n    </tr>\n    <tr>\n      <th>208</th>\n      <td>August 2013</td>\n      <td>330720.07</td>\n      <td>92919.98</td>\n      <td>+39.07%</td>\n      <td>520532</td>\n      <td>https://steamcharts.com/app/570</td>\n      <td>2013-08-01</td>\n      <td>Dota 2</td>\n    </tr>\n    <tr>\n      <th>209</th>\n      <td>July 2013</td>\n      <td>237800.08</td>\n      <td>27575.26</td>\n      <td>+13.12%</td>\n      <td>422617</td>\n      <td>https://steamcharts.com/app/570</td>\n      <td>2013-07-01</td>\n      <td>Dota 2</td>\n    </tr>\n    <tr>\n      <th>210</th>\n      <td>June 2013</td>\n      <td>210224.82</td>\n      <td>15860.98</td>\n      <td>+8.16%</td>\n      <td>326160</td>\n      <td>https://steamcharts.com/app/570</td>\n      <td>2013-06-01</td>\n      <td>Dota 2</td>\n    </tr>\n  </tbody>\n</table>\n<p>100 rows × 8 columns</p>\n</div>"
     },
     "execution_count": 119,
     "metadata": {},
     "output_type": "execute_result"
    }
   ],
   "source": [
    "dota3 = dota2.head(100)\n",
    "dota3"
   ],
   "metadata": {
    "collapsed": false,
    "pycharm": {
     "name": "#%% Taking the top 100 rows after grouping\n"
    }
   }
  },
  {
   "cell_type": "code",
   "execution_count": 114,
   "outputs": [
    {
     "data": {
      "application/vnd.plotly.v1+json": {
       "config": {
        "plotlyServerURL": "https://plot.ly"
       },
       "data": [
        {
         "hovertemplate": "Month_Year=%{x}<br>Avg_players=%{y}<extra></extra>",
         "legendgroup": "",
         "line": {
          "color": "#636efa",
          "dash": "solid"
         },
         "marker": {
          "symbol": "circle"
         },
         "mode": "lines",
         "name": "",
         "orientation": "v",
         "showlegend": false,
         "type": "scatter",
         "x": [
          "September 2021",
          "August 2021",
          "July 2021",
          "June 2021",
          "May 2021",
          "April 2021",
          "March 2021",
          "February 2021",
          "January 2021",
          "December 2020",
          "November 2020",
          "October 2020",
          "September 2020",
          "August 2020",
          "July 2020",
          "June 2020",
          "May 2020",
          "April 2020",
          "March 2020",
          "February 2020",
          "January 2020",
          "December 2019",
          "November 2019",
          "October 2019",
          "September 2019",
          "August 2019",
          "July 2019",
          "June 2019",
          "May 2019",
          "April 2019",
          "March 2019",
          "February 2019",
          "January 2019",
          "December 2018",
          "November 2018",
          "October 2018",
          "September 2018",
          "August 2018",
          "July 2018",
          "June 2018",
          "May 2018",
          "April 2018",
          "March 2018",
          "February 2018",
          "January 2018",
          "December 2017",
          "November 2017",
          "October 2017",
          "September 2017",
          "August 2017",
          "July 2017",
          "June 2017",
          "May 2017",
          "April 2017",
          "March 2017",
          "February 2017",
          "January 2017",
          "December 2016",
          "November 2016",
          "October 2016",
          "September 2016",
          "August 2016",
          "July 2016",
          "June 2016",
          "May 2016",
          "April 2016",
          "March 2016",
          "February 2016",
          "January 2016",
          "December 2015",
          "November 2015",
          "October 2015",
          "September 2015",
          "August 2015",
          "July 2015",
          "June 2015",
          "May 2015",
          "April 2015",
          "March 2015",
          "February 2015",
          "January 2015",
          "December 2014",
          "November 2014",
          "October 2014",
          "September 2014",
          "August 2014",
          "July 2014",
          "June 2014",
          "May 2014",
          "April 2014",
          "March 2014",
          "February 2014",
          "January 2014",
          "December 2013",
          "November 2013",
          "October 2013",
          "September 2013",
          "August 2013",
          "July 2013",
          "June 2013"
         ],
         "xaxis": "x",
         "y": [
          391082.08,
          424980.17,
          423156.18,
          421509.96,
          415144.96,
          413784.97,
          390412.76,
          404832.13,
          432671.65,
          422552.32,
          425904.83,
          406361.36,
          408609.78,
          429717.12,
          450213.99,
          457184.42,
          484189.02,
          493300.27,
          437147.36,
          405978.65,
          378925.43,
          384179.76,
          401931.8,
          388355.86,
          421971.24,
          467148.29,
          464787.61,
          507528.44,
          548523.18,
          520218.98,
          586505.85,
          564909.67,
          475747.0,
          439367.83,
          461073.48,
          431173.91,
          466470.74,
          476101.08,
          441714.35,
          473900.0,
          474325.87,
          430340.94,
          437262.35,
          438847.72,
          486861.91,
          513074.33,
          487381.24,
          466126.79,
          491450.16,
          556496.3,
          498444.38,
          555289.07,
          567526.42,
          540278.03,
          548435.44,
          591567.25,
          580281.47,
          593920.6,
          584251.33,
          639355.14,
          622583.9,
          666013.05,
          638212.65,
          640226.98,
          623798.67,
          656944.37,
          672554.89,
          709178.26,
          612174.78,
          573344.25,
          539536.33,
          521941.72,
          508156.85,
          606943.98,
          554991.01,
          568448.32,
          580348.42,
          526061.73,
          571713.15,
          628970.41,
          558504.33,
          523940.32,
          528789.8,
          495693.04,
          477998.45,
          490883.89,
          537018.66,
          513783.06,
          482387.24,
          421710.21,
          409755.56,
          421114.2,
          393860.32,
          366606.49,
          348246.37,
          329677.64,
          312424.76,
          330720.07,
          237800.08,
          210224.82
         ],
         "yaxis": "y"
        }
       ],
       "layout": {
        "legend": {
         "tracegroupgap": 0
        },
        "template": {
         "data": {
          "bar": [
           {
            "error_x": {
             "color": "#2a3f5f"
            },
            "error_y": {
             "color": "#2a3f5f"
            },
            "marker": {
             "line": {
              "color": "#E5ECF6",
              "width": 0.5
             },
             "pattern": {
              "fillmode": "overlay",
              "size": 10,
              "solidity": 0.2
             }
            },
            "type": "bar"
           }
          ],
          "barpolar": [
           {
            "marker": {
             "line": {
              "color": "#E5ECF6",
              "width": 0.5
             },
             "pattern": {
              "fillmode": "overlay",
              "size": 10,
              "solidity": 0.2
             }
            },
            "type": "barpolar"
           }
          ],
          "carpet": [
           {
            "aaxis": {
             "endlinecolor": "#2a3f5f",
             "gridcolor": "white",
             "linecolor": "white",
             "minorgridcolor": "white",
             "startlinecolor": "#2a3f5f"
            },
            "baxis": {
             "endlinecolor": "#2a3f5f",
             "gridcolor": "white",
             "linecolor": "white",
             "minorgridcolor": "white",
             "startlinecolor": "#2a3f5f"
            },
            "type": "carpet"
           }
          ],
          "choropleth": [
           {
            "colorbar": {
             "outlinewidth": 0,
             "ticks": ""
            },
            "type": "choropleth"
           }
          ],
          "contour": [
           {
            "colorbar": {
             "outlinewidth": 0,
             "ticks": ""
            },
            "colorscale": [
             [
              0.0,
              "#0d0887"
             ],
             [
              0.1111111111111111,
              "#46039f"
             ],
             [
              0.2222222222222222,
              "#7201a8"
             ],
             [
              0.3333333333333333,
              "#9c179e"
             ],
             [
              0.4444444444444444,
              "#bd3786"
             ],
             [
              0.5555555555555556,
              "#d8576b"
             ],
             [
              0.6666666666666666,
              "#ed7953"
             ],
             [
              0.7777777777777778,
              "#fb9f3a"
             ],
             [
              0.8888888888888888,
              "#fdca26"
             ],
             [
              1.0,
              "#f0f921"
             ]
            ],
            "type": "contour"
           }
          ],
          "contourcarpet": [
           {
            "colorbar": {
             "outlinewidth": 0,
             "ticks": ""
            },
            "type": "contourcarpet"
           }
          ],
          "heatmap": [
           {
            "colorbar": {
             "outlinewidth": 0,
             "ticks": ""
            },
            "colorscale": [
             [
              0.0,
              "#0d0887"
             ],
             [
              0.1111111111111111,
              "#46039f"
             ],
             [
              0.2222222222222222,
              "#7201a8"
             ],
             [
              0.3333333333333333,
              "#9c179e"
             ],
             [
              0.4444444444444444,
              "#bd3786"
             ],
             [
              0.5555555555555556,
              "#d8576b"
             ],
             [
              0.6666666666666666,
              "#ed7953"
             ],
             [
              0.7777777777777778,
              "#fb9f3a"
             ],
             [
              0.8888888888888888,
              "#fdca26"
             ],
             [
              1.0,
              "#f0f921"
             ]
            ],
            "type": "heatmap"
           }
          ],
          "heatmapgl": [
           {
            "colorbar": {
             "outlinewidth": 0,
             "ticks": ""
            },
            "colorscale": [
             [
              0.0,
              "#0d0887"
             ],
             [
              0.1111111111111111,
              "#46039f"
             ],
             [
              0.2222222222222222,
              "#7201a8"
             ],
             [
              0.3333333333333333,
              "#9c179e"
             ],
             [
              0.4444444444444444,
              "#bd3786"
             ],
             [
              0.5555555555555556,
              "#d8576b"
             ],
             [
              0.6666666666666666,
              "#ed7953"
             ],
             [
              0.7777777777777778,
              "#fb9f3a"
             ],
             [
              0.8888888888888888,
              "#fdca26"
             ],
             [
              1.0,
              "#f0f921"
             ]
            ],
            "type": "heatmapgl"
           }
          ],
          "histogram": [
           {
            "marker": {
             "pattern": {
              "fillmode": "overlay",
              "size": 10,
              "solidity": 0.2
             }
            },
            "type": "histogram"
           }
          ],
          "histogram2d": [
           {
            "colorbar": {
             "outlinewidth": 0,
             "ticks": ""
            },
            "colorscale": [
             [
              0.0,
              "#0d0887"
             ],
             [
              0.1111111111111111,
              "#46039f"
             ],
             [
              0.2222222222222222,
              "#7201a8"
             ],
             [
              0.3333333333333333,
              "#9c179e"
             ],
             [
              0.4444444444444444,
              "#bd3786"
             ],
             [
              0.5555555555555556,
              "#d8576b"
             ],
             [
              0.6666666666666666,
              "#ed7953"
             ],
             [
              0.7777777777777778,
              "#fb9f3a"
             ],
             [
              0.8888888888888888,
              "#fdca26"
             ],
             [
              1.0,
              "#f0f921"
             ]
            ],
            "type": "histogram2d"
           }
          ],
          "histogram2dcontour": [
           {
            "colorbar": {
             "outlinewidth": 0,
             "ticks": ""
            },
            "colorscale": [
             [
              0.0,
              "#0d0887"
             ],
             [
              0.1111111111111111,
              "#46039f"
             ],
             [
              0.2222222222222222,
              "#7201a8"
             ],
             [
              0.3333333333333333,
              "#9c179e"
             ],
             [
              0.4444444444444444,
              "#bd3786"
             ],
             [
              0.5555555555555556,
              "#d8576b"
             ],
             [
              0.6666666666666666,
              "#ed7953"
             ],
             [
              0.7777777777777778,
              "#fb9f3a"
             ],
             [
              0.8888888888888888,
              "#fdca26"
             ],
             [
              1.0,
              "#f0f921"
             ]
            ],
            "type": "histogram2dcontour"
           }
          ],
          "mesh3d": [
           {
            "colorbar": {
             "outlinewidth": 0,
             "ticks": ""
            },
            "type": "mesh3d"
           }
          ],
          "parcoords": [
           {
            "line": {
             "colorbar": {
              "outlinewidth": 0,
              "ticks": ""
             }
            },
            "type": "parcoords"
           }
          ],
          "pie": [
           {
            "automargin": true,
            "type": "pie"
           }
          ],
          "scatter": [
           {
            "marker": {
             "colorbar": {
              "outlinewidth": 0,
              "ticks": ""
             }
            },
            "type": "scatter"
           }
          ],
          "scatter3d": [
           {
            "line": {
             "colorbar": {
              "outlinewidth": 0,
              "ticks": ""
             }
            },
            "marker": {
             "colorbar": {
              "outlinewidth": 0,
              "ticks": ""
             }
            },
            "type": "scatter3d"
           }
          ],
          "scattercarpet": [
           {
            "marker": {
             "colorbar": {
              "outlinewidth": 0,
              "ticks": ""
             }
            },
            "type": "scattercarpet"
           }
          ],
          "scattergeo": [
           {
            "marker": {
             "colorbar": {
              "outlinewidth": 0,
              "ticks": ""
             }
            },
            "type": "scattergeo"
           }
          ],
          "scattergl": [
           {
            "marker": {
             "colorbar": {
              "outlinewidth": 0,
              "ticks": ""
             }
            },
            "type": "scattergl"
           }
          ],
          "scattermapbox": [
           {
            "marker": {
             "colorbar": {
              "outlinewidth": 0,
              "ticks": ""
             }
            },
            "type": "scattermapbox"
           }
          ],
          "scatterpolar": [
           {
            "marker": {
             "colorbar": {
              "outlinewidth": 0,
              "ticks": ""
             }
            },
            "type": "scatterpolar"
           }
          ],
          "scatterpolargl": [
           {
            "marker": {
             "colorbar": {
              "outlinewidth": 0,
              "ticks": ""
             }
            },
            "type": "scatterpolargl"
           }
          ],
          "scatterternary": [
           {
            "marker": {
             "colorbar": {
              "outlinewidth": 0,
              "ticks": ""
             }
            },
            "type": "scatterternary"
           }
          ],
          "surface": [
           {
            "colorbar": {
             "outlinewidth": 0,
             "ticks": ""
            },
            "colorscale": [
             [
              0.0,
              "#0d0887"
             ],
             [
              0.1111111111111111,
              "#46039f"
             ],
             [
              0.2222222222222222,
              "#7201a8"
             ],
             [
              0.3333333333333333,
              "#9c179e"
             ],
             [
              0.4444444444444444,
              "#bd3786"
             ],
             [
              0.5555555555555556,
              "#d8576b"
             ],
             [
              0.6666666666666666,
              "#ed7953"
             ],
             [
              0.7777777777777778,
              "#fb9f3a"
             ],
             [
              0.8888888888888888,
              "#fdca26"
             ],
             [
              1.0,
              "#f0f921"
             ]
            ],
            "type": "surface"
           }
          ],
          "table": [
           {
            "cells": {
             "fill": {
              "color": "#EBF0F8"
             },
             "line": {
              "color": "white"
             }
            },
            "header": {
             "fill": {
              "color": "#C8D4E3"
             },
             "line": {
              "color": "white"
             }
            },
            "type": "table"
           }
          ]
         },
         "layout": {
          "annotationdefaults": {
           "arrowcolor": "#2a3f5f",
           "arrowhead": 0,
           "arrowwidth": 1
          },
          "autotypenumbers": "strict",
          "coloraxis": {
           "colorbar": {
            "outlinewidth": 0,
            "ticks": ""
           }
          },
          "colorscale": {
           "diverging": [
            [
             0,
             "#8e0152"
            ],
            [
             0.1,
             "#c51b7d"
            ],
            [
             0.2,
             "#de77ae"
            ],
            [
             0.3,
             "#f1b6da"
            ],
            [
             0.4,
             "#fde0ef"
            ],
            [
             0.5,
             "#f7f7f7"
            ],
            [
             0.6,
             "#e6f5d0"
            ],
            [
             0.7,
             "#b8e186"
            ],
            [
             0.8,
             "#7fbc41"
            ],
            [
             0.9,
             "#4d9221"
            ],
            [
             1,
             "#276419"
            ]
           ],
           "sequential": [
            [
             0.0,
             "#0d0887"
            ],
            [
             0.1111111111111111,
             "#46039f"
            ],
            [
             0.2222222222222222,
             "#7201a8"
            ],
            [
             0.3333333333333333,
             "#9c179e"
            ],
            [
             0.4444444444444444,
             "#bd3786"
            ],
            [
             0.5555555555555556,
             "#d8576b"
            ],
            [
             0.6666666666666666,
             "#ed7953"
            ],
            [
             0.7777777777777778,
             "#fb9f3a"
            ],
            [
             0.8888888888888888,
             "#fdca26"
            ],
            [
             1.0,
             "#f0f921"
            ]
           ],
           "sequentialminus": [
            [
             0.0,
             "#0d0887"
            ],
            [
             0.1111111111111111,
             "#46039f"
            ],
            [
             0.2222222222222222,
             "#7201a8"
            ],
            [
             0.3333333333333333,
             "#9c179e"
            ],
            [
             0.4444444444444444,
             "#bd3786"
            ],
            [
             0.5555555555555556,
             "#d8576b"
            ],
            [
             0.6666666666666666,
             "#ed7953"
            ],
            [
             0.7777777777777778,
             "#fb9f3a"
            ],
            [
             0.8888888888888888,
             "#fdca26"
            ],
            [
             1.0,
             "#f0f921"
            ]
           ]
          },
          "colorway": [
           "#636efa",
           "#EF553B",
           "#00cc96",
           "#ab63fa",
           "#FFA15A",
           "#19d3f3",
           "#FF6692",
           "#B6E880",
           "#FF97FF",
           "#FECB52"
          ],
          "font": {
           "color": "#2a3f5f"
          },
          "geo": {
           "bgcolor": "white",
           "lakecolor": "white",
           "landcolor": "#E5ECF6",
           "showlakes": true,
           "showland": true,
           "subunitcolor": "white"
          },
          "hoverlabel": {
           "align": "left"
          },
          "hovermode": "closest",
          "mapbox": {
           "style": "light"
          },
          "paper_bgcolor": "white",
          "plot_bgcolor": "#E5ECF6",
          "polar": {
           "angularaxis": {
            "gridcolor": "white",
            "linecolor": "white",
            "ticks": ""
           },
           "bgcolor": "#E5ECF6",
           "radialaxis": {
            "gridcolor": "white",
            "linecolor": "white",
            "ticks": ""
           }
          },
          "scene": {
           "xaxis": {
            "backgroundcolor": "#E5ECF6",
            "gridcolor": "white",
            "gridwidth": 2,
            "linecolor": "white",
            "showbackground": true,
            "ticks": "",
            "zerolinecolor": "white"
           },
           "yaxis": {
            "backgroundcolor": "#E5ECF6",
            "gridcolor": "white",
            "gridwidth": 2,
            "linecolor": "white",
            "showbackground": true,
            "ticks": "",
            "zerolinecolor": "white"
           },
           "zaxis": {
            "backgroundcolor": "#E5ECF6",
            "gridcolor": "white",
            "gridwidth": 2,
            "linecolor": "white",
            "showbackground": true,
            "ticks": "",
            "zerolinecolor": "white"
           }
          },
          "shapedefaults": {
           "line": {
            "color": "#2a3f5f"
           }
          },
          "ternary": {
           "aaxis": {
            "gridcolor": "white",
            "linecolor": "white",
            "ticks": ""
           },
           "baxis": {
            "gridcolor": "white",
            "linecolor": "white",
            "ticks": ""
           },
           "bgcolor": "#E5ECF6",
           "caxis": {
            "gridcolor": "white",
            "linecolor": "white",
            "ticks": ""
           }
          },
          "title": {
           "x": 0.05
          },
          "xaxis": {
           "automargin": true,
           "gridcolor": "white",
           "linecolor": "white",
           "ticks": "",
           "title": {
            "standoff": 15
           },
           "zerolinecolor": "white",
           "zerolinewidth": 2
          },
          "yaxis": {
           "automargin": true,
           "gridcolor": "white",
           "linecolor": "white",
           "ticks": "",
           "title": {
            "standoff": 15
           },
           "zerolinecolor": "white",
           "zerolinewidth": 2
          }
         }
        },
        "title": {
         "text": "Avg Players Over the Years"
        },
        "xaxis": {
         "anchor": "y",
         "domain": [
          0.0,
          1.0
         ],
         "title": {
          "text": "Month_Year"
         }
        },
        "yaxis": {
         "anchor": "x",
         "domain": [
          0.0,
          1.0
         ],
         "title": {
          "text": "Avg_players"
         }
        }
       }
      },
      "text/html": "<div>                            <div id=\"e00a5db3-8c31-48d0-8b31-fea8d1c967d5\" class=\"plotly-graph-div\" style=\"height:525px; width:100%;\"></div>            <script type=\"text/javascript\">                require([\"plotly\"], function(Plotly) {                    window.PLOTLYENV=window.PLOTLYENV || {};                                    if (document.getElementById(\"e00a5db3-8c31-48d0-8b31-fea8d1c967d5\")) {                    Plotly.newPlot(                        \"e00a5db3-8c31-48d0-8b31-fea8d1c967d5\",                        [{\"hovertemplate\":\"Month_Year=%{x}<br>Avg_players=%{y}<extra></extra>\",\"legendgroup\":\"\",\"line\":{\"color\":\"#636efa\",\"dash\":\"solid\"},\"marker\":{\"symbol\":\"circle\"},\"mode\":\"lines\",\"name\":\"\",\"orientation\":\"v\",\"showlegend\":false,\"type\":\"scatter\",\"x\":[\"September 2021\",\"August 2021\",\"July 2021\",\"June 2021\",\"May 2021\",\"April 2021\",\"March 2021\",\"February 2021\",\"January 2021\",\"December 2020\",\"November 2020\",\"October 2020\",\"September 2020\",\"August 2020\",\"July 2020\",\"June 2020\",\"May 2020\",\"April 2020\",\"March 2020\",\"February 2020\",\"January 2020\",\"December 2019\",\"November 2019\",\"October 2019\",\"September 2019\",\"August 2019\",\"July 2019\",\"June 2019\",\"May 2019\",\"April 2019\",\"March 2019\",\"February 2019\",\"January 2019\",\"December 2018\",\"November 2018\",\"October 2018\",\"September 2018\",\"August 2018\",\"July 2018\",\"June 2018\",\"May 2018\",\"April 2018\",\"March 2018\",\"February 2018\",\"January 2018\",\"December 2017\",\"November 2017\",\"October 2017\",\"September 2017\",\"August 2017\",\"July 2017\",\"June 2017\",\"May 2017\",\"April 2017\",\"March 2017\",\"February 2017\",\"January 2017\",\"December 2016\",\"November 2016\",\"October 2016\",\"September 2016\",\"August 2016\",\"July 2016\",\"June 2016\",\"May 2016\",\"April 2016\",\"March 2016\",\"February 2016\",\"January 2016\",\"December 2015\",\"November 2015\",\"October 2015\",\"September 2015\",\"August 2015\",\"July 2015\",\"June 2015\",\"May 2015\",\"April 2015\",\"March 2015\",\"February 2015\",\"January 2015\",\"December 2014\",\"November 2014\",\"October 2014\",\"September 2014\",\"August 2014\",\"July 2014\",\"June 2014\",\"May 2014\",\"April 2014\",\"March 2014\",\"February 2014\",\"January 2014\",\"December 2013\",\"November 2013\",\"October 2013\",\"September 2013\",\"August 2013\",\"July 2013\",\"June 2013\"],\"xaxis\":\"x\",\"y\":[391082.08,424980.17,423156.18,421509.96,415144.96,413784.97,390412.76,404832.13,432671.65,422552.32,425904.83,406361.36,408609.78,429717.12,450213.99,457184.42,484189.02,493300.27,437147.36,405978.65,378925.43,384179.76,401931.8,388355.86,421971.24,467148.29,464787.61,507528.44,548523.18,520218.98,586505.85,564909.67,475747.0,439367.83,461073.48,431173.91,466470.74,476101.08,441714.35,473900.0,474325.87,430340.94,437262.35,438847.72,486861.91,513074.33,487381.24,466126.79,491450.16,556496.3,498444.38,555289.07,567526.42,540278.03,548435.44,591567.25,580281.47,593920.6,584251.33,639355.14,622583.9,666013.05,638212.65,640226.98,623798.67,656944.37,672554.89,709178.26,612174.78,573344.25,539536.33,521941.72,508156.85,606943.98,554991.01,568448.32,580348.42,526061.73,571713.15,628970.41,558504.33,523940.32,528789.8,495693.04,477998.45,490883.89,537018.66,513783.06,482387.24,421710.21,409755.56,421114.2,393860.32,366606.49,348246.37,329677.64,312424.76,330720.07,237800.08,210224.82],\"yaxis\":\"y\"}],                        {\"legend\":{\"tracegroupgap\":0},\"template\":{\"data\":{\"bar\":[{\"error_x\":{\"color\":\"#2a3f5f\"},\"error_y\":{\"color\":\"#2a3f5f\"},\"marker\":{\"line\":{\"color\":\"#E5ECF6\",\"width\":0.5},\"pattern\":{\"fillmode\":\"overlay\",\"size\":10,\"solidity\":0.2}},\"type\":\"bar\"}],\"barpolar\":[{\"marker\":{\"line\":{\"color\":\"#E5ECF6\",\"width\":0.5},\"pattern\":{\"fillmode\":\"overlay\",\"size\":10,\"solidity\":0.2}},\"type\":\"barpolar\"}],\"carpet\":[{\"aaxis\":{\"endlinecolor\":\"#2a3f5f\",\"gridcolor\":\"white\",\"linecolor\":\"white\",\"minorgridcolor\":\"white\",\"startlinecolor\":\"#2a3f5f\"},\"baxis\":{\"endlinecolor\":\"#2a3f5f\",\"gridcolor\":\"white\",\"linecolor\":\"white\",\"minorgridcolor\":\"white\",\"startlinecolor\":\"#2a3f5f\"},\"type\":\"carpet\"}],\"choropleth\":[{\"colorbar\":{\"outlinewidth\":0,\"ticks\":\"\"},\"type\":\"choropleth\"}],\"contour\":[{\"colorbar\":{\"outlinewidth\":0,\"ticks\":\"\"},\"colorscale\":[[0.0,\"#0d0887\"],[0.1111111111111111,\"#46039f\"],[0.2222222222222222,\"#7201a8\"],[0.3333333333333333,\"#9c179e\"],[0.4444444444444444,\"#bd3786\"],[0.5555555555555556,\"#d8576b\"],[0.6666666666666666,\"#ed7953\"],[0.7777777777777778,\"#fb9f3a\"],[0.8888888888888888,\"#fdca26\"],[1.0,\"#f0f921\"]],\"type\":\"contour\"}],\"contourcarpet\":[{\"colorbar\":{\"outlinewidth\":0,\"ticks\":\"\"},\"type\":\"contourcarpet\"}],\"heatmap\":[{\"colorbar\":{\"outlinewidth\":0,\"ticks\":\"\"},\"colorscale\":[[0.0,\"#0d0887\"],[0.1111111111111111,\"#46039f\"],[0.2222222222222222,\"#7201a8\"],[0.3333333333333333,\"#9c179e\"],[0.4444444444444444,\"#bd3786\"],[0.5555555555555556,\"#d8576b\"],[0.6666666666666666,\"#ed7953\"],[0.7777777777777778,\"#fb9f3a\"],[0.8888888888888888,\"#fdca26\"],[1.0,\"#f0f921\"]],\"type\":\"heatmap\"}],\"heatmapgl\":[{\"colorbar\":{\"outlinewidth\":0,\"ticks\":\"\"},\"colorscale\":[[0.0,\"#0d0887\"],[0.1111111111111111,\"#46039f\"],[0.2222222222222222,\"#7201a8\"],[0.3333333333333333,\"#9c179e\"],[0.4444444444444444,\"#bd3786\"],[0.5555555555555556,\"#d8576b\"],[0.6666666666666666,\"#ed7953\"],[0.7777777777777778,\"#fb9f3a\"],[0.8888888888888888,\"#fdca26\"],[1.0,\"#f0f921\"]],\"type\":\"heatmapgl\"}],\"histogram\":[{\"marker\":{\"pattern\":{\"fillmode\":\"overlay\",\"size\":10,\"solidity\":0.2}},\"type\":\"histogram\"}],\"histogram2d\":[{\"colorbar\":{\"outlinewidth\":0,\"ticks\":\"\"},\"colorscale\":[[0.0,\"#0d0887\"],[0.1111111111111111,\"#46039f\"],[0.2222222222222222,\"#7201a8\"],[0.3333333333333333,\"#9c179e\"],[0.4444444444444444,\"#bd3786\"],[0.5555555555555556,\"#d8576b\"],[0.6666666666666666,\"#ed7953\"],[0.7777777777777778,\"#fb9f3a\"],[0.8888888888888888,\"#fdca26\"],[1.0,\"#f0f921\"]],\"type\":\"histogram2d\"}],\"histogram2dcontour\":[{\"colorbar\":{\"outlinewidth\":0,\"ticks\":\"\"},\"colorscale\":[[0.0,\"#0d0887\"],[0.1111111111111111,\"#46039f\"],[0.2222222222222222,\"#7201a8\"],[0.3333333333333333,\"#9c179e\"],[0.4444444444444444,\"#bd3786\"],[0.5555555555555556,\"#d8576b\"],[0.6666666666666666,\"#ed7953\"],[0.7777777777777778,\"#fb9f3a\"],[0.8888888888888888,\"#fdca26\"],[1.0,\"#f0f921\"]],\"type\":\"histogram2dcontour\"}],\"mesh3d\":[{\"colorbar\":{\"outlinewidth\":0,\"ticks\":\"\"},\"type\":\"mesh3d\"}],\"parcoords\":[{\"line\":{\"colorbar\":{\"outlinewidth\":0,\"ticks\":\"\"}},\"type\":\"parcoords\"}],\"pie\":[{\"automargin\":true,\"type\":\"pie\"}],\"scatter\":[{\"marker\":{\"colorbar\":{\"outlinewidth\":0,\"ticks\":\"\"}},\"type\":\"scatter\"}],\"scatter3d\":[{\"line\":{\"colorbar\":{\"outlinewidth\":0,\"ticks\":\"\"}},\"marker\":{\"colorbar\":{\"outlinewidth\":0,\"ticks\":\"\"}},\"type\":\"scatter3d\"}],\"scattercarpet\":[{\"marker\":{\"colorbar\":{\"outlinewidth\":0,\"ticks\":\"\"}},\"type\":\"scattercarpet\"}],\"scattergeo\":[{\"marker\":{\"colorbar\":{\"outlinewidth\":0,\"ticks\":\"\"}},\"type\":\"scattergeo\"}],\"scattergl\":[{\"marker\":{\"colorbar\":{\"outlinewidth\":0,\"ticks\":\"\"}},\"type\":\"scattergl\"}],\"scattermapbox\":[{\"marker\":{\"colorbar\":{\"outlinewidth\":0,\"ticks\":\"\"}},\"type\":\"scattermapbox\"}],\"scatterpolar\":[{\"marker\":{\"colorbar\":{\"outlinewidth\":0,\"ticks\":\"\"}},\"type\":\"scatterpolar\"}],\"scatterpolargl\":[{\"marker\":{\"colorbar\":{\"outlinewidth\":0,\"ticks\":\"\"}},\"type\":\"scatterpolargl\"}],\"scatterternary\":[{\"marker\":{\"colorbar\":{\"outlinewidth\":0,\"ticks\":\"\"}},\"type\":\"scatterternary\"}],\"surface\":[{\"colorbar\":{\"outlinewidth\":0,\"ticks\":\"\"},\"colorscale\":[[0.0,\"#0d0887\"],[0.1111111111111111,\"#46039f\"],[0.2222222222222222,\"#7201a8\"],[0.3333333333333333,\"#9c179e\"],[0.4444444444444444,\"#bd3786\"],[0.5555555555555556,\"#d8576b\"],[0.6666666666666666,\"#ed7953\"],[0.7777777777777778,\"#fb9f3a\"],[0.8888888888888888,\"#fdca26\"],[1.0,\"#f0f921\"]],\"type\":\"surface\"}],\"table\":[{\"cells\":{\"fill\":{\"color\":\"#EBF0F8\"},\"line\":{\"color\":\"white\"}},\"header\":{\"fill\":{\"color\":\"#C8D4E3\"},\"line\":{\"color\":\"white\"}},\"type\":\"table\"}]},\"layout\":{\"annotationdefaults\":{\"arrowcolor\":\"#2a3f5f\",\"arrowhead\":0,\"arrowwidth\":1},\"autotypenumbers\":\"strict\",\"coloraxis\":{\"colorbar\":{\"outlinewidth\":0,\"ticks\":\"\"}},\"colorscale\":{\"diverging\":[[0,\"#8e0152\"],[0.1,\"#c51b7d\"],[0.2,\"#de77ae\"],[0.3,\"#f1b6da\"],[0.4,\"#fde0ef\"],[0.5,\"#f7f7f7\"],[0.6,\"#e6f5d0\"],[0.7,\"#b8e186\"],[0.8,\"#7fbc41\"],[0.9,\"#4d9221\"],[1,\"#276419\"]],\"sequential\":[[0.0,\"#0d0887\"],[0.1111111111111111,\"#46039f\"],[0.2222222222222222,\"#7201a8\"],[0.3333333333333333,\"#9c179e\"],[0.4444444444444444,\"#bd3786\"],[0.5555555555555556,\"#d8576b\"],[0.6666666666666666,\"#ed7953\"],[0.7777777777777778,\"#fb9f3a\"],[0.8888888888888888,\"#fdca26\"],[1.0,\"#f0f921\"]],\"sequentialminus\":[[0.0,\"#0d0887\"],[0.1111111111111111,\"#46039f\"],[0.2222222222222222,\"#7201a8\"],[0.3333333333333333,\"#9c179e\"],[0.4444444444444444,\"#bd3786\"],[0.5555555555555556,\"#d8576b\"],[0.6666666666666666,\"#ed7953\"],[0.7777777777777778,\"#fb9f3a\"],[0.8888888888888888,\"#fdca26\"],[1.0,\"#f0f921\"]]},\"colorway\":[\"#636efa\",\"#EF553B\",\"#00cc96\",\"#ab63fa\",\"#FFA15A\",\"#19d3f3\",\"#FF6692\",\"#B6E880\",\"#FF97FF\",\"#FECB52\"],\"font\":{\"color\":\"#2a3f5f\"},\"geo\":{\"bgcolor\":\"white\",\"lakecolor\":\"white\",\"landcolor\":\"#E5ECF6\",\"showlakes\":true,\"showland\":true,\"subunitcolor\":\"white\"},\"hoverlabel\":{\"align\":\"left\"},\"hovermode\":\"closest\",\"mapbox\":{\"style\":\"light\"},\"paper_bgcolor\":\"white\",\"plot_bgcolor\":\"#E5ECF6\",\"polar\":{\"angularaxis\":{\"gridcolor\":\"white\",\"linecolor\":\"white\",\"ticks\":\"\"},\"bgcolor\":\"#E5ECF6\",\"radialaxis\":{\"gridcolor\":\"white\",\"linecolor\":\"white\",\"ticks\":\"\"}},\"scene\":{\"xaxis\":{\"backgroundcolor\":\"#E5ECF6\",\"gridcolor\":\"white\",\"gridwidth\":2,\"linecolor\":\"white\",\"showbackground\":true,\"ticks\":\"\",\"zerolinecolor\":\"white\"},\"yaxis\":{\"backgroundcolor\":\"#E5ECF6\",\"gridcolor\":\"white\",\"gridwidth\":2,\"linecolor\":\"white\",\"showbackground\":true,\"ticks\":\"\",\"zerolinecolor\":\"white\"},\"zaxis\":{\"backgroundcolor\":\"#E5ECF6\",\"gridcolor\":\"white\",\"gridwidth\":2,\"linecolor\":\"white\",\"showbackground\":true,\"ticks\":\"\",\"zerolinecolor\":\"white\"}},\"shapedefaults\":{\"line\":{\"color\":\"#2a3f5f\"}},\"ternary\":{\"aaxis\":{\"gridcolor\":\"white\",\"linecolor\":\"white\",\"ticks\":\"\"},\"baxis\":{\"gridcolor\":\"white\",\"linecolor\":\"white\",\"ticks\":\"\"},\"bgcolor\":\"#E5ECF6\",\"caxis\":{\"gridcolor\":\"white\",\"linecolor\":\"white\",\"ticks\":\"\"}},\"title\":{\"x\":0.05},\"xaxis\":{\"automargin\":true,\"gridcolor\":\"white\",\"linecolor\":\"white\",\"ticks\":\"\",\"title\":{\"standoff\":15},\"zerolinecolor\":\"white\",\"zerolinewidth\":2},\"yaxis\":{\"automargin\":true,\"gridcolor\":\"white\",\"linecolor\":\"white\",\"ticks\":\"\",\"title\":{\"standoff\":15},\"zerolinecolor\":\"white\",\"zerolinewidth\":2}}},\"title\":{\"text\":\"Avg Players Over the Years\"},\"xaxis\":{\"anchor\":\"y\",\"domain\":[0.0,1.0],\"title\":{\"text\":\"Month_Year\"}},\"yaxis\":{\"anchor\":\"x\",\"domain\":[0.0,1.0],\"title\":{\"text\":\"Avg_players\"}}},                        {\"responsive\": true}                    ).then(function(){\n                            \nvar gd = document.getElementById('e00a5db3-8c31-48d0-8b31-fea8d1c967d5');\nvar x = new MutationObserver(function (mutations, observer) {{\n        var display = window.getComputedStyle(gd).display;\n        if (!display || display === 'none') {{\n            console.log([gd, 'removed!']);\n            Plotly.purge(gd);\n            observer.disconnect();\n        }}\n}});\n\n// Listen for the removal of the full notebook cells\nvar notebookContainer = gd.closest('#notebook-container');\nif (notebookContainer) {{\n    x.observe(notebookContainer, {childList: true});\n}}\n\n// Listen for the clearing of the current output cell\nvar outputEl = gd.closest('.output');\nif (outputEl) {{\n    x.observe(outputEl, {childList: true});\n}}\n\n                        })                };                });            </script>        </div>"
     },
     "metadata": {},
     "output_type": "display_data"
    }
   ],
   "source": [
    "dota4 = px.line(dota3, x=\"Month_Year\", y=\"Avg_players\", title='Avg Players Over the Years')\n",
    "dota.show()\n",
    "\n"
   ],
   "metadata": {
    "collapsed": false,
    "pycharm": {
     "name": "#%%\n"
    }
   }
  }
 ],
 "metadata": {
  "interpreter": {
   "hash": "591cef9e6d350f9149391340e8ebf6775380832abf81dd12559435a29fddadab"
  },
  "kernelspec": {
   "display_name": "Python 3.9.5 64-bit",
   "name": "python3"
  },
  "language_info": {
   "codemirror_mode": {
    "name": "ipython",
    "version": 3
   },
   "file_extension": ".py",
   "mimetype": "text/x-python",
   "name": "python",
   "nbconvert_exporter": "python",
   "pygments_lexer": "ipython3",
   "version": "3.9.5"
  }
 },
 "nbformat": 4,
 "nbformat_minor": 0
}