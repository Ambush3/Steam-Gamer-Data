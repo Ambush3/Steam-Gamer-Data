{
 "cells": [
  {
   "cell_type": "code",
   "execution_count": 44,
   "metadata": {
    "collapsed": true
   },
   "outputs": [],
   "source": [
    "\n",
    "import pandas as pd \n",
    "import matplotlib.pyplot as plt \n",
    "import seaborn as sns \n",
    "import numpy as np\n",
    "import plotly.express as px\n"
   ]
  },
  {
   "cell_type": "code",
   "execution_count": 45,
   "metadata": {
    "collapsed": false,
    "pycharm": {
     "name": "#%%\n"
    }
   },
   "outputs": [
    {
     "data": {
      "text/plain": "       Month_Year  Avg_players       Gain Percent_Gain  Peak_Players  \\\n0  September 2021    512350.92     268.96       +0.05%        942519   \n1     August 2021    512081.96    6014.60       +1.19%        802544   \n2       July 2021    506067.36  -43279.72       -7.88%        763523   \n3       June 2021    549347.08 -110541.81      -16.75%        929940   \n4        May 2021    659888.89  -63457.63       -8.77%       1087197   \n\n                               URL        Date  \\\n0  https://steamcharts.com/app/730  2021-09-01   \n1  https://steamcharts.com/app/730  2021-08-01   \n2  https://steamcharts.com/app/730  2021-07-01   \n3  https://steamcharts.com/app/730  2021-06-01   \n4  https://steamcharts.com/app/730  2021-05-01   \n\n                          Game_Name  \n0  Counter Strike: Global Offensive  \n1  Counter Strike: Global Offensive  \n2  Counter Strike: Global Offensive  \n3  Counter Strike: Global Offensive  \n4  Counter Strike: Global Offensive  ",
      "text/html": "<div>\n<style scoped>\n    .dataframe tbody tr th:only-of-type {\n        vertical-align: middle;\n    }\n\n    .dataframe tbody tr th {\n        vertical-align: top;\n    }\n\n    .dataframe thead th {\n        text-align: right;\n    }\n</style>\n<table border=\"1\" class=\"dataframe\">\n  <thead>\n    <tr style=\"text-align: right;\">\n      <th></th>\n      <th>Month_Year</th>\n      <th>Avg_players</th>\n      <th>Gain</th>\n      <th>Percent_Gain</th>\n      <th>Peak_Players</th>\n      <th>URL</th>\n      <th>Date</th>\n      <th>Game_Name</th>\n    </tr>\n  </thead>\n  <tbody>\n    <tr>\n      <th>0</th>\n      <td>September 2021</td>\n      <td>512350.92</td>\n      <td>268.96</td>\n      <td>+0.05%</td>\n      <td>942519</td>\n      <td>https://steamcharts.com/app/730</td>\n      <td>2021-09-01</td>\n      <td>Counter Strike: Global Offensive</td>\n    </tr>\n    <tr>\n      <th>1</th>\n      <td>August 2021</td>\n      <td>512081.96</td>\n      <td>6014.60</td>\n      <td>+1.19%</td>\n      <td>802544</td>\n      <td>https://steamcharts.com/app/730</td>\n      <td>2021-08-01</td>\n      <td>Counter Strike: Global Offensive</td>\n    </tr>\n    <tr>\n      <th>2</th>\n      <td>July 2021</td>\n      <td>506067.36</td>\n      <td>-43279.72</td>\n      <td>-7.88%</td>\n      <td>763523</td>\n      <td>https://steamcharts.com/app/730</td>\n      <td>2021-07-01</td>\n      <td>Counter Strike: Global Offensive</td>\n    </tr>\n    <tr>\n      <th>3</th>\n      <td>June 2021</td>\n      <td>549347.08</td>\n      <td>-110541.81</td>\n      <td>-16.75%</td>\n      <td>929940</td>\n      <td>https://steamcharts.com/app/730</td>\n      <td>2021-06-01</td>\n      <td>Counter Strike: Global Offensive</td>\n    </tr>\n    <tr>\n      <th>4</th>\n      <td>May 2021</td>\n      <td>659888.89</td>\n      <td>-63457.63</td>\n      <td>-8.77%</td>\n      <td>1087197</td>\n      <td>https://steamcharts.com/app/730</td>\n      <td>2021-05-01</td>\n      <td>Counter Strike: Global Offensive</td>\n    </tr>\n  </tbody>\n</table>\n</div>"
     },
     "execution_count": 45,
     "metadata": {},
     "output_type": "execute_result"
    }
   ],
   "source": [
    "sd = pd.read_csv('F:/PyCharm/Data Visualization/Steam Data/Valve_Player_Data.csv')\n",
    "sd.head()"
   ]
  },
  {
   "cell_type": "code",
   "execution_count": 46,
   "metadata": {
    "collapsed": false,
    "pycharm": {
     "name": "#%%\n"
    }
   },
   "outputs": [
    {
     "name": "stdout",
     "output_type": "stream",
     "text": [
      "<class 'pandas.core.frame.DataFrame'>\n",
      "RangeIndex: 5271 entries, 0 to 5270\n",
      "Data columns (total 8 columns):\n",
      " #   Column        Non-Null Count  Dtype  \n",
      "---  ------        --------------  -----  \n",
      " 0   Month_Year    5271 non-null   object \n",
      " 1   Avg_players   5271 non-null   float64\n",
      " 2   Gain          5173 non-null   float64\n",
      " 3   Percent_Gain  5173 non-null   object \n",
      " 4   Peak_Players  5271 non-null   int64  \n",
      " 5   URL           5271 non-null   object \n",
      " 6   Date          5271 non-null   object \n",
      " 7   Game_Name     5271 non-null   object \n",
      "dtypes: float64(2), int64(1), object(5)\n",
      "memory usage: 329.6+ KB\n"
     ]
    }
   ],
   "source": [
    "sd.info()"
   ]
  },
  {
   "cell_type": "code",
   "execution_count": 47,
   "metadata": {},
   "outputs": [
    {
     "data": {
      "text/plain": "        Avg_players           Gain  Peak_Players\ncount  5.271000e+03    5173.000000  5.271000e+03\nmean   3.763149e+04      92.071786  7.032072e+04\nstd    1.032951e+05   15161.864515  1.941948e+05\nmin    0.000000e+00 -250248.990000  0.000000e+00\n25%    6.720205e+03   -1374.480000  1.302900e+04\n50%    1.235840e+04      -0.080000  2.344700e+04\n75%    2.414976e+04    1255.140000  4.610150e+04\nmax    1.584887e+06  426446.120000  3.236027e+06",
      "text/html": "<div>\n<style scoped>\n    .dataframe tbody tr th:only-of-type {\n        vertical-align: middle;\n    }\n\n    .dataframe tbody tr th {\n        vertical-align: top;\n    }\n\n    .dataframe thead th {\n        text-align: right;\n    }\n</style>\n<table border=\"1\" class=\"dataframe\">\n  <thead>\n    <tr style=\"text-align: right;\">\n      <th></th>\n      <th>Avg_players</th>\n      <th>Gain</th>\n      <th>Peak_Players</th>\n    </tr>\n  </thead>\n  <tbody>\n    <tr>\n      <th>count</th>\n      <td>5.271000e+03</td>\n      <td>5173.000000</td>\n      <td>5.271000e+03</td>\n    </tr>\n    <tr>\n      <th>mean</th>\n      <td>3.763149e+04</td>\n      <td>92.071786</td>\n      <td>7.032072e+04</td>\n    </tr>\n    <tr>\n      <th>std</th>\n      <td>1.032951e+05</td>\n      <td>15161.864515</td>\n      <td>1.941948e+05</td>\n    </tr>\n    <tr>\n      <th>min</th>\n      <td>0.000000e+00</td>\n      <td>-250248.990000</td>\n      <td>0.000000e+00</td>\n    </tr>\n    <tr>\n      <th>25%</th>\n      <td>6.720205e+03</td>\n      <td>-1374.480000</td>\n      <td>1.302900e+04</td>\n    </tr>\n    <tr>\n      <th>50%</th>\n      <td>1.235840e+04</td>\n      <td>-0.080000</td>\n      <td>2.344700e+04</td>\n    </tr>\n    <tr>\n      <th>75%</th>\n      <td>2.414976e+04</td>\n      <td>1255.140000</td>\n      <td>4.610150e+04</td>\n    </tr>\n    <tr>\n      <th>max</th>\n      <td>1.584887e+06</td>\n      <td>426446.120000</td>\n      <td>3.236027e+06</td>\n    </tr>\n  </tbody>\n</table>\n</div>"
     },
     "execution_count": 47,
     "metadata": {},
     "output_type": "execute_result"
    }
   ],
   "source": [
    "sd.describe()"
   ]
  },
  {
   "cell_type": "code",
   "execution_count": 48,
   "metadata": {},
   "outputs": [
    {
     "data": {
      "text/plain": "Index(['Month_Year', 'Avg_players', 'Gain', 'Percent_Gain', 'Peak_Players',\n       'URL', 'Date', 'Game_Name'],\n      dtype='object')"
     },
     "execution_count": 48,
     "metadata": {},
     "output_type": "execute_result"
    }
   ],
   "source": [
    "sd.columns"
   ]
  },
  {
   "cell_type": "code",
   "execution_count": 49,
   "metadata": {
    "pycharm": {
     "name": "#%% Seeing what columns have unused empty data\n"
    }
   },
   "outputs": [
    {
     "data": {
      "text/plain": "Month_Year       0\nAvg_players      0\nGain            98\nPercent_Gain    98\nPeak_Players     0\nURL              0\nDate             0\nGame_Name        0\ndtype: int64"
     },
     "execution_count": 49,
     "metadata": {},
     "output_type": "execute_result"
    }
   ],
   "source": [
    "sd.isna().sum()"
   ]
  },
  {
   "cell_type": "code",
   "execution_count": 50,
   "metadata": {
    "pycharm": {
     "name": "#%% Replacing nan values in our data\n"
    }
   },
   "outputs": [],
   "source": [
    "data_clean = sd\n",
    "\n",
    "data_clean.replace('<nan>', np.nan, inplace=True)\n"
   ]
  },
  {
   "cell_type": "code",
   "execution_count": 51,
   "outputs": [
    {
     "data": {
      "text/plain": "            Avg_players       Gain Percent_Gain  Peak_Players  \\\nMonth_Year                                                      \n2021-09-01    512350.92     268.96       +0.05%        942519   \n2021-08-01    512081.96    6014.60       +1.19%        802544   \n2021-07-01    506067.36  -43279.72       -7.88%        763523   \n2021-06-01    549347.08 -110541.81      -16.75%        929940   \n2021-05-01    659888.89  -63457.63       -8.77%       1087197   \n\n                                        URL        Date  \\\nMonth_Year                                                \n2021-09-01  https://steamcharts.com/app/730  2021-09-01   \n2021-08-01  https://steamcharts.com/app/730  2021-08-01   \n2021-07-01  https://steamcharts.com/app/730  2021-07-01   \n2021-06-01  https://steamcharts.com/app/730  2021-06-01   \n2021-05-01  https://steamcharts.com/app/730  2021-05-01   \n\n                                   Game_Name  \nMonth_Year                                    \n2021-09-01  Counter Strike: Global Offensive  \n2021-08-01  Counter Strike: Global Offensive  \n2021-07-01  Counter Strike: Global Offensive  \n2021-06-01  Counter Strike: Global Offensive  \n2021-05-01  Counter Strike: Global Offensive  ",
      "text/html": "<div>\n<style scoped>\n    .dataframe tbody tr th:only-of-type {\n        vertical-align: middle;\n    }\n\n    .dataframe tbody tr th {\n        vertical-align: top;\n    }\n\n    .dataframe thead th {\n        text-align: right;\n    }\n</style>\n<table border=\"1\" class=\"dataframe\">\n  <thead>\n    <tr style=\"text-align: right;\">\n      <th></th>\n      <th>Avg_players</th>\n      <th>Gain</th>\n      <th>Percent_Gain</th>\n      <th>Peak_Players</th>\n      <th>URL</th>\n      <th>Date</th>\n      <th>Game_Name</th>\n    </tr>\n    <tr>\n      <th>Month_Year</th>\n      <th></th>\n      <th></th>\n      <th></th>\n      <th></th>\n      <th></th>\n      <th></th>\n      <th></th>\n    </tr>\n  </thead>\n  <tbody>\n    <tr>\n      <th>2021-09-01</th>\n      <td>512350.92</td>\n      <td>268.96</td>\n      <td>+0.05%</td>\n      <td>942519</td>\n      <td>https://steamcharts.com/app/730</td>\n      <td>2021-09-01</td>\n      <td>Counter Strike: Global Offensive</td>\n    </tr>\n    <tr>\n      <th>2021-08-01</th>\n      <td>512081.96</td>\n      <td>6014.60</td>\n      <td>+1.19%</td>\n      <td>802544</td>\n      <td>https://steamcharts.com/app/730</td>\n      <td>2021-08-01</td>\n      <td>Counter Strike: Global Offensive</td>\n    </tr>\n    <tr>\n      <th>2021-07-01</th>\n      <td>506067.36</td>\n      <td>-43279.72</td>\n      <td>-7.88%</td>\n      <td>763523</td>\n      <td>https://steamcharts.com/app/730</td>\n      <td>2021-07-01</td>\n      <td>Counter Strike: Global Offensive</td>\n    </tr>\n    <tr>\n      <th>2021-06-01</th>\n      <td>549347.08</td>\n      <td>-110541.81</td>\n      <td>-16.75%</td>\n      <td>929940</td>\n      <td>https://steamcharts.com/app/730</td>\n      <td>2021-06-01</td>\n      <td>Counter Strike: Global Offensive</td>\n    </tr>\n    <tr>\n      <th>2021-05-01</th>\n      <td>659888.89</td>\n      <td>-63457.63</td>\n      <td>-8.77%</td>\n      <td>1087197</td>\n      <td>https://steamcharts.com/app/730</td>\n      <td>2021-05-01</td>\n      <td>Counter Strike: Global Offensive</td>\n    </tr>\n  </tbody>\n</table>\n</div>"
     },
     "execution_count": 51,
     "metadata": {},
     "output_type": "execute_result"
    }
   ],
   "source": [
    "fig = pd.read_csv(\"Valve_Player_Data.csv\", index_col=0, parse_dates=True)\n",
    "fig.head()"
   ],
   "metadata": {
    "collapsed": false,
    "pycharm": {
     "name": "#%% Plotting Average players, Peak players, and Gain from Apr 2013 to Sep 2021\n"
    }
   }
  },
  {
   "cell_type": "code",
   "execution_count": 52,
   "outputs": [
    {
     "data": {
      "text/plain": "<AxesSubplot:xlabel='Month_Year'>"
     },
     "execution_count": 52,
     "metadata": {},
     "output_type": "execute_result"
    },
    {
     "data": {
      "text/plain": "<Figure size 1080x576 with 1 Axes>",
      "image/png": "[encoded data removed]"
     },
     "metadata": {
      "needs_background": "light"
     },
     "output_type": "display_data"
    }
   ],
   "source": [
    "fig.plot(figsize=(15, 8))\n"
   ],
   "metadata": {
    "collapsed": false,
    "pycharm": {
     "name": "#%% Plotting figure\n"
    }
   }
  },
  {
   "cell_type": "code",
   "execution_count": 53,
   "metadata": {
    "pycharm": {
     "name": "#%% Grouping Games by Average Players\n"
    }
   },
   "outputs": [
    {
     "data": {
      "text/plain": "                           Game_Name    Avg_players\n24                            Dota 2  451064.796937\n56               PUBG: Battlegrounds  443975.256545\n14  Counter Strike: Global Offensive  327054.718829\n3                       Apex Legends  120382.517273\n88                           Valheim   72749.180000\n21                         Destiny 2   70873.839167\n41                Grand Theft Auto V   66853.732821\n49                NARAKA: BLADEPOINT   59720.200000\n76                   Team Fortress 2   55087.743243\n83    Tom Clancy's Rainbow Six Seige   53576.636000",
      "text/html": "<div>\n<style scoped>\n    .dataframe tbody tr th:only-of-type {\n        vertical-align: middle;\n    }\n\n    .dataframe tbody tr th {\n        vertical-align: top;\n    }\n\n    .dataframe thead th {\n        text-align: right;\n    }\n</style>\n<table border=\"1\" class=\"dataframe\">\n  <thead>\n    <tr style=\"text-align: right;\">\n      <th></th>\n      <th>Game_Name</th>\n      <th>Avg_players</th>\n    </tr>\n  </thead>\n  <tbody>\n    <tr>\n      <th>24</th>\n      <td>Dota 2</td>\n      <td>451064.796937</td>\n    </tr>\n    <tr>\n      <th>56</th>\n      <td>PUBG: Battlegrounds</td>\n      <td>443975.256545</td>\n    </tr>\n    <tr>\n      <th>14</th>\n      <td>Counter Strike: Global Offensive</td>\n      <td>327054.718829</td>\n    </tr>\n    <tr>\n      <th>3</th>\n      <td>Apex Legends</td>\n      <td>120382.517273</td>\n    </tr>\n    <tr>\n      <th>88</th>\n      <td>Valheim</td>\n      <td>72749.180000</td>\n    </tr>\n    <tr>\n      <th>21</th>\n      <td>Destiny 2</td>\n      <td>70873.839167</td>\n    </tr>\n    <tr>\n      <th>41</th>\n      <td>Grand Theft Auto V</td>\n      <td>66853.732821</td>\n    </tr>\n    <tr>\n      <th>49</th>\n      <td>NARAKA: BLADEPOINT</td>\n      <td>59720.200000</td>\n    </tr>\n    <tr>\n      <th>76</th>\n      <td>Team Fortress 2</td>\n      <td>55087.743243</td>\n    </tr>\n    <tr>\n      <th>83</th>\n      <td>Tom Clancy's Rainbow Six Seige</td>\n      <td>53576.636000</td>\n    </tr>\n  </tbody>\n</table>\n</div>"
     },
     "execution_count": 53,
     "metadata": {},
     "output_type": "execute_result"
    }
   ],
   "source": [
    "sd1 = data_clean.groupby('Game_Name', as_index=False, sort=True)[\n",
    "    'Avg_players'].mean()\n",
    "sd1 = sd1.sort_values('Avg_players', ascending=False)\n",
    "sd1.head(10)\n"
   ]
  },
  {
   "cell_type": "code",
   "execution_count": 54,
   "metadata": {},
   "outputs": [
    {
     "name": "stdout",
     "output_type": "stream",
     "text": [
      "None\n"
     ]
    }
   ],
   "source": [
    "# Creating new CSV for columns Game_Name and Avg_players\n",
    "sd2 = print(sd1.head(10).to_csv(\"sd1.csv\"))\n"
   ]
  },
  {
   "cell_type": "code",
   "execution_count": 55,
   "metadata": {
    "pycharm": {
     "name": "#%%  Taking a look at the CSV\n"
    }
   },
   "outputs": [
    {
     "data": {
      "text/plain": "   Unnamed: 0                         Game_Name    Avg_players\n0          24                            Dota 2  451064.796937\n1          56               PUBG: Battlegrounds  443975.256545\n2          14  Counter Strike: Global Offensive  327054.718829\n3           3                      Apex Legends  120382.517273\n4          88                           Valheim   72749.180000\n5          21                         Destiny 2   70873.839167\n6          41                Grand Theft Auto V   66853.732821\n7          49                NARAKA: BLADEPOINT   59720.200000\n8          76                   Team Fortress 2   55087.743243\n9          83    Tom Clancy's Rainbow Six Seige   53576.636000",
      "text/html": "<div>\n<style scoped>\n    .dataframe tbody tr th:only-of-type {\n        vertical-align: middle;\n    }\n\n    .dataframe tbody tr th {\n        vertical-align: top;\n    }\n\n    .dataframe thead th {\n        text-align: right;\n    }\n</style>\n<table border=\"1\" class=\"dataframe\">\n  <thead>\n    <tr style=\"text-align: right;\">\n      <th></th>\n      <th>Unnamed: 0</th>\n      <th>Game_Name</th>\n      <th>Avg_players</th>\n    </tr>\n  </thead>\n  <tbody>\n    <tr>\n      <th>0</th>\n      <td>24</td>\n      <td>Dota 2</td>\n      <td>451064.796937</td>\n    </tr>\n    <tr>\n      <th>1</th>\n      <td>56</td>\n      <td>PUBG: Battlegrounds</td>\n      <td>443975.256545</td>\n    </tr>\n    <tr>\n      <th>2</th>\n      <td>14</td>\n      <td>Counter Strike: Global Offensive</td>\n      <td>327054.718829</td>\n    </tr>\n    <tr>\n      <th>3</th>\n      <td>3</td>\n      <td>Apex Legends</td>\n      <td>120382.517273</td>\n    </tr>\n    <tr>\n      <th>4</th>\n      <td>88</td>\n      <td>Valheim</td>\n      <td>72749.180000</td>\n    </tr>\n    <tr>\n      <th>5</th>\n      <td>21</td>\n      <td>Destiny 2</td>\n      <td>70873.839167</td>\n    </tr>\n    <tr>\n      <th>6</th>\n      <td>41</td>\n      <td>Grand Theft Auto V</td>\n      <td>66853.732821</td>\n    </tr>\n    <tr>\n      <th>7</th>\n      <td>49</td>\n      <td>NARAKA: BLADEPOINT</td>\n      <td>59720.200000</td>\n    </tr>\n    <tr>\n      <th>8</th>\n      <td>76</td>\n      <td>Team Fortress 2</td>\n      <td>55087.743243</td>\n    </tr>\n    <tr>\n      <th>9</th>\n      <td>83</td>\n      <td>Tom Clancy's Rainbow Six Seige</td>\n      <td>53576.636000</td>\n    </tr>\n  </tbody>\n</table>\n</div>"
     },
     "execution_count": 55,
     "metadata": {},
     "output_type": "execute_result"
    }
   ],
   "source": [
    "sd2 = pd.read_csv('sd1.csv')\n",
    "sd2\n",
    "\n"
   ]
  },
  {
   "cell_type": "code",
   "execution_count": 62,
   "outputs": [
    {
     "data": {
      "text/plain": "Month_Year  April 2013                                                        \\\nGame_Name       Arma 3 Counter Strike: Global Offensive Counter-Strike  Dayz   \nAvg_players    2035.86                          16006.0       21204.46  0.35   \n\nMonth_Year                                                           \\\nGame_Name       Dota 2 Euro Truck Simulator 2 Europa Universalis IV   \nAvg_players  174835.73                 783.62                   0.0   \n\nMonth_Year                                      ... September 2021  \\\nGame_Name   Garry's Mod Left 4 Dead 2 PAYDAY 2  ...        Valheim   \nAvg_players    13753.29       7321.01      4.0  ...       32988.16   \n\nMonth_Year                                                               \\\nGame_Name   Wallpaper Engine War Thunder  Warframe World of Tanks Blitz   \nAvg_players         42727.96    25179.81  46968.35              17285.8   \n\nMonth_Year                                          \\\nGame_Name   World of Warships Yu-Gi-Oh! Duel Links   \nAvg_players           7289.85              8630.43   \n\nMonth_Year                                                                 \nGame_Name   eFootball PES 2021 SEASON UPDATE tModLoader 雀魂麻将(MahjongSoul)  \nAvg_players                          9465.76   11068.81           6926.76  \n\n[1 rows x 5271 columns]",
      "text/html": "<div>\n<style scoped>\n    .dataframe tbody tr th:only-of-type {\n        vertical-align: middle;\n    }\n\n    .dataframe tbody tr th {\n        vertical-align: top;\n    }\n\n    .dataframe thead tr th {\n        text-align: left;\n    }\n</style>\n<table border=\"1\" class=\"dataframe\">\n  <thead>\n    <tr>\n      <th>Month_Year</th>\n      <th colspan=\"10\" halign=\"left\">April 2013</th>\n      <th>...</th>\n      <th colspan=\"10\" halign=\"left\">September 2021</th>\n    </tr>\n    <tr>\n      <th>Game_Name</th>\n      <th>Arma 3</th>\n      <th>Counter Strike: Global Offensive</th>\n      <th>Counter-Strike</th>\n      <th>Dayz</th>\n      <th>Dota 2</th>\n      <th>Euro Truck Simulator 2</th>\n      <th>Europa Universalis IV</th>\n      <th>Garry's Mod</th>\n      <th>Left 4 Dead 2</th>\n      <th>PAYDAY 2</th>\n      <th>...</th>\n      <th>Valheim</th>\n      <th>Wallpaper Engine</th>\n      <th>War Thunder</th>\n      <th>Warframe</th>\n      <th>World of Tanks Blitz</th>\n      <th>World of Warships</th>\n      <th>Yu-Gi-Oh! Duel Links</th>\n      <th>eFootball PES 2021 SEASON UPDATE</th>\n      <th>tModLoader</th>\n      <th>雀魂麻将(MahjongSoul)</th>\n    </tr>\n  </thead>\n  <tbody>\n    <tr>\n      <th>Avg_players</th>\n      <td>2035.86</td>\n      <td>16006.0</td>\n      <td>21204.46</td>\n      <td>0.35</td>\n      <td>174835.73</td>\n      <td>783.62</td>\n      <td>0.0</td>\n      <td>13753.29</td>\n      <td>7321.01</td>\n      <td>4.0</td>\n      <td>...</td>\n      <td>32988.16</td>\n      <td>42727.96</td>\n      <td>25179.81</td>\n      <td>46968.35</td>\n      <td>17285.8</td>\n      <td>7289.85</td>\n      <td>8630.43</td>\n      <td>9465.76</td>\n      <td>11068.81</td>\n      <td>6926.76</td>\n    </tr>\n  </tbody>\n</table>\n<p>1 rows × 5271 columns</p>\n</div>"
     },
     "execution_count": 62,
     "metadata": {},
     "output_type": "execute_result"
    }
   ],
   "source": [
    "df1 = data_clean.pivot_table(columns=['Month_Year', 'Game_Name'], values=['Avg_players'])\n",
    "df1.head(10)\n",
    "\n",
    "# fig = px.line(df1, x=\"Month_Year\", y=\"Avg_players\", color='Game_Name', title='Avg Players Over the Years')\n",
    "# fig.show()"
   ],
   "metadata": {
    "collapsed": false,
    "pycharm": {
     "name": "#%%\n"
    }
   }
  },
  {
   "cell_type": "code",
   "execution_count": null,
   "metadata": {
    "pycharm": {
     "name": "#%% Plotting for which games had the most Average players playing at one time\n"
    }
   },
   "outputs": [],
   "source": [
    "plt.figure(figsize=(15, 8))\n",
    "ax = sns.barplot(x='Game_Name', y='Avg_players', data=sd2)\n",
    "ax.set_xticklabels(ax.get_xticklabels(), rotation=45)\n",
    "\n"
   ]
  },
  {
   "cell_type": "code",
   "execution_count": null,
   "metadata": {
    "pycharm": {
     "name": "#%% Average peak amount of players at one time playing\n"
    }
   },
   "outputs": [],
   "source": [
    "sd3 = data_clean.groupby('Game_Name', as_index=False, sort=True)[\n",
    "    'Peak_Players'].mean()\n",
    "sd3 = sd3.sort_values('Peak_Players', ascending=False)\n",
    "sd3.head(10)\n"
   ]
  },
  {
   "cell_type": "code",
   "execution_count": null,
   "metadata": {
    "pycharm": {
     "name": "#%% Creating a new CSV with the data above\n"
    }
   },
   "outputs": [],
   "source": [
    "print(sd3.head(10).to_csv(\"sd3.csv\"))"
   ]
  },
  {
   "cell_type": "code",
   "execution_count": null,
   "metadata": {},
   "outputs": [],
   "source": [
    "sd4 = pd.read_csv('sd3.csv')\n",
    "sd4\n"
   ]
  },
  {
   "cell_type": "code",
   "execution_count": null,
   "metadata": {
    "pycharm": {
     "name": "#%% Plotting Games by average Peak Player Activity\n"
    }
   },
   "outputs": [],
   "source": [
    "plt.figure(figsize=(15, 8))\n",
    "ax = sns.barplot(x='Game_Name', y='Peak_Players', data=sd4)\n",
    "ax.set_xticklabels(ax.get_xticklabels(), rotation=45)"
   ]
  },
  {
   "cell_type": "code",
   "execution_count": null,
   "metadata": {},
   "outputs": [],
   "source": [
    "data_clean.groupby('Game_Name', as_index=False, sort=False)[\n",
    "    'Peak_Players'].sum()\n",
    "sd5 = data_clean.sort_values('Peak_Players', ascending=False)\n",
    "sd5.head(10)"
   ]
  },
  {
   "cell_type": "code",
   "execution_count": null,
   "metadata": {},
   "outputs": [],
   "source": [
    "plt.figure(figsize=(15, 8))\n",
    "ax = sns.barplot(x='Game_Name', y='Peak_Players', data=sd5)\n",
    "ax.set_xticklabels(ax.get_xticklabels(), rotation=45)\n"
   ]
  }
 ],
 "metadata": {
  "interpreter": {
   "hash": "591cef9e6d350f9149391340e8ebf6775380832abf81dd12559435a29fddadab"
  },
  "kernelspec": {
   "display_name": "Python 3.9.5 64-bit",
   "name": "python3"
  },
  "language_info": {
   "codemirror_mode": {
    "name": "ipython",
    "version": 3
   },
   "file_extension": ".py",
   "mimetype": "text/x-python",
   "name": "python",
   "nbconvert_exporter": "python",
   "pygments_lexer": "ipython3",
   "version": "3.9.5"
  }
 },
 "nbformat": 4,
 "nbformat_minor": 0
}